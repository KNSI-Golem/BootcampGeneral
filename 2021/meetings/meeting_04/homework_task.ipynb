{
 "cells": [
  {
   "cell_type": "code",
   "execution_count": 1,
   "id": "8b152ca4",
   "metadata": {},
   "outputs": [],
   "source": [
    "import pandas as pd\n",
    "import numpy as np\n",
    "\n",
    "from make_classification import evaluate"
   ]
  },
  {
   "cell_type": "markdown",
   "id": "35e645f4",
   "metadata": {},
   "source": [
    "### Data cleaning task\n",
    "\n",
    "Given a `train` (data/adult_train.csv) and `test` (data/adult_train.csv) datasets. Try to get the highest score possible without manipulating on classifiers, but data only. \n",
    "\n",
    "Function contains the function, that performs hyperparameter search using cross validation, and return the best accuracy on `train` and `test` datasets.\n",
    "\n",
    "Evaluation function usage:\n",
    "\n",
    "`evaluate(train_X: pd.DataFrame, train_y: pd.Series, test_X: pd.DataFrame) -> train_acc, test_acc`"
   ]
  },
  {
   "cell_type": "markdown",
   "id": "df7ccb24",
   "metadata": {},
   "source": [
    "###  Import data"
   ]
  },
  {
   "cell_type": "code",
   "execution_count": 2,
   "id": "e59bd2fc",
   "metadata": {},
   "outputs": [],
   "source": [
    "train_data = pd.read_csv(\"data/adult_train_data.csv\")\n",
    "test_features = pd.read_csv(\"data/adult_test_features.csv\")"
   ]
  },
  {
   "cell_type": "markdown",
   "id": "977b31a5",
   "metadata": {},
   "source": [
    "### Experiment and have fun!"
   ]
  },
  {
   "cell_type": "code",
   "execution_count": null,
   "id": "1376dd29",
   "metadata": {},
   "outputs": [],
   "source": []
  }
 ],
 "metadata": {
  "kernelspec": {
   "display_name": "Python 3 (ipykernel)",
   "language": "python",
   "name": "python3"
  },
  "language_info": {
   "codemirror_mode": {
    "name": "ipython",
    "version": 3
   },
   "file_extension": ".py",
   "mimetype": "text/x-python",
   "name": "python",
   "nbconvert_exporter": "python",
   "pygments_lexer": "ipython3",
   "version": "3.7.11"
  }
 },
 "nbformat": 4,
 "nbformat_minor": 5
}
