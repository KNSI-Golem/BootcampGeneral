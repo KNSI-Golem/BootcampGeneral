{
 "cells": [
  {
   "cell_type": "markdown",
   "id": "b7f6c8ca",
   "metadata": {},
   "source": [
    "## Intro"
   ]
  },
  {
   "cell_type": "markdown",
   "id": "ed3663f9",
   "metadata": {},
   "source": [
    "* Plik z danymi - \"olympics_homework.csv\"\n",
    "* Wykonaj zadania z tego notebooka"
   ]
  },
  {
   "cell_type": "markdown",
   "id": "2f088188",
   "metadata": {},
   "source": [
    "## Zadania"
   ]
  },
  {
   "cell_type": "markdown",
   "id": "a3d58b5e",
   "metadata": {},
   "source": [
    "1. Wczytaj dane z pliku .csv\n",
    "2. Stwórz nową df odrzucając ostatni wiersz z main_df - w dalszej pracy korzystaj z nowej df\n",
    "3. Wykonaj histogram pokazujący jak rozkłada się ilość medali \n",
    "4. Wypisz dane państw, które zdobyły więcej złotych medali w igrzyskach zimowych niż w letnich\n",
    "5. Wypisz dane państw, które zdobyły łącznie więcej niż 250 medali w igrzyskach letnich\n",
    "6. Dodaj nową kolumnę 'Efficiency', która pokazuje wydajność państwa w zdobywaniu medali - tzn. stosunek całkowitej ilości zdobytych medali do ilości występów, a następnie posortuj df według tej kolumny malejąco\n",
    "7. Wybierz losowo 5 państw i wykonaj barplot przedstawiający ilości zdobytych przez nie medali (osobno złotych, srebrnych, brązowych) na igrzyskach letnich"
   ]
  }
 ],
 "metadata": {
  "kernelspec": {
   "display_name": "Python 3 (ipykernel)",
   "language": "python",
   "name": "python3"
  },
  "language_info": {
   "codemirror_mode": {
    "name": "ipython",
    "version": 3
   },
   "file_extension": ".py",
   "mimetype": "text/x-python",
   "name": "python",
   "nbconvert_exporter": "python",
   "pygments_lexer": "ipython3",
   "version": "3.7.3"
  }
 },
 "nbformat": 4,
 "nbformat_minor": 5
}
