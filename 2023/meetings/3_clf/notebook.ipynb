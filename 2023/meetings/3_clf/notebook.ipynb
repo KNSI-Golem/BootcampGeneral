{
 "cells": [
  {
   "cell_type": "code",
   "execution_count": null,
   "metadata": {},
   "outputs": [],
   "source": [
    "import os\n",
    "import pandas as pd\n",
    "import numpy as np\n",
    "import matplotlib.pyplot as plt\n",
    "import seaborn as sns\n",
    "from sklearn.metrics import confusion_matrix, classification_report\n",
    "from sklearn.linear_model import LogisticRegression\n",
    "from sklearn.tree import DecisionTreeClassifier, plot_tree\n",
    "from sklearn.model_selection import train_test_split\n"
   ]
  },
  {
   "cell_type": "markdown",
   "metadata": {},
   "source": [
    "## Data"
   ]
  },
  {
   "cell_type": "code",
   "execution_count": null,
   "metadata": {},
   "outputs": [],
   "source": [
    "# Iris dataset: https://en.wikipedia.org/wiki/Iris_flower_data_set\n",
    "# Added some noise to make it harder to classify\n",
    "\n",
    "FTS = ['sepal.length', 'sepal.width', 'petal.length', 'petal.width']\n",
    "TARGET = 'variety'\n",
    "ADD_NOISE = True\n",
    "\n",
    "data = pd.read_csv(os.path.join('data', 'iris.csv'))\n",
    "if ADD_NOISE:\n",
    "    np.random.seed(42)\n",
    "    data[FTS] += np.random.normal(0, 1, data[FTS].shape)\n",
    "\n",
    "data.head()"
   ]
  },
  {
   "cell_type": "code",
   "execution_count": null,
   "metadata": {},
   "outputs": [],
   "source": [
    "data.variety.value_counts()"
   ]
  },
  {
   "cell_type": "markdown",
   "metadata": {},
   "source": [
    "## Split"
   ]
  },
  {
   "cell_type": "code",
   "execution_count": null,
   "metadata": {},
   "outputs": [],
   "source": [
    "X_train, X_test, y_train, y_test = train_test_split(data[FTS], data[TARGET], test_size=0.2, random_state=42)"
   ]
  },
  {
   "cell_type": "markdown",
   "metadata": {},
   "source": [
    "## Logistic Regression"
   ]
  },
  {
   "cell_type": "code",
   "execution_count": null,
   "metadata": {},
   "outputs": [],
   "source": [
    "logreg = LogisticRegression(max_iter=10000, random_state=42)\n",
    "logreg.fit(X_train, y_train)"
   ]
  },
  {
   "cell_type": "code",
   "execution_count": null,
   "metadata": {},
   "outputs": [],
   "source": [
    "def get_cm_scores(model, X_train, y_train, X_test, y_test):\n",
    "    _, axs = plt.subplots(1, 2, figsize=(20, 5))\n",
    "    for i, (name, X, y) in enumerate([(\"train\", X_train, y_train), (\"test\", X_test, y_test)]):\n",
    "        report = classification_report(y, model.predict(X), output_dict=True)[\"macro avg\"]\n",
    "        report[\"accuracy\"] = model.score(X, y)\n",
    "        report = {k: round(v, 3) for k, v in report.items()}\n",
    "        sns.heatmap(confusion_matrix(y, model.predict(X)), annot=True, fmt='d', ax=axs[i]).set_title(name+str(report))"
   ]
  },
  {
   "cell_type": "code",
   "execution_count": null,
   "metadata": {},
   "outputs": [],
   "source": [
    "get_cm_scores(logreg, X_train, y_train, X_test, y_test)"
   ]
  },
  {
   "cell_type": "markdown",
   "metadata": {},
   "source": [
    "## Decision Tree"
   ]
  },
  {
   "cell_type": "code",
   "execution_count": null,
   "metadata": {},
   "outputs": [],
   "source": [
    "tree = DecisionTreeClassifier(random_state=42, max_depth=100)\n",
    "tree.fit(X_train, y_train)"
   ]
  },
  {
   "cell_type": "code",
   "execution_count": null,
   "metadata": {},
   "outputs": [],
   "source": [
    "get_cm_scores(tree, X_train, y_train, X_test, y_test)"
   ]
  },
  {
   "cell_type": "markdown",
   "metadata": {},
   "source": [
    "## Explainability"
   ]
  },
  {
   "cell_type": "code",
   "execution_count": null,
   "metadata": {},
   "outputs": [],
   "source": [
    "logreg.coef_, logreg.intercept_ # coefficients and intercepts"
   ]
  },
  {
   "cell_type": "code",
   "execution_count": null,
   "metadata": {},
   "outputs": [],
   "source": [
    "importances = pd.DataFrame({\"feature\": FTS, \"importance\": np.abs(logreg.coef_).mean(axis=0)})\n",
    "plt.barh(importances.feature, importances.importance)\n",
    "plt.title(\"Feature importances Logistic Regression\")"
   ]
  },
  {
   "cell_type": "code",
   "execution_count": null,
   "metadata": {},
   "outputs": [],
   "source": [
    "importances = pd.DataFrame({\"feature\": FTS, \"importance\": tree.feature_importances_})\n",
    "plt.barh(importances.feature, importances.importance)\n",
    "plt.title(\"Feature importances Decision Tree\")"
   ]
  },
  {
   "cell_type": "code",
   "execution_count": null,
   "metadata": {},
   "outputs": [],
   "source": [
    "_, ax = plt.subplots(figsize=(40, 20))\n",
    "plot_tree(\n",
    "    tree,\n",
    "    feature_names=FTS,\n",
    "    class_names=data.variety.unique(),\n",
    "    filled=True,\n",
    "    rounded=True,\n",
    "    fontsize=14,\n",
    "    ax=ax,\n",
    ")\n",
    "plt.show()"
   ]
  }
 ],
 "metadata": {
  "kernelspec": {
   "display_name": ".venv",
   "language": "python",
   "name": "python3"
  },
  "language_info": {
   "codemirror_mode": {
    "name": "ipython",
    "version": 3
   },
   "file_extension": ".py",
   "mimetype": "text/x-python",
   "name": "python",
   "nbconvert_exporter": "python",
   "pygments_lexer": "ipython3",
   "version": "3.11.6"
  }
 },
 "nbformat": 4,
 "nbformat_minor": 2
}
