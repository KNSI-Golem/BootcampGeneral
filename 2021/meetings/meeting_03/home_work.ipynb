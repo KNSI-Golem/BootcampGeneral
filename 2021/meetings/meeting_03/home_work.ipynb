{
 "cells": [
  {
   "cell_type": "code",
   "execution_count": 1,
   "source": [
    "import numpy as np\r\n",
    "from sklearn.metrics import accuracy_score, precision_score, recall_score, f1_score, confusion_matrix"
   ],
   "outputs": [],
   "metadata": {}
  },
  {
   "cell_type": "markdown",
   "source": [
    "# Metrics implementation\r\n",
    "## Implement 5 metrics you've acknowledged during lecture:\r\n",
    "- confusion matrix\r\n",
    "- accuracy\r\n",
    "- precision\r\n",
    "- recall\r\n",
    "- f1_score\r\n",
    "\r\n",
    "Both for the binary and multiclass classification task\r\n",
    "## **IMPORTANT**: when faced with a multiclass task implement your metric according to the 'macro' average policy ([link](https://scikit-learn.org/stable/modules/generated/sklearn.metrics.precision_score.html))"
   ],
   "metadata": {}
  },
  {
   "cell_type": "code",
   "execution_count": null,
   "source": [
    "from testing_module import test_metric\r\n",
    "def my_confusion_matrix(y_true, y_pred):\r\n",
    "    # your confusion matrix function\r\n",
    "    return  # np.array matrix\r\n",
    "\r\n",
    "def my_accuracy_function(y_true, y_pred):\r\n",
    "    # your accuracy function\r\n",
    "    return # np.float64 or float\r\n",
    "\r\n",
    "def my_recall_function(y_true, y_pred):\r\n",
    "    # your recall function\r\n",
    "    # feel free to use your confusion matrix as a source of TPs, TNs, FPs, FNs\r\n",
    "    return # np.float64 or float\r\n",
    "\r\n",
    "def my_precision_function(y_true, y_pred):\r\n",
    "    # your precision function\r\n",
    "    # feel free to use your confusion matrix as a source of TPs, TNs, FPs, FNs\r\n",
    "    return # np.float64 or float\r\n",
    "\r\n",
    "def my_f1_function(y_true, y_pred):\r\n",
    "    # your f1 function\r\n",
    "    # feel free to use your confusion matrix as a source of TPs, TNs, FPs, FNs\r\n",
    "    return # np.float64 or float\r\n",
    "    "
   ],
   "outputs": [],
   "metadata": {}
  },
  {
   "cell_type": "markdown",
   "source": [
    "# Implementation tests"
   ],
   "metadata": {}
  },
  {
   "cell_type": "code",
   "execution_count": null,
   "source": [
    "test_metric(confusion_matrix, my_confusion_matrix)\r\n",
    "test_metric(accuracy_score, my_accuracy_function)\r\n",
    "test_metric(recall_score, my_recall_function)\r\n",
    "test_metric(precision_score, my_precision_function)\r\n",
    "test_metric(f1_score, my_f1_function)"
   ],
   "outputs": [],
   "metadata": {}
  },
  {
   "cell_type": "markdown",
   "source": [
    "# Classification task\r\n",
    "Using knowledge from the lecture and lecture notebook import data from `/data/seeds_dataset.csv`, train, test and compare models you've already encountered (and extra ones from sklearn if you want :)). Try e.g. to choose the best value of the `max_depth` hyperparameter in the `sklearn.tree.DecisionTreeClassifier()` model\r\n",
    "## Have fun!"
   ],
   "metadata": {}
  },
  {
   "cell_type": "code",
   "execution_count": null,
   "source": [
    "import pandas as pd\r\n",
    "import os\r\n",
    "# data = ?"
   ],
   "outputs": [],
   "metadata": {}
  }
 ],
 "metadata": {
  "orig_nbformat": 4,
  "language_info": {
   "name": "python",
   "version": "3.9.7",
   "mimetype": "text/x-python",
   "codemirror_mode": {
    "name": "ipython",
    "version": 3
   },
   "pygments_lexer": "ipython3",
   "nbconvert_exporter": "python",
   "file_extension": ".py"
  },
  "kernelspec": {
   "name": "python3",
   "display_name": "Python 3.9.7 64-bit ('bootcamp_env': venv)"
  },
  "interpreter": {
   "hash": "ace65784aa7e9cace4b03461b0bc6be7615e214cd5846fd7b0c0876d76dfda3a"
  }
 },
 "nbformat": 4,
 "nbformat_minor": 2
}