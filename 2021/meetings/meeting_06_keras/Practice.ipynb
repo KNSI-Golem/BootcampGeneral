{
 "cells": [
  {
   "cell_type": "code",
   "execution_count": 6,
   "id": "bdb5ba20",
   "metadata": {},
   "outputs": [],
   "source": [
    "# Import najważniejszych bibliotek\n",
    "\n",
    "import tensorflow as tf\n",
    "import numpy as np\n",
    "from tensorflow import keras\n",
    "from keras.regularizers import l2, l1\n",
    "from tensorflow.keras import layers\n",
    "from tensorflow.keras import activations\n",
    "\n",
    "%matplotlib inline\n",
    "import matplotlib.pyplot as plt"
   ]
  },
  {
   "cell_type": "code",
   "execution_count": null,
   "id": "e5cb2b58",
   "metadata": {},
   "outputs": [],
   "source": []
  },
  {
   "cell_type": "markdown",
   "id": "32bfe2d5",
   "metadata": {},
   "source": [
    "## Zadanie end-end realizowane przez was!"
   ]
  },
  {
   "cell_type": "markdown",
   "id": "85371116",
   "metadata": {},
   "source": [
    "Będziecie operować na datasecie CIFAR-10."
   ]
  },
  {
   "cell_type": "markdown",
   "id": "38ab9f7b",
   "metadata": {},
   "source": [
    "### Ładowanie danych"
   ]
  },
  {
   "cell_type": "code",
   "execution_count": null,
   "id": "e6c83e22",
   "metadata": {},
   "outputs": [],
   "source": []
  },
  {
   "cell_type": "markdown",
   "id": "da08e440",
   "metadata": {},
   "source": [
    "### Preprocessing danych\n",
    "- Skalowanie\n",
    "\n"
   ]
  },
  {
   "cell_type": "code",
   "execution_count": null,
   "id": "a08925de",
   "metadata": {},
   "outputs": [],
   "source": []
  },
  {
   "cell_type": "markdown",
   "id": "2c58e97d",
   "metadata": {},
   "source": [
    "### Split na train, val, test"
   ]
  },
  {
   "cell_type": "code",
   "execution_count": null,
   "id": "18f58543",
   "metadata": {},
   "outputs": [],
   "source": []
  },
  {
   "cell_type": "markdown",
   "id": "14d9778f",
   "metadata": {},
   "source": [
    "### Definicja modelu\n",
    "- Różne funkcje aktywacji\n",
    "- SGD vs. Adam\n",
    "- Baseline model vs. Advanced model\n"
   ]
  },
  {
   "cell_type": "code",
   "execution_count": null,
   "id": "07d171c3",
   "metadata": {},
   "outputs": [],
   "source": []
  },
  {
   "cell_type": "markdown",
   "id": "30723b99",
   "metadata": {},
   "source": [
    "### Create training utilities\n",
    "- Callback\n",
    "- Optimizer (probably in model definition)\n",
    "- Loss (metric) function (probably in model definition)\n",
    "- Regularyzacja\n",
    "- Batch Normalization\n",
    "- Dropout"
   ]
  },
  {
   "cell_type": "code",
   "execution_count": null,
   "id": "3fdbed7b",
   "metadata": {},
   "outputs": [],
   "source": []
  },
  {
   "cell_type": "markdown",
   "id": "ba380f13",
   "metadata": {},
   "source": [
    "### Trenowanie modelu"
   ]
  },
  {
   "cell_type": "code",
   "execution_count": null,
   "id": "25ca6c6b",
   "metadata": {},
   "outputs": [],
   "source": []
  },
  {
   "cell_type": "markdown",
   "id": "de0eb5eb",
   "metadata": {},
   "source": [
    "### Ewaluacja"
   ]
  },
  {
   "cell_type": "code",
   "execution_count": null,
   "id": "25f00607",
   "metadata": {},
   "outputs": [],
   "source": []
  }
 ],
 "metadata": {
  "kernelspec": {
   "display_name": "Python 3 (ipykernel)",
   "language": "python",
   "name": "python3"
  },
  "language_info": {
   "codemirror_mode": {
    "name": "ipython",
    "version": 3
   },
   "file_extension": ".py",
   "mimetype": "text/x-python",
   "name": "python",
   "nbconvert_exporter": "python",
   "pygments_lexer": "ipython3",
   "version": "3.7.11"
  }
 },
 "nbformat": 4,
 "nbformat_minor": 5
}
