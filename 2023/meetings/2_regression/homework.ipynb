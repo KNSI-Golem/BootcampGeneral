{
 "cells": [
  {
   "cell_type": "markdown",
   "metadata": {},
   "source": [
    "## Praca domowa - regresja\n",
    "\n",
    "Twoim zadaniem jest przewidywanie jakości wina na podstawie różnych właściwości - pH, zawartość alkoholu, chlorków etc.\n",
    "Targetem jest kolumna \"quality\", która przyjmuje pięć wartości: 3, 4, 5, 6, 7, 8. Możliwe, że Twoje rozwiązanie będzie miało lepszy wynik jeśli będziesz zaokrąglać wyniki swojej predykcji.\n",
    "\n",
    "#### Co dokładnie trzeba zrobić?\n",
    "\n",
    "1. Poznaj swój dataset:\n",
    "    - Które atrybuty są najważniejsze?\n",
    "    - Czy warto [znormalizować](https://pl.wikipedia.org/wiki/Standaryzacja_(statystyka)) dane?\n",
    "\n",
    "\n",
    "2. Przygotuj dane:\n",
    "    - Jak podzielisz dane na testowe i treningowe?\n",
    "    - Czy są wiersze/kolumny, które nie będą Ci potrzebne?\n",
    "    \n",
    "    \n",
    "3. Napisz model:\n",
    "    - Tak długo jak jest to regresja, wszystkie chwyty dozwolone! Możesz użyć makepipeline żeby złożyć parę modeli w jeden, albo spojrzeć do dokumentacji sklearn i poszukać czegoś nowego\n",
    "    \n",
    "    \n",
    "4. Oceń model:\n",
    "    - Jakie wyszło Ci MSE na zbiorze testowym? Generalniee każdy wynik na zbiorze testowym poniżej 0.5 jest całkiem niezły. Mi udało się zejść do 0.31"
   ]
  },
  {
   "cell_type": "code",
   "execution_count": null,
   "metadata": {},
   "outputs": [],
   "source": [
    "import pandas as pd\n",
    "import numpy as np\n",
    "import matplotlib.pyplot as plt\n",
    "import seaborn as sns\n",
    "from sklearn.linear_model import Lasso, BayesianRidge, LassoLars, TweedieRegressor, Ridge, LinearRegression\n",
    "from sklearn.preprocessing import MinMaxScaler, PolynomialFeatures\n",
    "from sklearn.pipeline import make_pipeline\n",
    "from sklearn.ensemble import RandomForestRegressor\n",
    "from sklearn.metrics import mean_squared_error\n",
    "from sklearn.model_selection import train_test_split"
   ]
  },
  {
   "cell_type": "code",
   "execution_count": null,
   "metadata": {},
   "outputs": [],
   "source": [
    "data = pd.read_csv('./data/winequality-red.csv', delimiter=',')"
   ]
  },
  {
   "cell_type": "code",
   "execution_count": null,
   "metadata": {},
   "outputs": [],
   "source": [
    "data.head()"
   ]
  }
 ],
 "metadata": {
  "kernelspec": {
   "display_name": "Python 3",
   "language": "python",
   "name": "python3"
  },
  "language_info": {
   "codemirror_mode": {
    "name": "ipython",
    "version": 3
   },
   "file_extension": ".py",
   "mimetype": "text/x-python",
   "name": "python",
   "nbconvert_exporter": "python",
   "pygments_lexer": "ipython3",
   "version": "3.6.8"
  }
 },
 "nbformat": 4,
 "nbformat_minor": 2
}
