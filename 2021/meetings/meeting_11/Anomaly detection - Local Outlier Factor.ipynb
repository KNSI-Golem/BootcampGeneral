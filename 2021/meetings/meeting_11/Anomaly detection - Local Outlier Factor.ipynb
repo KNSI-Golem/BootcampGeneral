{
 "cells": [
  {
   "cell_type": "code",
   "execution_count": 1,
   "id": "edc5fb3c",
   "metadata": {},
   "outputs": [],
   "source": [
    "import pandas as pd\n",
    "import numpy as np\n",
    "from sklearn.neighbors import LocalOutlierFactor\n",
    "from sklearn.preprocessing import MinMaxScaler\n",
    "from sklearn.decomposition import PCA\n",
    "import matplotlib.pyplot as plt"
   ]
  },
  {
   "cell_type": "markdown",
   "id": "d3af3c5a",
   "metadata": {},
   "source": [
    "## Load the data"
   ]
  },
  {
   "cell_type": "code",
   "execution_count": 2,
   "id": "44029c7f",
   "metadata": {},
   "outputs": [],
   "source": [
    "# original dataset https://data.world/vlad/credit-card-fraud-detection\n",
    "data = pd.read_csv('credit-cards-fraud-detection.csv')"
   ]
  },
  {
   "cell_type": "code",
   "execution_count": 3,
   "id": "27cfb8c9",
   "metadata": {
    "scrolled": true
   },
   "outputs": [
    {
     "data": {
      "text/html": [
       "<div>\n",
       "<style scoped>\n",
       "    .dataframe tbody tr th:only-of-type {\n",
       "        vertical-align: middle;\n",
       "    }\n",
       "\n",
       "    .dataframe tbody tr th {\n",
       "        vertical-align: top;\n",
       "    }\n",
       "\n",
       "    .dataframe thead th {\n",
       "        text-align: right;\n",
       "    }\n",
       "</style>\n",
       "<table border=\"1\" class=\"dataframe\">\n",
       "  <thead>\n",
       "    <tr style=\"text-align: right;\">\n",
       "      <th></th>\n",
       "      <th>Unnamed: 0</th>\n",
       "      <th>Time</th>\n",
       "      <th>V1</th>\n",
       "      <th>V2</th>\n",
       "      <th>V3</th>\n",
       "      <th>V4</th>\n",
       "      <th>V5</th>\n",
       "      <th>V6</th>\n",
       "      <th>V7</th>\n",
       "      <th>V8</th>\n",
       "      <th>...</th>\n",
       "      <th>V21</th>\n",
       "      <th>V22</th>\n",
       "      <th>V23</th>\n",
       "      <th>V24</th>\n",
       "      <th>V25</th>\n",
       "      <th>V26</th>\n",
       "      <th>V27</th>\n",
       "      <th>V28</th>\n",
       "      <th>Amount</th>\n",
       "      <th>Class</th>\n",
       "    </tr>\n",
       "  </thead>\n",
       "  <tbody>\n",
       "    <tr>\n",
       "      <th>count</th>\n",
       "      <td>284807.000000</td>\n",
       "      <td>284807.000000</td>\n",
       "      <td>2.848070e+05</td>\n",
       "      <td>2.848070e+05</td>\n",
       "      <td>2.848070e+05</td>\n",
       "      <td>2.848070e+05</td>\n",
       "      <td>2.848070e+05</td>\n",
       "      <td>2.848070e+05</td>\n",
       "      <td>2.848070e+05</td>\n",
       "      <td>2.848070e+05</td>\n",
       "      <td>...</td>\n",
       "      <td>2.848070e+05</td>\n",
       "      <td>2.848070e+05</td>\n",
       "      <td>2.848070e+05</td>\n",
       "      <td>2.848070e+05</td>\n",
       "      <td>2.848070e+05</td>\n",
       "      <td>2.848070e+05</td>\n",
       "      <td>2.848070e+05</td>\n",
       "      <td>2.848070e+05</td>\n",
       "      <td>284807.000000</td>\n",
       "      <td>284807.000000</td>\n",
       "    </tr>\n",
       "    <tr>\n",
       "      <th>mean</th>\n",
       "      <td>142404.000000</td>\n",
       "      <td>94813.859575</td>\n",
       "      <td>3.918649e-15</td>\n",
       "      <td>5.682686e-16</td>\n",
       "      <td>-8.761736e-15</td>\n",
       "      <td>2.811118e-15</td>\n",
       "      <td>-1.552103e-15</td>\n",
       "      <td>2.040130e-15</td>\n",
       "      <td>-1.698953e-15</td>\n",
       "      <td>-1.893285e-16</td>\n",
       "      <td>...</td>\n",
       "      <td>1.473120e-16</td>\n",
       "      <td>8.042109e-16</td>\n",
       "      <td>5.282512e-16</td>\n",
       "      <td>4.456271e-15</td>\n",
       "      <td>1.426896e-15</td>\n",
       "      <td>1.701640e-15</td>\n",
       "      <td>-3.662252e-16</td>\n",
       "      <td>-1.217809e-16</td>\n",
       "      <td>88.349619</td>\n",
       "      <td>0.001727</td>\n",
       "    </tr>\n",
       "    <tr>\n",
       "      <th>std</th>\n",
       "      <td>82216.843396</td>\n",
       "      <td>47488.145955</td>\n",
       "      <td>1.958696e+00</td>\n",
       "      <td>1.651309e+00</td>\n",
       "      <td>1.516255e+00</td>\n",
       "      <td>1.415869e+00</td>\n",
       "      <td>1.380247e+00</td>\n",
       "      <td>1.332271e+00</td>\n",
       "      <td>1.237094e+00</td>\n",
       "      <td>1.194353e+00</td>\n",
       "      <td>...</td>\n",
       "      <td>7.345240e-01</td>\n",
       "      <td>7.257016e-01</td>\n",
       "      <td>6.244603e-01</td>\n",
       "      <td>6.056471e-01</td>\n",
       "      <td>5.212781e-01</td>\n",
       "      <td>4.822270e-01</td>\n",
       "      <td>4.036325e-01</td>\n",
       "      <td>3.300833e-01</td>\n",
       "      <td>250.120109</td>\n",
       "      <td>0.041527</td>\n",
       "    </tr>\n",
       "    <tr>\n",
       "      <th>min</th>\n",
       "      <td>1.000000</td>\n",
       "      <td>0.000000</td>\n",
       "      <td>-5.640751e+01</td>\n",
       "      <td>-7.271573e+01</td>\n",
       "      <td>-4.832559e+01</td>\n",
       "      <td>-5.683171e+00</td>\n",
       "      <td>-1.137433e+02</td>\n",
       "      <td>-2.616051e+01</td>\n",
       "      <td>-4.355724e+01</td>\n",
       "      <td>-7.321672e+01</td>\n",
       "      <td>...</td>\n",
       "      <td>-3.483038e+01</td>\n",
       "      <td>-1.093314e+01</td>\n",
       "      <td>-4.480774e+01</td>\n",
       "      <td>-2.836627e+00</td>\n",
       "      <td>-1.029540e+01</td>\n",
       "      <td>-2.604551e+00</td>\n",
       "      <td>-2.256568e+01</td>\n",
       "      <td>-1.543008e+01</td>\n",
       "      <td>0.000000</td>\n",
       "      <td>0.000000</td>\n",
       "    </tr>\n",
       "    <tr>\n",
       "      <th>25%</th>\n",
       "      <td>71202.500000</td>\n",
       "      <td>54201.500000</td>\n",
       "      <td>-9.203734e-01</td>\n",
       "      <td>-5.985499e-01</td>\n",
       "      <td>-8.903648e-01</td>\n",
       "      <td>-8.486401e-01</td>\n",
       "      <td>-6.915971e-01</td>\n",
       "      <td>-7.682956e-01</td>\n",
       "      <td>-5.540759e-01</td>\n",
       "      <td>-2.086297e-01</td>\n",
       "      <td>...</td>\n",
       "      <td>-2.283949e-01</td>\n",
       "      <td>-5.423504e-01</td>\n",
       "      <td>-1.618463e-01</td>\n",
       "      <td>-3.545861e-01</td>\n",
       "      <td>-3.171451e-01</td>\n",
       "      <td>-3.269839e-01</td>\n",
       "      <td>-7.083953e-02</td>\n",
       "      <td>-5.295979e-02</td>\n",
       "      <td>5.600000</td>\n",
       "      <td>0.000000</td>\n",
       "    </tr>\n",
       "    <tr>\n",
       "      <th>50%</th>\n",
       "      <td>142404.000000</td>\n",
       "      <td>84692.000000</td>\n",
       "      <td>1.810880e-02</td>\n",
       "      <td>6.548556e-02</td>\n",
       "      <td>1.798463e-01</td>\n",
       "      <td>-1.984653e-02</td>\n",
       "      <td>-5.433583e-02</td>\n",
       "      <td>-2.741871e-01</td>\n",
       "      <td>4.010308e-02</td>\n",
       "      <td>2.235804e-02</td>\n",
       "      <td>...</td>\n",
       "      <td>-2.945017e-02</td>\n",
       "      <td>6.781943e-03</td>\n",
       "      <td>-1.119293e-02</td>\n",
       "      <td>4.097606e-02</td>\n",
       "      <td>1.659350e-02</td>\n",
       "      <td>-5.213911e-02</td>\n",
       "      <td>1.342146e-03</td>\n",
       "      <td>1.124383e-02</td>\n",
       "      <td>22.000000</td>\n",
       "      <td>0.000000</td>\n",
       "    </tr>\n",
       "    <tr>\n",
       "      <th>75%</th>\n",
       "      <td>213605.500000</td>\n",
       "      <td>139320.500000</td>\n",
       "      <td>1.315642e+00</td>\n",
       "      <td>8.037239e-01</td>\n",
       "      <td>1.027196e+00</td>\n",
       "      <td>7.433413e-01</td>\n",
       "      <td>6.119264e-01</td>\n",
       "      <td>3.985649e-01</td>\n",
       "      <td>5.704361e-01</td>\n",
       "      <td>3.273459e-01</td>\n",
       "      <td>...</td>\n",
       "      <td>1.863772e-01</td>\n",
       "      <td>5.285536e-01</td>\n",
       "      <td>1.476421e-01</td>\n",
       "      <td>4.395266e-01</td>\n",
       "      <td>3.507156e-01</td>\n",
       "      <td>2.409522e-01</td>\n",
       "      <td>9.104512e-02</td>\n",
       "      <td>7.827995e-02</td>\n",
       "      <td>77.165000</td>\n",
       "      <td>0.000000</td>\n",
       "    </tr>\n",
       "    <tr>\n",
       "      <th>max</th>\n",
       "      <td>284807.000000</td>\n",
       "      <td>172792.000000</td>\n",
       "      <td>2.454930e+00</td>\n",
       "      <td>2.205773e+01</td>\n",
       "      <td>9.382558e+00</td>\n",
       "      <td>1.687534e+01</td>\n",
       "      <td>3.480167e+01</td>\n",
       "      <td>7.330163e+01</td>\n",
       "      <td>1.205895e+02</td>\n",
       "      <td>2.000721e+01</td>\n",
       "      <td>...</td>\n",
       "      <td>2.720284e+01</td>\n",
       "      <td>1.050309e+01</td>\n",
       "      <td>2.252841e+01</td>\n",
       "      <td>4.584549e+00</td>\n",
       "      <td>7.519589e+00</td>\n",
       "      <td>3.517346e+00</td>\n",
       "      <td>3.161220e+01</td>\n",
       "      <td>3.384781e+01</td>\n",
       "      <td>25691.160000</td>\n",
       "      <td>1.000000</td>\n",
       "    </tr>\n",
       "  </tbody>\n",
       "</table>\n",
       "<p>8 rows × 32 columns</p>\n",
       "</div>"
      ],
      "text/plain": [
       "          Unnamed: 0           Time            V1            V2            V3  \\\n",
       "count  284807.000000  284807.000000  2.848070e+05  2.848070e+05  2.848070e+05   \n",
       "mean   142404.000000   94813.859575  3.918649e-15  5.682686e-16 -8.761736e-15   \n",
       "std     82216.843396   47488.145955  1.958696e+00  1.651309e+00  1.516255e+00   \n",
       "min         1.000000       0.000000 -5.640751e+01 -7.271573e+01 -4.832559e+01   \n",
       "25%     71202.500000   54201.500000 -9.203734e-01 -5.985499e-01 -8.903648e-01   \n",
       "50%    142404.000000   84692.000000  1.810880e-02  6.548556e-02  1.798463e-01   \n",
       "75%    213605.500000  139320.500000  1.315642e+00  8.037239e-01  1.027196e+00   \n",
       "max    284807.000000  172792.000000  2.454930e+00  2.205773e+01  9.382558e+00   \n",
       "\n",
       "                 V4            V5            V6            V7            V8  \\\n",
       "count  2.848070e+05  2.848070e+05  2.848070e+05  2.848070e+05  2.848070e+05   \n",
       "mean   2.811118e-15 -1.552103e-15  2.040130e-15 -1.698953e-15 -1.893285e-16   \n",
       "std    1.415869e+00  1.380247e+00  1.332271e+00  1.237094e+00  1.194353e+00   \n",
       "min   -5.683171e+00 -1.137433e+02 -2.616051e+01 -4.355724e+01 -7.321672e+01   \n",
       "25%   -8.486401e-01 -6.915971e-01 -7.682956e-01 -5.540759e-01 -2.086297e-01   \n",
       "50%   -1.984653e-02 -5.433583e-02 -2.741871e-01  4.010308e-02  2.235804e-02   \n",
       "75%    7.433413e-01  6.119264e-01  3.985649e-01  5.704361e-01  3.273459e-01   \n",
       "max    1.687534e+01  3.480167e+01  7.330163e+01  1.205895e+02  2.000721e+01   \n",
       "\n",
       "       ...           V21           V22           V23           V24  \\\n",
       "count  ...  2.848070e+05  2.848070e+05  2.848070e+05  2.848070e+05   \n",
       "mean   ...  1.473120e-16  8.042109e-16  5.282512e-16  4.456271e-15   \n",
       "std    ...  7.345240e-01  7.257016e-01  6.244603e-01  6.056471e-01   \n",
       "min    ... -3.483038e+01 -1.093314e+01 -4.480774e+01 -2.836627e+00   \n",
       "25%    ... -2.283949e-01 -5.423504e-01 -1.618463e-01 -3.545861e-01   \n",
       "50%    ... -2.945017e-02  6.781943e-03 -1.119293e-02  4.097606e-02   \n",
       "75%    ...  1.863772e-01  5.285536e-01  1.476421e-01  4.395266e-01   \n",
       "max    ...  2.720284e+01  1.050309e+01  2.252841e+01  4.584549e+00   \n",
       "\n",
       "                V25           V26           V27           V28         Amount  \\\n",
       "count  2.848070e+05  2.848070e+05  2.848070e+05  2.848070e+05  284807.000000   \n",
       "mean   1.426896e-15  1.701640e-15 -3.662252e-16 -1.217809e-16      88.349619   \n",
       "std    5.212781e-01  4.822270e-01  4.036325e-01  3.300833e-01     250.120109   \n",
       "min   -1.029540e+01 -2.604551e+00 -2.256568e+01 -1.543008e+01       0.000000   \n",
       "25%   -3.171451e-01 -3.269839e-01 -7.083953e-02 -5.295979e-02       5.600000   \n",
       "50%    1.659350e-02 -5.213911e-02  1.342146e-03  1.124383e-02      22.000000   \n",
       "75%    3.507156e-01  2.409522e-01  9.104512e-02  7.827995e-02      77.165000   \n",
       "max    7.519589e+00  3.517346e+00  3.161220e+01  3.384781e+01   25691.160000   \n",
       "\n",
       "               Class  \n",
       "count  284807.000000  \n",
       "mean        0.001727  \n",
       "std         0.041527  \n",
       "min         0.000000  \n",
       "25%         0.000000  \n",
       "50%         0.000000  \n",
       "75%         0.000000  \n",
       "max         1.000000  \n",
       "\n",
       "[8 rows x 32 columns]"
      ]
     },
     "execution_count": 3,
     "metadata": {},
     "output_type": "execute_result"
    }
   ],
   "source": [
    "data.describe()"
   ]
  },
  {
   "cell_type": "code",
   "execution_count": 4,
   "id": "de66a02e",
   "metadata": {},
   "outputs": [],
   "source": [
    "# drop redundant columns\n",
    "data.drop(columns=['Time', 'Unnamed: 0'], inplace=True)"
   ]
  },
  {
   "cell_type": "code",
   "execution_count": 5,
   "id": "3e9a8cfd",
   "metadata": {
    "scrolled": false
   },
   "outputs": [
    {
     "data": {
      "text/html": [
       "<div>\n",
       "<style scoped>\n",
       "    .dataframe tbody tr th:only-of-type {\n",
       "        vertical-align: middle;\n",
       "    }\n",
       "\n",
       "    .dataframe tbody tr th {\n",
       "        vertical-align: top;\n",
       "    }\n",
       "\n",
       "    .dataframe thead th {\n",
       "        text-align: right;\n",
       "    }\n",
       "</style>\n",
       "<table border=\"1\" class=\"dataframe\">\n",
       "  <thead>\n",
       "    <tr style=\"text-align: right;\">\n",
       "      <th></th>\n",
       "      <th>V1</th>\n",
       "      <th>V2</th>\n",
       "      <th>V3</th>\n",
       "      <th>V4</th>\n",
       "      <th>V5</th>\n",
       "      <th>V6</th>\n",
       "      <th>V7</th>\n",
       "      <th>V8</th>\n",
       "      <th>V9</th>\n",
       "      <th>V10</th>\n",
       "      <th>...</th>\n",
       "      <th>V21</th>\n",
       "      <th>V22</th>\n",
       "      <th>V23</th>\n",
       "      <th>V24</th>\n",
       "      <th>V25</th>\n",
       "      <th>V26</th>\n",
       "      <th>V27</th>\n",
       "      <th>V28</th>\n",
       "      <th>Amount</th>\n",
       "      <th>Class</th>\n",
       "    </tr>\n",
       "  </thead>\n",
       "  <tbody>\n",
       "    <tr>\n",
       "      <th>0</th>\n",
       "      <td>-1.359807</td>\n",
       "      <td>-0.072781</td>\n",
       "      <td>2.536347</td>\n",
       "      <td>1.378155</td>\n",
       "      <td>-0.338321</td>\n",
       "      <td>0.462388</td>\n",
       "      <td>0.239599</td>\n",
       "      <td>0.098698</td>\n",
       "      <td>0.363787</td>\n",
       "      <td>0.090794</td>\n",
       "      <td>...</td>\n",
       "      <td>-0.018307</td>\n",
       "      <td>0.277838</td>\n",
       "      <td>-0.110474</td>\n",
       "      <td>0.066928</td>\n",
       "      <td>0.128539</td>\n",
       "      <td>-0.189115</td>\n",
       "      <td>0.133558</td>\n",
       "      <td>-0.021053</td>\n",
       "      <td>149.62</td>\n",
       "      <td>0</td>\n",
       "    </tr>\n",
       "    <tr>\n",
       "      <th>1</th>\n",
       "      <td>1.191857</td>\n",
       "      <td>0.266151</td>\n",
       "      <td>0.166480</td>\n",
       "      <td>0.448154</td>\n",
       "      <td>0.060018</td>\n",
       "      <td>-0.082361</td>\n",
       "      <td>-0.078803</td>\n",
       "      <td>0.085102</td>\n",
       "      <td>-0.255425</td>\n",
       "      <td>-0.166974</td>\n",
       "      <td>...</td>\n",
       "      <td>-0.225775</td>\n",
       "      <td>-0.638672</td>\n",
       "      <td>0.101288</td>\n",
       "      <td>-0.339846</td>\n",
       "      <td>0.167170</td>\n",
       "      <td>0.125895</td>\n",
       "      <td>-0.008983</td>\n",
       "      <td>0.014724</td>\n",
       "      <td>2.69</td>\n",
       "      <td>0</td>\n",
       "    </tr>\n",
       "    <tr>\n",
       "      <th>2</th>\n",
       "      <td>-1.358354</td>\n",
       "      <td>-1.340163</td>\n",
       "      <td>1.773209</td>\n",
       "      <td>0.379780</td>\n",
       "      <td>-0.503198</td>\n",
       "      <td>1.800499</td>\n",
       "      <td>0.791461</td>\n",
       "      <td>0.247676</td>\n",
       "      <td>-1.514654</td>\n",
       "      <td>0.207643</td>\n",
       "      <td>...</td>\n",
       "      <td>0.247998</td>\n",
       "      <td>0.771679</td>\n",
       "      <td>0.909412</td>\n",
       "      <td>-0.689281</td>\n",
       "      <td>-0.327642</td>\n",
       "      <td>-0.139097</td>\n",
       "      <td>-0.055353</td>\n",
       "      <td>-0.059752</td>\n",
       "      <td>378.66</td>\n",
       "      <td>0</td>\n",
       "    </tr>\n",
       "    <tr>\n",
       "      <th>3</th>\n",
       "      <td>-0.966272</td>\n",
       "      <td>-0.185226</td>\n",
       "      <td>1.792993</td>\n",
       "      <td>-0.863291</td>\n",
       "      <td>-0.010309</td>\n",
       "      <td>1.247203</td>\n",
       "      <td>0.237609</td>\n",
       "      <td>0.377436</td>\n",
       "      <td>-1.387024</td>\n",
       "      <td>-0.054952</td>\n",
       "      <td>...</td>\n",
       "      <td>-0.108300</td>\n",
       "      <td>0.005274</td>\n",
       "      <td>-0.190321</td>\n",
       "      <td>-1.175575</td>\n",
       "      <td>0.647376</td>\n",
       "      <td>-0.221929</td>\n",
       "      <td>0.062723</td>\n",
       "      <td>0.061458</td>\n",
       "      <td>123.50</td>\n",
       "      <td>0</td>\n",
       "    </tr>\n",
       "    <tr>\n",
       "      <th>4</th>\n",
       "      <td>-1.158233</td>\n",
       "      <td>0.877737</td>\n",
       "      <td>1.548718</td>\n",
       "      <td>0.403034</td>\n",
       "      <td>-0.407193</td>\n",
       "      <td>0.095921</td>\n",
       "      <td>0.592941</td>\n",
       "      <td>-0.270533</td>\n",
       "      <td>0.817739</td>\n",
       "      <td>0.753074</td>\n",
       "      <td>...</td>\n",
       "      <td>-0.009431</td>\n",
       "      <td>0.798278</td>\n",
       "      <td>-0.137458</td>\n",
       "      <td>0.141267</td>\n",
       "      <td>-0.206010</td>\n",
       "      <td>0.502292</td>\n",
       "      <td>0.219422</td>\n",
       "      <td>0.215153</td>\n",
       "      <td>69.99</td>\n",
       "      <td>0</td>\n",
       "    </tr>\n",
       "  </tbody>\n",
       "</table>\n",
       "<p>5 rows × 30 columns</p>\n",
       "</div>"
      ],
      "text/plain": [
       "         V1        V2        V3        V4        V5        V6        V7  \\\n",
       "0 -1.359807 -0.072781  2.536347  1.378155 -0.338321  0.462388  0.239599   \n",
       "1  1.191857  0.266151  0.166480  0.448154  0.060018 -0.082361 -0.078803   \n",
       "2 -1.358354 -1.340163  1.773209  0.379780 -0.503198  1.800499  0.791461   \n",
       "3 -0.966272 -0.185226  1.792993 -0.863291 -0.010309  1.247203  0.237609   \n",
       "4 -1.158233  0.877737  1.548718  0.403034 -0.407193  0.095921  0.592941   \n",
       "\n",
       "         V8        V9       V10  ...       V21       V22       V23       V24  \\\n",
       "0  0.098698  0.363787  0.090794  ... -0.018307  0.277838 -0.110474  0.066928   \n",
       "1  0.085102 -0.255425 -0.166974  ... -0.225775 -0.638672  0.101288 -0.339846   \n",
       "2  0.247676 -1.514654  0.207643  ...  0.247998  0.771679  0.909412 -0.689281   \n",
       "3  0.377436 -1.387024 -0.054952  ... -0.108300  0.005274 -0.190321 -1.175575   \n",
       "4 -0.270533  0.817739  0.753074  ... -0.009431  0.798278 -0.137458  0.141267   \n",
       "\n",
       "        V25       V26       V27       V28  Amount  Class  \n",
       "0  0.128539 -0.189115  0.133558 -0.021053  149.62      0  \n",
       "1  0.167170  0.125895 -0.008983  0.014724    2.69      0  \n",
       "2 -0.327642 -0.139097 -0.055353 -0.059752  378.66      0  \n",
       "3  0.647376 -0.221929  0.062723  0.061458  123.50      0  \n",
       "4 -0.206010  0.502292  0.219422  0.215153   69.99      0  \n",
       "\n",
       "[5 rows x 30 columns]"
      ]
     },
     "execution_count": 5,
     "metadata": {},
     "output_type": "execute_result"
    }
   ],
   "source": [
    "data.head()  # categoric and numeric features (continous and discrite)"
   ]
  },
  {
   "cell_type": "code",
   "execution_count": 6,
   "id": "06e3ba46",
   "metadata": {},
   "outputs": [],
   "source": [
    "# rename column\n",
    "data.rename(columns={'Class': 'isFraud'}, inplace=True)"
   ]
  },
  {
   "cell_type": "code",
   "execution_count": 7,
   "id": "6498e7c2",
   "metadata": {},
   "outputs": [],
   "source": [
    "fraud_series = data['isFraud']"
   ]
  },
  {
   "cell_type": "code",
   "execution_count": 8,
   "id": "65efe30e",
   "metadata": {},
   "outputs": [
    {
     "data": {
      "text/html": [
       "<div>\n",
       "<style scoped>\n",
       "    .dataframe tbody tr th:only-of-type {\n",
       "        vertical-align: middle;\n",
       "    }\n",
       "\n",
       "    .dataframe tbody tr th {\n",
       "        vertical-align: top;\n",
       "    }\n",
       "\n",
       "    .dataframe thead th {\n",
       "        text-align: right;\n",
       "    }\n",
       "</style>\n",
       "<table border=\"1\" class=\"dataframe\">\n",
       "  <thead>\n",
       "    <tr style=\"text-align: right;\">\n",
       "      <th></th>\n",
       "      <th>V1</th>\n",
       "      <th>V2</th>\n",
       "      <th>V3</th>\n",
       "      <th>V4</th>\n",
       "      <th>V5</th>\n",
       "      <th>V6</th>\n",
       "      <th>V7</th>\n",
       "      <th>V8</th>\n",
       "      <th>V9</th>\n",
       "      <th>V10</th>\n",
       "      <th>...</th>\n",
       "      <th>V21</th>\n",
       "      <th>V22</th>\n",
       "      <th>V23</th>\n",
       "      <th>V24</th>\n",
       "      <th>V25</th>\n",
       "      <th>V26</th>\n",
       "      <th>V27</th>\n",
       "      <th>V28</th>\n",
       "      <th>Amount</th>\n",
       "      <th>isFraud</th>\n",
       "    </tr>\n",
       "  </thead>\n",
       "  <tbody>\n",
       "    <tr>\n",
       "      <th>0</th>\n",
       "      <td>-1.359807</td>\n",
       "      <td>-0.072781</td>\n",
       "      <td>2.536347</td>\n",
       "      <td>1.378155</td>\n",
       "      <td>-0.338321</td>\n",
       "      <td>0.462388</td>\n",
       "      <td>0.239599</td>\n",
       "      <td>0.098698</td>\n",
       "      <td>0.363787</td>\n",
       "      <td>0.090794</td>\n",
       "      <td>...</td>\n",
       "      <td>-0.018307</td>\n",
       "      <td>0.277838</td>\n",
       "      <td>-0.110474</td>\n",
       "      <td>0.066928</td>\n",
       "      <td>0.128539</td>\n",
       "      <td>-0.189115</td>\n",
       "      <td>0.133558</td>\n",
       "      <td>-0.021053</td>\n",
       "      <td>149.62</td>\n",
       "      <td>0</td>\n",
       "    </tr>\n",
       "    <tr>\n",
       "      <th>1</th>\n",
       "      <td>1.191857</td>\n",
       "      <td>0.266151</td>\n",
       "      <td>0.166480</td>\n",
       "      <td>0.448154</td>\n",
       "      <td>0.060018</td>\n",
       "      <td>-0.082361</td>\n",
       "      <td>-0.078803</td>\n",
       "      <td>0.085102</td>\n",
       "      <td>-0.255425</td>\n",
       "      <td>-0.166974</td>\n",
       "      <td>...</td>\n",
       "      <td>-0.225775</td>\n",
       "      <td>-0.638672</td>\n",
       "      <td>0.101288</td>\n",
       "      <td>-0.339846</td>\n",
       "      <td>0.167170</td>\n",
       "      <td>0.125895</td>\n",
       "      <td>-0.008983</td>\n",
       "      <td>0.014724</td>\n",
       "      <td>2.69</td>\n",
       "      <td>0</td>\n",
       "    </tr>\n",
       "    <tr>\n",
       "      <th>2</th>\n",
       "      <td>-1.358354</td>\n",
       "      <td>-1.340163</td>\n",
       "      <td>1.773209</td>\n",
       "      <td>0.379780</td>\n",
       "      <td>-0.503198</td>\n",
       "      <td>1.800499</td>\n",
       "      <td>0.791461</td>\n",
       "      <td>0.247676</td>\n",
       "      <td>-1.514654</td>\n",
       "      <td>0.207643</td>\n",
       "      <td>...</td>\n",
       "      <td>0.247998</td>\n",
       "      <td>0.771679</td>\n",
       "      <td>0.909412</td>\n",
       "      <td>-0.689281</td>\n",
       "      <td>-0.327642</td>\n",
       "      <td>-0.139097</td>\n",
       "      <td>-0.055353</td>\n",
       "      <td>-0.059752</td>\n",
       "      <td>378.66</td>\n",
       "      <td>0</td>\n",
       "    </tr>\n",
       "    <tr>\n",
       "      <th>3</th>\n",
       "      <td>-0.966272</td>\n",
       "      <td>-0.185226</td>\n",
       "      <td>1.792993</td>\n",
       "      <td>-0.863291</td>\n",
       "      <td>-0.010309</td>\n",
       "      <td>1.247203</td>\n",
       "      <td>0.237609</td>\n",
       "      <td>0.377436</td>\n",
       "      <td>-1.387024</td>\n",
       "      <td>-0.054952</td>\n",
       "      <td>...</td>\n",
       "      <td>-0.108300</td>\n",
       "      <td>0.005274</td>\n",
       "      <td>-0.190321</td>\n",
       "      <td>-1.175575</td>\n",
       "      <td>0.647376</td>\n",
       "      <td>-0.221929</td>\n",
       "      <td>0.062723</td>\n",
       "      <td>0.061458</td>\n",
       "      <td>123.50</td>\n",
       "      <td>0</td>\n",
       "    </tr>\n",
       "    <tr>\n",
       "      <th>4</th>\n",
       "      <td>-1.158233</td>\n",
       "      <td>0.877737</td>\n",
       "      <td>1.548718</td>\n",
       "      <td>0.403034</td>\n",
       "      <td>-0.407193</td>\n",
       "      <td>0.095921</td>\n",
       "      <td>0.592941</td>\n",
       "      <td>-0.270533</td>\n",
       "      <td>0.817739</td>\n",
       "      <td>0.753074</td>\n",
       "      <td>...</td>\n",
       "      <td>-0.009431</td>\n",
       "      <td>0.798278</td>\n",
       "      <td>-0.137458</td>\n",
       "      <td>0.141267</td>\n",
       "      <td>-0.206010</td>\n",
       "      <td>0.502292</td>\n",
       "      <td>0.219422</td>\n",
       "      <td>0.215153</td>\n",
       "      <td>69.99</td>\n",
       "      <td>0</td>\n",
       "    </tr>\n",
       "  </tbody>\n",
       "</table>\n",
       "<p>5 rows × 30 columns</p>\n",
       "</div>"
      ],
      "text/plain": [
       "         V1        V2        V3        V4        V5        V6        V7  \\\n",
       "0 -1.359807 -0.072781  2.536347  1.378155 -0.338321  0.462388  0.239599   \n",
       "1  1.191857  0.266151  0.166480  0.448154  0.060018 -0.082361 -0.078803   \n",
       "2 -1.358354 -1.340163  1.773209  0.379780 -0.503198  1.800499  0.791461   \n",
       "3 -0.966272 -0.185226  1.792993 -0.863291 -0.010309  1.247203  0.237609   \n",
       "4 -1.158233  0.877737  1.548718  0.403034 -0.407193  0.095921  0.592941   \n",
       "\n",
       "         V8        V9       V10  ...       V21       V22       V23       V24  \\\n",
       "0  0.098698  0.363787  0.090794  ... -0.018307  0.277838 -0.110474  0.066928   \n",
       "1  0.085102 -0.255425 -0.166974  ... -0.225775 -0.638672  0.101288 -0.339846   \n",
       "2  0.247676 -1.514654  0.207643  ...  0.247998  0.771679  0.909412 -0.689281   \n",
       "3  0.377436 -1.387024 -0.054952  ... -0.108300  0.005274 -0.190321 -1.175575   \n",
       "4 -0.270533  0.817739  0.753074  ... -0.009431  0.798278 -0.137458  0.141267   \n",
       "\n",
       "        V25       V26       V27       V28  Amount  isFraud  \n",
       "0  0.128539 -0.189115  0.133558 -0.021053  149.62        0  \n",
       "1  0.167170  0.125895 -0.008983  0.014724    2.69        0  \n",
       "2 -0.327642 -0.139097 -0.055353 -0.059752  378.66        0  \n",
       "3  0.647376 -0.221929  0.062723  0.061458  123.50        0  \n",
       "4 -0.206010  0.502292  0.219422  0.215153   69.99        0  \n",
       "\n",
       "[5 rows x 30 columns]"
      ]
     },
     "execution_count": 8,
     "metadata": {},
     "output_type": "execute_result"
    }
   ],
   "source": [
    "data.head()"
   ]
  },
  {
   "cell_type": "markdown",
   "id": "20e3d94d",
   "metadata": {},
   "source": [
    "# Use PCA to reduce dataset size"
   ]
  },
  {
   "cell_type": "markdown",
   "id": "de8dffa7",
   "metadata": {},
   "source": [
    "### First rescale data"
   ]
  },
  {
   "cell_type": "code",
   "execution_count": 9,
   "id": "ab3b1267",
   "metadata": {},
   "outputs": [],
   "source": [
    "scaler = MinMaxScaler()\n",
    "data_rescaled = scaler.fit_transform(data)"
   ]
  },
  {
   "cell_type": "markdown",
   "id": "a387087d",
   "metadata": {},
   "source": [
    "We need to pick appropriate number of components that would explain variance of the data set between 92–99%."
   ]
  },
  {
   "cell_type": "code",
   "execution_count": 10,
   "id": "8b2140d6",
   "metadata": {},
   "outputs": [],
   "source": [
    "pca = PCA(n_components = 0.92)\n",
    "pca.fit(data_rescaled)\n",
    "data_reduced = pca.transform(data_rescaled)"
   ]
  },
  {
   "cell_type": "markdown",
   "id": "833e2a4b",
   "metadata": {},
   "source": [
    "### Plot number of components and score"
   ]
  },
  {
   "cell_type": "code",
   "execution_count": 11,
   "id": "16f3149b",
   "metadata": {
    "scrolled": false
   },
   "outputs": [
    {
     "data": {
      "image/png": "[encoded data removed]",
      "text/plain": [
       "<Figure size 864x432 with 1 Axes>"
      ]
     },
     "metadata": {
      "needs_background": "light"
     },
     "output_type": "display_data"
    }
   ],
   "source": [
    "pca = PCA().fit(data_rescaled)\n",
    "\n",
    "plt.rcParams[\"figure.figsize\"] = (12,6)\n",
    "\n",
    "fig, ax = plt.subplots()\n",
    "xi = np.arange(1, 31, step=1)\n",
    "y = np.cumsum(pca.explained_variance_ratio_)\n",
    "\n",
    "plt.ylim(0.0,1.1)\n",
    "plt.plot(xi, y, marker='o', linestyle='--', color='b')\n",
    "\n",
    "plt.xlabel('Number of Components')\n",
    "plt.xticks(np.arange(0, 31, step=1)) #change from 0-based array index to 1-based human-readable label\n",
    "plt.ylabel('Cumulative variance (%)')\n",
    "plt.title('The number of components needed to explain variance')\n",
    "\n",
    "plt.axhline(y=0.92, color='r', linestyle='-')\n",
    "plt.text(0.5, 0.85, '95% cut-off threshold', color = 'red', fontsize=16)\n",
    "\n",
    "ax.grid(axis='x')\n",
    "plt.show()"
   ]
  },
  {
   "cell_type": "code",
   "execution_count": 12,
   "id": "d548621e",
   "metadata": {},
   "outputs": [],
   "source": [
    "data = pd.DataFrame(data_reduced)  # create dataframe with\n",
    "data['isFraud'] = fraud_series"
   ]
  },
  {
   "cell_type": "markdown",
   "id": "b205e75e",
   "metadata": {},
   "source": [
    "### How many anomalies are in the data set"
   ]
  },
  {
   "cell_type": "code",
   "execution_count": 13,
   "id": "1f81d548",
   "metadata": {
    "scrolled": true
   },
   "outputs": [
    {
     "name": "stdout",
     "output_type": "stream",
     "text": [
      "Data set contains: 284315 normal observations and anomalies: 492\n",
      "Contamination: 0.0017%\n"
     ]
    }
   ],
   "source": [
    "n_normal_data = data['isFraud'].value_counts()[0]\n",
    "n_anomalies = data['isFraud'].value_counts()[1]\n",
    "print(f'Data set contains: {n_normal_data} normal observations and anomalies: {n_anomalies}')\n",
    "print('Contamination: {}%'.format(round(n_anomalies/n_normal_data, 4)))"
   ]
  },
  {
   "cell_type": "code",
   "execution_count": 14,
   "id": "7d4407b3",
   "metadata": {},
   "outputs": [],
   "source": [
    "# remap isFraud column values, because the IsolationForest algorithm assigns a '-1' label for anomalies and '1' for normal observations \n",
    "data[\"isFraud\"] = data[\"isFraud\"].map({1: -1, 0: 1})"
   ]
  },
  {
   "cell_type": "code",
   "execution_count": 15,
   "id": "18479963",
   "metadata": {},
   "outputs": [
    {
     "data": {
      "text/html": [
       "<div>\n",
       "<style scoped>\n",
       "    .dataframe tbody tr th:only-of-type {\n",
       "        vertical-align: middle;\n",
       "    }\n",
       "\n",
       "    .dataframe tbody tr th {\n",
       "        vertical-align: top;\n",
       "    }\n",
       "\n",
       "    .dataframe thead th {\n",
       "        text-align: right;\n",
       "    }\n",
       "</style>\n",
       "<table border=\"1\" class=\"dataframe\">\n",
       "  <thead>\n",
       "    <tr style=\"text-align: right;\">\n",
       "      <th></th>\n",
       "      <th>0</th>\n",
       "      <th>1</th>\n",
       "      <th>2</th>\n",
       "      <th>3</th>\n",
       "      <th>4</th>\n",
       "      <th>5</th>\n",
       "      <th>6</th>\n",
       "      <th>7</th>\n",
       "      <th>8</th>\n",
       "      <th>9</th>\n",
       "      <th>10</th>\n",
       "      <th>11</th>\n",
       "      <th>12</th>\n",
       "      <th>13</th>\n",
       "      <th>14</th>\n",
       "      <th>isFraud</th>\n",
       "    </tr>\n",
       "  </thead>\n",
       "  <tbody>\n",
       "    <tr>\n",
       "      <th>0</th>\n",
       "      <td>0.008999</td>\n",
       "      <td>-0.030861</td>\n",
       "      <td>-0.076764</td>\n",
       "      <td>0.109652</td>\n",
       "      <td>0.048914</td>\n",
       "      <td>0.030656</td>\n",
       "      <td>-0.049852</td>\n",
       "      <td>-0.001507</td>\n",
       "      <td>0.004754</td>\n",
       "      <td>0.019588</td>\n",
       "      <td>-0.010591</td>\n",
       "      <td>-0.012169</td>\n",
       "      <td>0.021349</td>\n",
       "      <td>0.022335</td>\n",
       "      <td>-0.007790</td>\n",
       "      <td>1</td>\n",
       "    </tr>\n",
       "    <tr>\n",
       "      <th>1</th>\n",
       "      <td>-0.045849</td>\n",
       "      <td>0.020594</td>\n",
       "      <td>0.037812</td>\n",
       "      <td>0.047311</td>\n",
       "      <td>0.011959</td>\n",
       "      <td>0.040651</td>\n",
       "      <td>0.084343</td>\n",
       "      <td>-0.004900</td>\n",
       "      <td>-0.041333</td>\n",
       "      <td>-0.021875</td>\n",
       "      <td>0.020755</td>\n",
       "      <td>0.028797</td>\n",
       "      <td>-0.023114</td>\n",
       "      <td>0.002608</td>\n",
       "      <td>-0.009506</td>\n",
       "      <td>1</td>\n",
       "    </tr>\n",
       "    <tr>\n",
       "      <th>2</th>\n",
       "      <td>-0.092867</td>\n",
       "      <td>-0.022750</td>\n",
       "      <td>0.055535</td>\n",
       "      <td>0.175351</td>\n",
       "      <td>-0.142099</td>\n",
       "      <td>0.105534</td>\n",
       "      <td>0.040551</td>\n",
       "      <td>0.005063</td>\n",
       "      <td>0.008331</td>\n",
       "      <td>-0.049954</td>\n",
       "      <td>-0.003552</td>\n",
       "      <td>-0.035001</td>\n",
       "      <td>0.022413</td>\n",
       "      <td>-0.007762</td>\n",
       "      <td>0.018815</td>\n",
       "      <td>1</td>\n",
       "    </tr>\n",
       "    <tr>\n",
       "      <th>3</th>\n",
       "      <td>-0.158295</td>\n",
       "      <td>-0.036367</td>\n",
       "      <td>0.039412</td>\n",
       "      <td>-0.046898</td>\n",
       "      <td>-0.109538</td>\n",
       "      <td>0.001588</td>\n",
       "      <td>-0.009424</td>\n",
       "      <td>-0.124709</td>\n",
       "      <td>0.045125</td>\n",
       "      <td>-0.046715</td>\n",
       "      <td>0.009454</td>\n",
       "      <td>0.000046</td>\n",
       "      <td>0.010928</td>\n",
       "      <td>-0.005180</td>\n",
       "      <td>-0.036366</td>\n",
       "      <td>1</td>\n",
       "    </tr>\n",
       "    <tr>\n",
       "      <th>4</th>\n",
       "      <td>0.019048</td>\n",
       "      <td>0.082020</td>\n",
       "      <td>0.104204</td>\n",
       "      <td>0.013102</td>\n",
       "      <td>0.055714</td>\n",
       "      <td>-0.023870</td>\n",
       "      <td>-0.054023</td>\n",
       "      <td>0.007461</td>\n",
       "      <td>0.000571</td>\n",
       "      <td>0.020324</td>\n",
       "      <td>0.042182</td>\n",
       "      <td>-0.036953</td>\n",
       "      <td>0.007723</td>\n",
       "      <td>0.026096</td>\n",
       "      <td>0.011142</td>\n",
       "      <td>1</td>\n",
       "    </tr>\n",
       "  </tbody>\n",
       "</table>\n",
       "</div>"
      ],
      "text/plain": [
       "          0         1         2         3         4         5         6  \\\n",
       "0  0.008999 -0.030861 -0.076764  0.109652  0.048914  0.030656 -0.049852   \n",
       "1 -0.045849  0.020594  0.037812  0.047311  0.011959  0.040651  0.084343   \n",
       "2 -0.092867 -0.022750  0.055535  0.175351 -0.142099  0.105534  0.040551   \n",
       "3 -0.158295 -0.036367  0.039412 -0.046898 -0.109538  0.001588 -0.009424   \n",
       "4  0.019048  0.082020  0.104204  0.013102  0.055714 -0.023870 -0.054023   \n",
       "\n",
       "          7         8         9        10        11        12        13  \\\n",
       "0 -0.001507  0.004754  0.019588 -0.010591 -0.012169  0.021349  0.022335   \n",
       "1 -0.004900 -0.041333 -0.021875  0.020755  0.028797 -0.023114  0.002608   \n",
       "2  0.005063  0.008331 -0.049954 -0.003552 -0.035001  0.022413 -0.007762   \n",
       "3 -0.124709  0.045125 -0.046715  0.009454  0.000046  0.010928 -0.005180   \n",
       "4  0.007461  0.000571  0.020324  0.042182 -0.036953  0.007723  0.026096   \n",
       "\n",
       "         14  isFraud  \n",
       "0 -0.007790        1  \n",
       "1 -0.009506        1  \n",
       "2  0.018815        1  \n",
       "3 -0.036366        1  \n",
       "4  0.011142        1  "
      ]
     },
     "execution_count": 15,
     "metadata": {},
     "output_type": "execute_result"
    }
   ],
   "source": [
    "data.head()"
   ]
  },
  {
   "cell_type": "markdown",
   "id": "4428fabd",
   "metadata": {},
   "source": [
    "## Isolation Forest algorithm"
   ]
  },
  {
   "cell_type": "code",
   "execution_count": 16,
   "id": "308e8d56",
   "metadata": {},
   "outputs": [],
   "source": [
    "X, y = data.loc[:,:14], data.loc[:,'isFraud':]"
   ]
  },
  {
   "cell_type": "markdown",
   "id": "8aa043ea",
   "metadata": {},
   "source": [
    "Declare Isolation Forest algoirthm with appropriate parameters. We set contamination parameter to 'auto' as in real world most of the time we don't know the amount of anomalies/outliers in our dataset."
   ]
  },
  {
   "cell_type": "code",
   "execution_count": 17,
   "id": "7033e41f",
   "metadata": {
    "scrolled": true
   },
   "outputs": [
    {
     "data": {
      "text/plain": [
       "Index([0, 1, 2, 3, 4, 5, 6, 7, 8, 9, 10, 11, 12, 13, 14], dtype='object')"
      ]
     },
     "execution_count": 17,
     "metadata": {},
     "output_type": "execute_result"
    }
   ],
   "source": [
    "X.columns"
   ]
  },
  {
   "cell_type": "markdown",
   "id": "57ef2695",
   "metadata": {},
   "source": [
    "Time spent fitting model with data reduced PCA (15 components) took around 2 minutes.  "
   ]
  },
  {
   "cell_type": "code",
   "execution_count": 18,
   "id": "521fdf62",
   "metadata": {
    "scrolled": false
   },
   "outputs": [
    {
     "name": "stdout",
     "output_type": "stream",
     "text": [
      "Wall time: 1min 48s\n"
     ]
    }
   ],
   "source": [
    "%%time\n",
    "model = LocalOutlierFactor(contamination='auto',\n",
    "                        n_neighbors = 20,\n",
    "                        leaf_size = 30,\n",
    "                        metric = 'minkowski',\n",
    "                        n_jobs = -1) # use all cpu cores\n",
    "data[\"isAnomaly\"] = model.fit_predict(X)"
   ]
  },
  {
   "cell_type": "code",
   "execution_count": 19,
   "id": "01ccb1d0",
   "metadata": {
    "scrolled": false
   },
   "outputs": [
    {
     "data": {
      "text/plain": [
       " 1    260845\n",
       "-1     23962\n",
       "Name: isAnomaly, dtype: int64"
      ]
     },
     "execution_count": 19,
     "metadata": {},
     "output_type": "execute_result"
    }
   ],
   "source": [
    "data[\"isAnomaly\"].value_counts()"
   ]
  },
  {
   "cell_type": "markdown",
   "id": "d4d07f69",
   "metadata": {},
   "source": [
    "Model predictions"
   ]
  },
  {
   "cell_type": "code",
   "execution_count": 20,
   "id": "ebda6267",
   "metadata": {},
   "outputs": [
    {
     "name": "stdout",
     "output_type": "stream",
     "text": [
      "According to model predictions, data set contains: 260845 normal observations and anomalies: 23962\n",
      "Contamination: 0.0919%\n"
     ]
    }
   ],
   "source": [
    "n_normal_data = data['isAnomaly'].value_counts()[1]\n",
    "n_anomalies = data['isAnomaly'].value_counts()[-1]\n",
    "predicted_contamination = round(n_anomalies/n_normal_data, 4)\n",
    "\n",
    "print(f'According to model predictions, data set contains: {n_normal_data} normal observations and anomalies: {n_anomalies}')\n",
    "print('Contamination: {}%'.format(predicted_contamination))"
   ]
  },
  {
   "cell_type": "code",
   "execution_count": 21,
   "id": "6da100af",
   "metadata": {},
   "outputs": [],
   "source": [
    "# add column with scores for each observation - how the model is certain that the observation is an outlier\n",
    "data['anomaly_score'] = model.negative_outlier_factor_"
   ]
  },
  {
   "cell_type": "code",
   "execution_count": 22,
   "id": "b09cab4e",
   "metadata": {},
   "outputs": [
    {
     "name": "stdout",
     "output_type": "stream",
     "text": [
      "Observation score below which model decides it is an anomaly: -1.5\n"
     ]
    }
   ],
   "source": [
    "print(f'Observation score below which model decides it is an anomaly: {model.offset_}')"
   ]
  },
  {
   "cell_type": "markdown",
   "id": "550e8172",
   "metadata": {},
   "source": [
    "## Plot score distribution"
   ]
  },
  {
   "cell_type": "code",
   "execution_count": 23,
   "id": "afe321de",
   "metadata": {},
   "outputs": [],
   "source": [
    "def plt_score_distribution(threshold):\n",
    "    ax = data['anomaly_score'].hist(bins=60)\n",
    "\n",
    "    mean = data['anomaly_score'].mean()\n",
    "    ax.axvline(mean, color='r', linestyle='dashed', linewidth=2)\n",
    "    plt.text(mean, 30000, 'Mean:\\n{:.4f}'.format(mean), color='r', size=18)\n",
    "    ax.axvline(threshold, color='b', linestyle='dashed', linewidth=2)\n",
    "    plt.text(threshold, 25000, 'Threshold:\\n{:.4f}'.format(threshold), color='b', size=18)"
   ]
  },
  {
   "cell_type": "markdown",
   "id": "f9be271a",
   "metadata": {},
   "source": [
    "### Plot anomaly score distribution and threshold "
   ]
  },
  {
   "cell_type": "code",
   "execution_count": 24,
   "id": "5326d715",
   "metadata": {
    "scrolled": false
   },
   "outputs": [
    {
     "data": {
      "image/png": "[encoded data removed]",
      "text/plain": [
       "<Figure size 1152x720 with 1 Axes>"
      ]
     },
     "metadata": {
      "needs_background": "light"
     },
     "output_type": "display_data"
    }
   ],
   "source": [
    "# original treshold\n",
    "plt.figure(figsize = (16, 10))\n",
    "plt_score_distribution(model.offset_)"
   ]
  },
  {
   "cell_type": "markdown",
   "id": "803fc469",
   "metadata": {},
   "source": [
    "The plot is not as clear as with the Isolation Forest algorithm. That is because LOF's anomaly score range differ siggnificantly. Let's see the highest and lowest score:"
   ]
  },
  {
   "cell_type": "code",
   "execution_count": 25,
   "id": "76cd1a8f",
   "metadata": {},
   "outputs": [
    {
     "name": "stdout",
     "output_type": "stream",
     "text": [
      "LOF's highest anomaly score is: -0.8562960278594813\n",
      "LOF's lowest anomaly score is: -1030248983.6073339\n"
     ]
    }
   ],
   "source": [
    "print(f\"LOF's highest anomaly score is: {data['anomaly_score'].max()}\")\n",
    "print(f\"LOF's lowest anomaly score is: {data['anomaly_score'].min()}\")"
   ]
  },
  {
   "cell_type": "markdown",
   "id": "7a094263",
   "metadata": {},
   "source": [
    "## Score model"
   ]
  },
  {
   "cell_type": "code",
   "execution_count": 26,
   "id": "53beaf42",
   "metadata": {},
   "outputs": [],
   "source": [
    "from sklearn.metrics import precision_score, accuracy_score, recall_score"
   ]
  },
  {
   "cell_type": "markdown",
   "id": "daef3053",
   "metadata": {},
   "source": [
    "To score the model we need to once again remap anomaly labels for two columns: predicted by the model and original one"
   ]
  },
  {
   "cell_type": "code",
   "execution_count": 27,
   "id": "eaf969ef",
   "metadata": {},
   "outputs": [],
   "source": [
    "data['isFraud'] = data['isFraud'].map({1: 0, -1: 1})\n",
    "data['isAnomaly'] = data['isAnomaly'].map({1: 0, -1: 1})"
   ]
  },
  {
   "cell_type": "code",
   "execution_count": 28,
   "id": "5e90e06c",
   "metadata": {},
   "outputs": [],
   "source": [
    "def score_model(predictions, real):\n",
    "    print('Model predictions for anomalies:')\n",
    "    print('Precision: ', precision_score(real, predictions))\n",
    "    print('Accuracy: ', accuracy_score(real, predictions))\n",
    "    print('Recall: ', recall_score(real, predictions))"
   ]
  },
  {
   "cell_type": "code",
   "execution_count": 29,
   "id": "7e39807c",
   "metadata": {
    "scrolled": true
   },
   "outputs": [
    {
     "name": "stdout",
     "output_type": "stream",
     "text": [
      "Model predictions for anomalies:\n",
      "Precision:  0.0003755946915950255\n",
      "Accuracy:  0.9142015470125383\n",
      "Recall:  0.018292682926829267\n"
     ]
    }
   ],
   "source": [
    "score_model(data['isAnomaly'], data['isFraud'])"
   ]
  },
  {
   "cell_type": "markdown",
   "id": "dad0d0b6",
   "metadata": {},
   "source": [
    "### Create confusion matrix of predictions"
   ]
  },
  {
   "cell_type": "code",
   "execution_count": 30,
   "id": "808f0224",
   "metadata": {},
   "outputs": [],
   "source": [
    "cf = pd.crosstab(data['isAnomaly'],\n",
    "                 data['isFraud'],\n",
    "                 colnames=['Real'],\n",
    "                 rownames=['Predicted'])"
   ]
  },
  {
   "cell_type": "code",
   "execution_count": 31,
   "id": "d4536ba2",
   "metadata": {
    "scrolled": true
   },
   "outputs": [
    {
     "data": {
      "text/html": [
       "<div>\n",
       "<style scoped>\n",
       "    .dataframe tbody tr th:only-of-type {\n",
       "        vertical-align: middle;\n",
       "    }\n",
       "\n",
       "    .dataframe tbody tr th {\n",
       "        vertical-align: top;\n",
       "    }\n",
       "\n",
       "    .dataframe thead th {\n",
       "        text-align: right;\n",
       "    }\n",
       "</style>\n",
       "<table border=\"1\" class=\"dataframe\">\n",
       "  <thead>\n",
       "    <tr style=\"text-align: right;\">\n",
       "      <th>Real</th>\n",
       "      <th>0</th>\n",
       "      <th>1</th>\n",
       "    </tr>\n",
       "    <tr>\n",
       "      <th>Predicted</th>\n",
       "      <th></th>\n",
       "      <th></th>\n",
       "    </tr>\n",
       "  </thead>\n",
       "  <tbody>\n",
       "    <tr>\n",
       "      <th>0</th>\n",
       "      <td>260362</td>\n",
       "      <td>483</td>\n",
       "    </tr>\n",
       "    <tr>\n",
       "      <th>1</th>\n",
       "      <td>23953</td>\n",
       "      <td>9</td>\n",
       "    </tr>\n",
       "  </tbody>\n",
       "</table>\n",
       "</div>"
      ],
      "text/plain": [
       "Real            0    1\n",
       "Predicted             \n",
       "0          260362  483\n",
       "1           23953    9"
      ]
     },
     "execution_count": 31,
     "metadata": {},
     "output_type": "execute_result"
    }
   ],
   "source": [
    "cf"
   ]
  },
  {
   "cell_type": "markdown",
   "id": "4fdcbae6",
   "metadata": {},
   "source": [
    "### Results interpretation"
   ]
  },
  {
   "cell_type": "markdown",
   "id": "ffc0af6b",
   "metadata": {},
   "source": [
    "Model did handled well the outlier detection since the recall score (amount of outliers predicted by the model and the real outliers in the data set) is fairly high. On the other hand, the precison score of the model is low meaning that a lot of transactions were incorectly classified as outliers.\n",
    "\n",
    "To achieve better scores we can tune model's parameters or modify the threshold for which observation is considered as outlier."
   ]
  },
  {
   "cell_type": "markdown",
   "id": "d7d25a3b",
   "metadata": {},
   "source": [
    "## Modyfying threshold with IQR rule"
   ]
  },
  {
   "cell_type": "code",
   "execution_count": 32,
   "id": "463fd36e",
   "metadata": {
    "scrolled": true
   },
   "outputs": [
    {
     "name": "stdout",
     "output_type": "stream",
     "text": [
      "Modified threshold is:-1.5264781806691645\n"
     ]
    }
   ],
   "source": [
    "def iqr_bounds(scores, k=1.5):\n",
    "    q1 = scores.quantile(0.25)\n",
    "    q3 = scores.quantile(0.75)\n",
    "    iqr = q3 - q1\n",
    "    lower_bound=(q1 - k * iqr)\n",
    "    upper_bound=(q3 + k * iqr)  # we need only lower bound since our scores are outlier samples have negative score\n",
    "    print(\"Modified threshold is:{}\".format(lower_bound))\n",
    "    return lower_bound\n",
    "\n",
    "modified_threshold=iqr_bounds(data['anomaly_score'], k=1.5)"
   ]
  },
  {
   "cell_type": "markdown",
   "id": "b06171d4",
   "metadata": {},
   "source": [
    "### Assign new anomaly labels using new threshold"
   ]
  },
  {
   "cell_type": "code",
   "execution_count": 33,
   "id": "03ae3249",
   "metadata": {},
   "outputs": [],
   "source": [
    "conditions  = [\n",
    "    (data['anomaly_score'] < modified_threshold)\n",
    "]\n",
    "choices = [1]\n",
    "    \n",
    "data['isAnomaly_new_threshold'] = np.select(conditions, choices, default=0)"
   ]
  },
  {
   "cell_type": "code",
   "execution_count": 34,
   "id": "1bd674b8",
   "metadata": {},
   "outputs": [
    {
     "name": "stdout",
     "output_type": "stream",
     "text": [
      "According to model predictions with modified threshold, data set contains: 262789 normal observations and anomalies: 22018\n",
      "Contamination: 0.0919%\n"
     ]
    }
   ],
   "source": [
    "n_normal_data = data['isAnomaly_new_threshold'].value_counts()[0]\n",
    "n_anomalies = data['isAnomaly_new_threshold'].value_counts()[1]\n",
    "predicted_contamination_modified_threshold = round(n_anomalies/n_normal_data, 4)\n",
    "\n",
    "print(f'According to model predictions with modified threshold, data set contains: {n_normal_data} normal observations and anomalies: {n_anomalies}')\n",
    "print('Contamination: {}%'.format(predicted_contamination))"
   ]
  },
  {
   "cell_type": "markdown",
   "id": "a0ce4a2b",
   "metadata": {},
   "source": [
    "Amount of outliers predicted by the model (contamination) has dropped significantly. Now our recall metric should increase, because we assign an outlier label to these observations that have smaller anomaly score."
   ]
  },
  {
   "cell_type": "code",
   "execution_count": 35,
   "id": "9eb02f87",
   "metadata": {
    "scrolled": false
   },
   "outputs": [
    {
     "data": {
      "image/png": "[encoded data removed]",
      "text/plain": [
       "<Figure size 1152x720 with 1 Axes>"
      ]
     },
     "metadata": {
      "needs_background": "light"
     },
     "output_type": "display_data"
    }
   ],
   "source": [
    "plt.figure(figsize = (16, 10))\n",
    "plt_score_distribution(modified_threshold)"
   ]
  },
  {
   "cell_type": "markdown",
   "id": "6b36e81b",
   "metadata": {},
   "source": [
    "Let's view our performance metrics one again "
   ]
  },
  {
   "cell_type": "code",
   "execution_count": 36,
   "id": "dcf780aa",
   "metadata": {},
   "outputs": [],
   "source": [
    "cf = pd.crosstab(data['isAnomaly_new_threshold'],\n",
    "                 data['isFraud'],\n",
    "                 colnames=['Real'],\n",
    "                 rownames=['Predicted'])"
   ]
  },
  {
   "cell_type": "code",
   "execution_count": 37,
   "id": "5643b7ce",
   "metadata": {},
   "outputs": [
    {
     "data": {
      "text/html": [
       "<div>\n",
       "<style scoped>\n",
       "    .dataframe tbody tr th:only-of-type {\n",
       "        vertical-align: middle;\n",
       "    }\n",
       "\n",
       "    .dataframe tbody tr th {\n",
       "        vertical-align: top;\n",
       "    }\n",
       "\n",
       "    .dataframe thead th {\n",
       "        text-align: right;\n",
       "    }\n",
       "</style>\n",
       "<table border=\"1\" class=\"dataframe\">\n",
       "  <thead>\n",
       "    <tr style=\"text-align: right;\">\n",
       "      <th></th>\n",
       "      <th>0</th>\n",
       "      <th>1</th>\n",
       "      <th>2</th>\n",
       "      <th>3</th>\n",
       "      <th>4</th>\n",
       "      <th>5</th>\n",
       "      <th>6</th>\n",
       "      <th>7</th>\n",
       "      <th>8</th>\n",
       "      <th>9</th>\n",
       "      <th>10</th>\n",
       "      <th>11</th>\n",
       "      <th>12</th>\n",
       "      <th>13</th>\n",
       "      <th>14</th>\n",
       "      <th>isFraud</th>\n",
       "      <th>isAnomaly</th>\n",
       "      <th>anomaly_score</th>\n",
       "      <th>isAnomaly_new_threshold</th>\n",
       "    </tr>\n",
       "  </thead>\n",
       "  <tbody>\n",
       "    <tr>\n",
       "      <th>0</th>\n",
       "      <td>0.008999</td>\n",
       "      <td>-0.030861</td>\n",
       "      <td>-0.076764</td>\n",
       "      <td>0.109652</td>\n",
       "      <td>0.048914</td>\n",
       "      <td>0.030656</td>\n",
       "      <td>-0.049852</td>\n",
       "      <td>-0.001507</td>\n",
       "      <td>0.004754</td>\n",
       "      <td>0.019588</td>\n",
       "      <td>-0.010591</td>\n",
       "      <td>-0.012169</td>\n",
       "      <td>0.021349</td>\n",
       "      <td>0.022335</td>\n",
       "      <td>-0.007790</td>\n",
       "      <td>0</td>\n",
       "      <td>0</td>\n",
       "      <td>-1.167481</td>\n",
       "      <td>0</td>\n",
       "    </tr>\n",
       "    <tr>\n",
       "      <th>1</th>\n",
       "      <td>-0.045849</td>\n",
       "      <td>0.020594</td>\n",
       "      <td>0.037812</td>\n",
       "      <td>0.047311</td>\n",
       "      <td>0.011959</td>\n",
       "      <td>0.040651</td>\n",
       "      <td>0.084343</td>\n",
       "      <td>-0.004900</td>\n",
       "      <td>-0.041333</td>\n",
       "      <td>-0.021875</td>\n",
       "      <td>0.020755</td>\n",
       "      <td>0.028797</td>\n",
       "      <td>-0.023114</td>\n",
       "      <td>0.002608</td>\n",
       "      <td>-0.009506</td>\n",
       "      <td>0</td>\n",
       "      <td>0</td>\n",
       "      <td>-1.075972</td>\n",
       "      <td>0</td>\n",
       "    </tr>\n",
       "    <tr>\n",
       "      <th>2</th>\n",
       "      <td>-0.092867</td>\n",
       "      <td>-0.022750</td>\n",
       "      <td>0.055535</td>\n",
       "      <td>0.175351</td>\n",
       "      <td>-0.142099</td>\n",
       "      <td>0.105534</td>\n",
       "      <td>0.040551</td>\n",
       "      <td>0.005063</td>\n",
       "      <td>0.008331</td>\n",
       "      <td>-0.049954</td>\n",
       "      <td>-0.003552</td>\n",
       "      <td>-0.035001</td>\n",
       "      <td>0.022413</td>\n",
       "      <td>-0.007762</td>\n",
       "      <td>0.018815</td>\n",
       "      <td>0</td>\n",
       "      <td>0</td>\n",
       "      <td>-1.055251</td>\n",
       "      <td>0</td>\n",
       "    </tr>\n",
       "    <tr>\n",
       "      <th>3</th>\n",
       "      <td>-0.158295</td>\n",
       "      <td>-0.036367</td>\n",
       "      <td>0.039412</td>\n",
       "      <td>-0.046898</td>\n",
       "      <td>-0.109538</td>\n",
       "      <td>0.001588</td>\n",
       "      <td>-0.009424</td>\n",
       "      <td>-0.124709</td>\n",
       "      <td>0.045125</td>\n",
       "      <td>-0.046715</td>\n",
       "      <td>0.009454</td>\n",
       "      <td>0.000046</td>\n",
       "      <td>0.010928</td>\n",
       "      <td>-0.005180</td>\n",
       "      <td>-0.036366</td>\n",
       "      <td>0</td>\n",
       "      <td>0</td>\n",
       "      <td>-1.157833</td>\n",
       "      <td>0</td>\n",
       "    </tr>\n",
       "    <tr>\n",
       "      <th>4</th>\n",
       "      <td>0.019048</td>\n",
       "      <td>0.082020</td>\n",
       "      <td>0.104204</td>\n",
       "      <td>0.013102</td>\n",
       "      <td>0.055714</td>\n",
       "      <td>-0.023870</td>\n",
       "      <td>-0.054023</td>\n",
       "      <td>0.007461</td>\n",
       "      <td>0.000571</td>\n",
       "      <td>0.020324</td>\n",
       "      <td>0.042182</td>\n",
       "      <td>-0.036953</td>\n",
       "      <td>0.007723</td>\n",
       "      <td>0.026096</td>\n",
       "      <td>0.011142</td>\n",
       "      <td>0</td>\n",
       "      <td>0</td>\n",
       "      <td>-1.044681</td>\n",
       "      <td>0</td>\n",
       "    </tr>\n",
       "    <tr>\n",
       "      <th>...</th>\n",
       "      <td>...</td>\n",
       "      <td>...</td>\n",
       "      <td>...</td>\n",
       "      <td>...</td>\n",
       "      <td>...</td>\n",
       "      <td>...</td>\n",
       "      <td>...</td>\n",
       "      <td>...</td>\n",
       "      <td>...</td>\n",
       "      <td>...</td>\n",
       "      <td>...</td>\n",
       "      <td>...</td>\n",
       "      <td>...</td>\n",
       "      <td>...</td>\n",
       "      <td>...</td>\n",
       "      <td>...</td>\n",
       "      <td>...</td>\n",
       "      <td>...</td>\n",
       "      <td>...</td>\n",
       "    </tr>\n",
       "    <tr>\n",
       "      <th>284802</th>\n",
       "      <td>-0.068410</td>\n",
       "      <td>0.040659</td>\n",
       "      <td>-0.053122</td>\n",
       "      <td>-0.068493</td>\n",
       "      <td>-0.106045</td>\n",
       "      <td>-0.079449</td>\n",
       "      <td>-0.068691</td>\n",
       "      <td>-0.017617</td>\n",
       "      <td>-0.040569</td>\n",
       "      <td>0.027339</td>\n",
       "      <td>0.083676</td>\n",
       "      <td>0.003417</td>\n",
       "      <td>0.227339</td>\n",
       "      <td>-0.117264</td>\n",
       "      <td>-0.080086</td>\n",
       "      <td>0</td>\n",
       "      <td>0</td>\n",
       "      <td>-1.231122</td>\n",
       "      <td>0</td>\n",
       "    </tr>\n",
       "    <tr>\n",
       "      <th>284803</th>\n",
       "      <td>-0.136882</td>\n",
       "      <td>-0.064632</td>\n",
       "      <td>0.094063</td>\n",
       "      <td>0.087201</td>\n",
       "      <td>-0.117643</td>\n",
       "      <td>0.031624</td>\n",
       "      <td>0.015144</td>\n",
       "      <td>0.087342</td>\n",
       "      <td>-0.014213</td>\n",
       "      <td>0.007860</td>\n",
       "      <td>0.044166</td>\n",
       "      <td>-0.043001</td>\n",
       "      <td>0.004452</td>\n",
       "      <td>0.008860</td>\n",
       "      <td>0.033857</td>\n",
       "      <td>0</td>\n",
       "      <td>0</td>\n",
       "      <td>-1.119683</td>\n",
       "      <td>0</td>\n",
       "    </tr>\n",
       "    <tr>\n",
       "      <th>284804</th>\n",
       "      <td>0.086282</td>\n",
       "      <td>-0.014272</td>\n",
       "      <td>-0.014211</td>\n",
       "      <td>0.099435</td>\n",
       "      <td>-0.047500</td>\n",
       "      <td>0.003748</td>\n",
       "      <td>0.030101</td>\n",
       "      <td>-0.027329</td>\n",
       "      <td>0.006932</td>\n",
       "      <td>0.013527</td>\n",
       "      <td>0.011062</td>\n",
       "      <td>-0.028228</td>\n",
       "      <td>-0.035828</td>\n",
       "      <td>-0.004468</td>\n",
       "      <td>-0.014195</td>\n",
       "      <td>0</td>\n",
       "      <td>1</td>\n",
       "      <td>-1.528530</td>\n",
       "      <td>1</td>\n",
       "    </tr>\n",
       "    <tr>\n",
       "      <th>284805</th>\n",
       "      <td>0.016630</td>\n",
       "      <td>0.089276</td>\n",
       "      <td>-0.080603</td>\n",
       "      <td>0.146790</td>\n",
       "      <td>0.192120</td>\n",
       "      <td>-0.106969</td>\n",
       "      <td>-0.135219</td>\n",
       "      <td>-0.063163</td>\n",
       "      <td>0.029619</td>\n",
       "      <td>0.024857</td>\n",
       "      <td>-0.026479</td>\n",
       "      <td>-0.036958</td>\n",
       "      <td>0.010760</td>\n",
       "      <td>-0.009568</td>\n",
       "      <td>0.032014</td>\n",
       "      <td>0</td>\n",
       "      <td>0</td>\n",
       "      <td>-1.022535</td>\n",
       "      <td>0</td>\n",
       "    </tr>\n",
       "    <tr>\n",
       "      <th>284806</th>\n",
       "      <td>0.001276</td>\n",
       "      <td>-0.133712</td>\n",
       "      <td>-0.014522</td>\n",
       "      <td>0.003278</td>\n",
       "      <td>-0.036502</td>\n",
       "      <td>-0.022337</td>\n",
       "      <td>-0.051156</td>\n",
       "      <td>0.000477</td>\n",
       "      <td>0.020304</td>\n",
       "      <td>0.016472</td>\n",
       "      <td>0.013405</td>\n",
       "      <td>-0.029567</td>\n",
       "      <td>0.007817</td>\n",
       "      <td>-0.007924</td>\n",
       "      <td>0.026814</td>\n",
       "      <td>0</td>\n",
       "      <td>0</td>\n",
       "      <td>-1.084824</td>\n",
       "      <td>0</td>\n",
       "    </tr>\n",
       "  </tbody>\n",
       "</table>\n",
       "<p>284807 rows × 19 columns</p>\n",
       "</div>"
      ],
      "text/plain": [
       "               0         1         2         3         4         5         6  \\\n",
       "0       0.008999 -0.030861 -0.076764  0.109652  0.048914  0.030656 -0.049852   \n",
       "1      -0.045849  0.020594  0.037812  0.047311  0.011959  0.040651  0.084343   \n",
       "2      -0.092867 -0.022750  0.055535  0.175351 -0.142099  0.105534  0.040551   \n",
       "3      -0.158295 -0.036367  0.039412 -0.046898 -0.109538  0.001588 -0.009424   \n",
       "4       0.019048  0.082020  0.104204  0.013102  0.055714 -0.023870 -0.054023   \n",
       "...          ...       ...       ...       ...       ...       ...       ...   \n",
       "284802 -0.068410  0.040659 -0.053122 -0.068493 -0.106045 -0.079449 -0.068691   \n",
       "284803 -0.136882 -0.064632  0.094063  0.087201 -0.117643  0.031624  0.015144   \n",
       "284804  0.086282 -0.014272 -0.014211  0.099435 -0.047500  0.003748  0.030101   \n",
       "284805  0.016630  0.089276 -0.080603  0.146790  0.192120 -0.106969 -0.135219   \n",
       "284806  0.001276 -0.133712 -0.014522  0.003278 -0.036502 -0.022337 -0.051156   \n",
       "\n",
       "               7         8         9        10        11        12        13  \\\n",
       "0      -0.001507  0.004754  0.019588 -0.010591 -0.012169  0.021349  0.022335   \n",
       "1      -0.004900 -0.041333 -0.021875  0.020755  0.028797 -0.023114  0.002608   \n",
       "2       0.005063  0.008331 -0.049954 -0.003552 -0.035001  0.022413 -0.007762   \n",
       "3      -0.124709  0.045125 -0.046715  0.009454  0.000046  0.010928 -0.005180   \n",
       "4       0.007461  0.000571  0.020324  0.042182 -0.036953  0.007723  0.026096   \n",
       "...          ...       ...       ...       ...       ...       ...       ...   \n",
       "284802 -0.017617 -0.040569  0.027339  0.083676  0.003417  0.227339 -0.117264   \n",
       "284803  0.087342 -0.014213  0.007860  0.044166 -0.043001  0.004452  0.008860   \n",
       "284804 -0.027329  0.006932  0.013527  0.011062 -0.028228 -0.035828 -0.004468   \n",
       "284805 -0.063163  0.029619  0.024857 -0.026479 -0.036958  0.010760 -0.009568   \n",
       "284806  0.000477  0.020304  0.016472  0.013405 -0.029567  0.007817 -0.007924   \n",
       "\n",
       "              14  isFraud  isAnomaly  anomaly_score  isAnomaly_new_threshold  \n",
       "0      -0.007790        0          0      -1.167481                        0  \n",
       "1      -0.009506        0          0      -1.075972                        0  \n",
       "2       0.018815        0          0      -1.055251                        0  \n",
       "3      -0.036366        0          0      -1.157833                        0  \n",
       "4       0.011142        0          0      -1.044681                        0  \n",
       "...          ...      ...        ...            ...                      ...  \n",
       "284802 -0.080086        0          0      -1.231122                        0  \n",
       "284803  0.033857        0          0      -1.119683                        0  \n",
       "284804 -0.014195        0          1      -1.528530                        1  \n",
       "284805  0.032014        0          0      -1.022535                        0  \n",
       "284806  0.026814        0          0      -1.084824                        0  \n",
       "\n",
       "[284807 rows x 19 columns]"
      ]
     },
     "execution_count": 37,
     "metadata": {},
     "output_type": "execute_result"
    }
   ],
   "source": [
    "data"
   ]
  },
  {
   "cell_type": "code",
   "execution_count": 38,
   "id": "c56bf93a",
   "metadata": {},
   "outputs": [
    {
     "data": {
      "text/html": [
       "<div>\n",
       "<style scoped>\n",
       "    .dataframe tbody tr th:only-of-type {\n",
       "        vertical-align: middle;\n",
       "    }\n",
       "\n",
       "    .dataframe tbody tr th {\n",
       "        vertical-align: top;\n",
       "    }\n",
       "\n",
       "    .dataframe thead th {\n",
       "        text-align: right;\n",
       "    }\n",
       "</style>\n",
       "<table border=\"1\" class=\"dataframe\">\n",
       "  <thead>\n",
       "    <tr style=\"text-align: right;\">\n",
       "      <th>Real</th>\n",
       "      <th>0</th>\n",
       "      <th>1</th>\n",
       "    </tr>\n",
       "    <tr>\n",
       "      <th>Predicted</th>\n",
       "      <th></th>\n",
       "      <th></th>\n",
       "    </tr>\n",
       "  </thead>\n",
       "  <tbody>\n",
       "    <tr>\n",
       "      <th>0</th>\n",
       "      <td>262305</td>\n",
       "      <td>484</td>\n",
       "    </tr>\n",
       "    <tr>\n",
       "      <th>1</th>\n",
       "      <td>22010</td>\n",
       "      <td>8</td>\n",
       "    </tr>\n",
       "  </tbody>\n",
       "</table>\n",
       "</div>"
      ],
      "text/plain": [
       "Real            0    1\n",
       "Predicted             \n",
       "0          262305  484\n",
       "1           22010    8"
      ]
     },
     "execution_count": 38,
     "metadata": {},
     "output_type": "execute_result"
    }
   ],
   "source": [
    "cf"
   ]
  },
  {
   "cell_type": "code",
   "execution_count": 39,
   "id": "f57f7283",
   "metadata": {},
   "outputs": [
    {
     "name": "stdout",
     "output_type": "stream",
     "text": [
      "Model predictions for anomalies:\n",
      "Precision:  0.0003633390862021982\n",
      "Accuracy:  0.9210201996439694\n",
      "Recall:  0.016260162601626018\n"
     ]
    }
   ],
   "source": [
    "score_model(data['isAnomaly_new_threshold'], data['isFraud'])"
   ]
  },
  {
   "cell_type": "markdown",
   "id": "e07680d9",
   "metadata": {},
   "source": [
    "The recall has decreased, but accuracy (ratio of correctly assigned label to observations) of the model increased. We still do not get satisfactory results with precision and recall. We may need to tune our model with new parameters or choose different algorithm."
   ]
  }
 ],
 "metadata": {
  "kernelspec": {
   "display_name": "Python 3",
   "language": "python",
   "name": "python3"
  },
  "language_info": {
   "codemirror_mode": {
    "name": "ipython",
    "version": 3
   },
   "file_extension": ".py",
   "mimetype": "text/x-python",
   "name": "python",
   "nbconvert_exporter": "python",
   "pygments_lexer": "ipython3",
   "version": "3.8.8"
  }
 },
 "nbformat": 4,
 "nbformat_minor": 5
}
