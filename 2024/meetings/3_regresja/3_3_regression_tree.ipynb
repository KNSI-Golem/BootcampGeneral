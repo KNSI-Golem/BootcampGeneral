{
 "cells": [
  {
   "cell_type": "code",
   "execution_count": null,
   "id": "c81b2911d0c3908f",
   "metadata": {},
   "outputs": [],
   "source": [
    "import matplotlib.pyplot as plt\n",
    "import numpy as np\n",
    "from sklearn.linear_model import LinearRegression\n",
    "from sklearn.metrics import mean_squared_error\n",
    "from sklearn.model_selection import train_test_split\n",
    "from sklearn.tree import DecisionTreeRegressor"
   ]
  },
  {
   "cell_type": "code",
   "execution_count": null,
   "id": "dfe04058a85ff95",
   "metadata": {},
   "outputs": [],
   "source": [
    "# data generation\n",
    "np.random.seed(42)\n",
    "n_samples = 100\n",
    "X = np.linspace(0, 10, n_samples)\n",
    "noise = np.random.normal(0, 0.2, n_samples)\n",
    "y = np.sin(X) * 3 + noise\n",
    "X = X.reshape(-1, 1)"
   ]
  },
  {
   "cell_type": "code",
   "execution_count": null,
   "id": "562e46c2dd62d013",
   "metadata": {
    "ExecuteTime": {
     "end_time": "2024-11-17T23:58:52.964471Z",
     "start_time": "2024-11-17T23:58:52.958599Z"
    }
   },
   "outputs": [],
   "source": [
    "X_train, X_test, y_train, y_test = train_test_split(X, y, test_size=0.2, random_state=42)\n",
    "\n",
    "\n",
    "linear_model = LinearRegression()\n",
    "tree_model = DecisionTreeRegressor(max_depth=3, random_state=42)\n",
    "\n",
    "linear_model.fit(X_train, y_train)\n",
    "tree_model.fit(X_train, y_train)\n"
   ]
  },
  {
   "cell_type": "code",
   "execution_count": null,
   "id": "67ac9de134033e10",
   "metadata": {
    "ExecuteTime": {
     "end_time": "2024-11-17T23:59:10.036847Z",
     "start_time": "2024-11-17T23:59:10.031167Z"
    }
   },
   "outputs": [],
   "source": [
    "print(\"\\nModel Performance:\")\n",
    "print(f\"Linear Regression - MSE Score: {mean_squared_error(y_test, linear_model.predict(X_test)):.4f}\")\n",
    "print(f\"Regression Tree    - MSE Score: {mean_squared_error(y_test, tree_model.predict(X_test)):.4f}\")"
   ]
  },
  {
   "cell_type": "code",
   "execution_count": null,
   "id": "f802af7be2548527",
   "metadata": {
    "ExecuteTime": {
     "end_time": "2024-11-17T23:59:21.868080Z",
     "start_time": "2024-11-17T23:59:21.701787Z"
    }
   },
   "outputs": [],
   "source": [
    "X_plot = np.linspace(0, 10, n_samples).reshape(-1, 1)\n",
    "y_linear_pred = linear_model.predict(X_plot)\n",
    "y_tree_pred = tree_model.predict(X_plot)\n",
    "\n",
    "\n",
    "plt.figure(figsize=(12, 6))\n",
    "plt.scatter(X, y, color='gray', alpha=0.5, label='Data points')\n",
    "plt.plot(X_plot, y_linear_pred, color='blue', label='Linear Regression')\n",
    "plt.plot(X_plot, y_tree_pred, color='red', label='Regression Tree')\n",
    "plt.title('Linear Regression vs Regression Tree on Non-linear Data')\n",
    "plt.xlabel('X')\n",
    "plt.ylabel('y')\n",
    "plt.legend()\n",
    "plt.grid(True, alpha=0.3)\n",
    "plt.show()\n"
   ]
  },
  {
   "cell_type": "markdown",
   "id": "d18214fd",
   "metadata": {},
   "source": [
    "### Random forrest regressor"
   ]
  },
  {
   "cell_type": "code",
   "execution_count": null,
   "id": "ee756eaa",
   "metadata": {},
   "outputs": [],
   "source": [
    "from sklearn.ensemble import RandomForestRegressor\n",
    "import pandas as pd\n",
    "from sklearn.preprocessing import StandardScaler\n"
   ]
  },
  {
   "cell_type": "code",
   "execution_count": null,
   "id": "ac13255e",
   "metadata": {},
   "outputs": [],
   "source": [
    "df = pd.read_csv(\"data2.csv\")\n",
    "X = df.drop(['Weight', 'Species'], axis=1)\n",
    "y = df['Weight']\n",
    "scaler = StandardScaler()\n",
    "X_scaled = scaler.fit_transform(X)\n",
    "X_train, X_test, y_train, y_test = train_test_split(\n",
    "    X_scaled, y, test_size=0.2, random_state=42)"
   ]
  },
  {
   "cell_type": "code",
   "execution_count": null,
   "id": "4aeced55",
   "metadata": {},
   "outputs": [],
   "source": [
    "tree_reg = DecisionTreeRegressor(max_depth=15, min_samples_leaf=1, random_state=42)\n",
    "tree_reg.fit(X_train, y_train)\n",
    "\n",
    "\n",
    "rf_reg = RandomForestRegressor(n_estimators=100, max_depth=15, \n",
    "                             min_samples_leaf=1, random_state=42)\n",
    "rf_reg.fit(X_train, y_train)\n",
    "\n",
    "\n",
    "y_train_tree = tree_reg.predict(X_train)\n",
    "y_test_tree = tree_reg.predict(X_test)\n",
    "y_train_rf = rf_reg.predict(X_train)\n",
    "y_test_rf = rf_reg.predict(X_test)"
   ]
  },
  {
   "cell_type": "code",
   "execution_count": null,
   "id": "e6345a04",
   "metadata": {},
   "outputs": [],
   "source": [
    "tree_train_rmse = np.sqrt(mean_squared_error(y_train, y_train_tree))\n",
    "tree_test_rmse = np.sqrt(mean_squared_error(y_test, y_test_tree))\n",
    "rf_train_rmse = np.sqrt(mean_squared_error(y_train, y_train_rf))\n",
    "rf_test_rmse = np.sqrt(mean_squared_error(y_test, y_test_rf))\n",
    "\n",
    "\n",
    "print(\"Decision Tree Performance:\")\n",
    "print(f\"Train RMSE: {tree_train_rmse:.4f}\")\n",
    "print(f\"Test RMSE: {tree_test_rmse:.4f}\")\n",
    "\n",
    "print(\"\\nRandom Forest Performance:\")\n",
    "print(f\"Train RMSE: {rf_train_rmse:.4f}\")\n",
    "print(f\"Test RMSE: {rf_test_rmse:.4f}\")"
   ]
  },
  {
   "cell_type": "code",
   "execution_count": null,
   "id": "c85da5a3",
   "metadata": {},
   "outputs": [],
   "source": [
    "plt.figure(figsize=(10, 6))\n",
    "x = np.arange(2)\n",
    "width = 0.35\n",
    "plt.bar(x - width/2, [tree_train_rmse, rf_train_rmse], width, \n",
    "        label='Train RMSE', color='skyblue')\n",
    "plt.bar(x + width/2, [tree_test_rmse, rf_test_rmse], width, \n",
    "        label='Test RMSE', color='lightcoral')\n",
    "plt.ylabel('RMSE')\n",
    "plt.title('Training vs Test Error Comparison')\n",
    "plt.xticks(x, ['Decision Tree', 'Random Forest'])\n",
    "plt.legend()\n",
    "\n",
    "def add_labels(rects):\n",
    "    for rect in rects:\n",
    "        height = rect.get_height()\n",
    "        plt.text(rect.get_x() + rect.get_width()/2., height,\n",
    "                f'{height:.2f}',\n",
    "                ha='center', va='bottom')\n",
    "\n",
    "add_labels(plt.gca().patches)\n",
    "\n",
    "plt.grid(True, axis='y', linestyle='--', alpha=0.7)\n",
    "plt.tight_layout()\n",
    "plt.show()"
   ]
  }
 ],
 "metadata": {
  "kernelspec": {
   "display_name": "golem",
   "language": "python",
   "name": "python3"
  },
  "language_info": {
   "codemirror_mode": {
    "name": "ipython",
    "version": 3
   },
   "file_extension": ".py",
   "mimetype": "text/x-python",
   "name": "python",
   "nbconvert_exporter": "python",
   "pygments_lexer": "ipython3",
   "version": "3.10.15"
  }
 },
 "nbformat": 4,
 "nbformat_minor": 5
}
