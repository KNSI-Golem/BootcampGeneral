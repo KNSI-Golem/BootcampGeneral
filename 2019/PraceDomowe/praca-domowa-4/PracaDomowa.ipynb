{
 "cells": [
  {
   "cell_type": "code",
   "execution_count": null,
   "metadata": {},
   "outputs": [],
   "source": [
    "import numpy as np\n",
    "import matplotlib.pyplot as plt\n",
    "import seaborn as sn\n",
    "from keras.models import Sequential\n",
    "from keras.layers import Dense"
   ]
  },
  {
   "cell_type": "markdown",
   "metadata": {},
   "source": [
    "# Stwórzmy własny neuron\n",
    "nasz neuron będzie dostawał na wejście x a zwracał y=wx+b. Gdzie w i b to wagi neuronu\n",
    "Jeżeli nasza funkcja straty to średni błąd kwadratowy: $loss=(y-\\hat{y})^2$\n",
    "\n",
    "gdzie $\\hat{y}$ to rzeczywsisty wynik a y to wynik naszego modelu\n",
    "\n",
    "A $\\frac{\\partial loss}{\\partial y} = 2\\hat{y}-2y$\n",
    "\n",
    "Więc $\\frac{\\partial loss}{\\partial w}=\n",
    "\\frac{\\partial y}{\\partial w} \\cdot \\frac{\\partial loss}{\\partial y} =\n",
    "x \\cdot (2y-2\\hat{y})$\n",
    "\n",
    "A $\\frac{\\partial loss}{\\partial b}=\n",
    "\\frac{\\partial y}{\\partial b} \\cdot \\frac{\\partial loss}{\\partial y} =\n",
    "1 \\cdot (2y-2\\hat{y})$\n",
    "\n",
    "Wagi aktualizujemy w następujący sposób:\n",
    "$$w = w-learningRate*\\frac{\\partial loss}{\\partial w}$$\n",
    "$$b=b-learningRate*\\frac{\\partial loss}{\\partial b}$$"
   ]
  },
  {
   "cell_type": "code",
   "execution_count": null,
   "metadata": {},
   "outputs": [],
   "source": [
    "class Model:\n",
    "    def __init__(self, learning_rate=0.01, eps=0.001):\n",
    "        # dodajemy eps żeby nasza waga nie była na początku 0\n",
    "        self.w = np.random.normal(size=(1)) + eps\n",
    "        self.b = np.random.normal(size=(1))\n",
    "        self.lr = learning_rate\n",
    "    \n",
    "    def forward(self, x, y_hat):\n",
    "        # Tutaj wpisz swój kod\n",
    "        y = ...\n",
    "        loss = ...\n",
    "        # Koniec Twojego kodu\n",
    "        return y, loss\n",
    "    \n",
    "    def backward(self, x, y_hat, y):\n",
    "        # Tutaj wpisz swój kod:\n",
    "        self.w -= ...\n",
    "        self.b -= ...\n",
    "    \n",
    "    def train(self, epochs, X, Y):\n",
    "        losses = []\n",
    "        for epoch in range(epochs):\n",
    "            loss = []\n",
    "            for x, y_hat in zip(X,Y):\n",
    "                y, loss_ = self.forward(x,y_hat)\n",
    "                self.backward(x, y_hat, y)\n",
    "                loss.append(loss_)\n",
    "            print('Epoch{}\\t Loss: {}'.format(epoch,np.mean(loss)))\n",
    "            losses.append(loss)\n",
    "        return loss"
   ]
  },
  {
   "cell_type": "code",
   "execution_count": null,
   "metadata": {},
   "outputs": [],
   "source": [
    "# Tworzymy funkcję liniową którą chcemy nasz model nauczyć\n",
    "a = 3\n",
    "b = 10\n",
    "X = np.linspace(-10, 10, num=30)\n",
    "Y = a*X + b"
   ]
  },
  {
   "cell_type": "code",
   "execution_count": null,
   "metadata": {
    "scrolled": true
   },
   "outputs": [],
   "source": [
    "model = Model()\n",
    "loss = model.train(30, X, Y)"
   ]
  },
  {
   "cell_type": "code",
   "execution_count": null,
   "metadata": {},
   "outputs": [],
   "source": [
    "# Zobaczmy jakich wag nasz model się nauczył:\n",
    "print('rzeczywiste w:{} wyuczone w:{}\\nrzeczywiste b:{} wyuczone b:{}'.format(a, model.w, b, model.b))"
   ]
  },
  {
   "cell_type": "code",
   "execution_count": null,
   "metadata": {},
   "outputs": [],
   "source": [
    "# Tworzymy dane które jako y mają 1 jeżeli są poniżej funkcji y^2 a 0 jeżeli powyżej\n",
    "x1 = np.linspace(-10, 10, num=50)\n",
    "x2 = np.linspace(-30, 100, num=50)\n",
    "x1, x2 = np.meshgrid(x1, x2)\n",
    "x1 = x1.reshape(2500)\n",
    "x2 = x2.reshape(2500)\n",
    "y = x2 < (np.power(x1, 2))"
   ]
  },
  {
   "cell_type": "code",
   "execution_count": null,
   "metadata": {},
   "outputs": [],
   "source": [
    "sn.scatterplot(x1, x2, hue=y, palette=['b', 'r']);"
   ]
  },
  {
   "cell_type": "code",
   "execution_count": null,
   "metadata": {},
   "outputs": [],
   "source": [
    "# transponujemy macierz, żeby była odpowiedniego rozmiaru jakiego oczekuje Keras\n",
    "X = np.transpose(np.array((x1, x2)))"
   ]
  },
  {
   "cell_type": "markdown",
   "metadata": {},
   "source": [
    "Potestuj jakie ustawieniu modelu najlepiej odzwierciedlą funkcję $x^2$\n",
    "\n",
    "Pozmieniaj liczbę neuronów, optimizer, funkcję straty, learning rate, liczbę epok.\n",
    "\n",
    "Dokumentacja [Sequentail z kerasa](https://keras.io/models/sequential/)"
   ]
  },
  {
   "cell_type": "code",
   "execution_count": null,
   "metadata": {},
   "outputs": [],
   "source": [
    "# Tworzymy model przy użyciu Sequentail z biblioteki keras\n",
    "num_epochs = 10\n",
    "model = Sequential()\n",
    "model.add(Dense(16, input_shape=(2,), activation='relu'))\n",
    "# model.add(Dense(64, activation='relu'))\n",
    "# model.add(Dense(32, activation='relu'))\n",
    "# model.add(Dense(16, activation='relu'))\n",
    "# model.add(Dense(8, activation='relu'))\n",
    "model.add(Dense(1, activation = 'sigmoid'))\n",
    "model.compile(optimizer='adam', loss='binary_crossentropy')"
   ]
  },
  {
   "cell_type": "code",
   "execution_count": null,
   "metadata": {
    "scrolled": true
   },
   "outputs": [],
   "source": [
    "history = model.fit(X, y, epochs=num_epochs)"
   ]
  },
  {
   "cell_type": "code",
   "execution_count": null,
   "metadata": {
    "scrolled": false
   },
   "outputs": [],
   "source": [
    "# wykres funkcji straty w kolejnych krokach\n",
    "sn.lineplot(range(num_epochs), history.history['loss']);"
   ]
  },
  {
   "cell_type": "code",
   "execution_count": null,
   "metadata": {},
   "outputs": [],
   "source": [
    "# Tworzenie tablicy mówiącej czy model dobrze określił daną wartość\n",
    "pred = model.predict(X).squeeze() > 0.5\n",
    "true_pred = pred == y"
   ]
  },
  {
   "cell_type": "code",
   "execution_count": null,
   "metadata": {},
   "outputs": [],
   "source": [
    "# Wykres punktów, które model dobrze określił i źle (False-niepoprawnie, True-poprawnie)\n",
    "plt.rcParams['figure.figsize'] = 10, 10\n",
    "sn.set_context(rc={\"lines.linewidth\": 3})\n",
    "sn.scatterplot(x1, x2, hue=true_pred, alpha=0.4, palette={True:'g', False:'r'})\n",
    "x = np.linspace(-10, 10, num= 100)\n",
    "plot = sn.lineplot(x, (np.power(x, 2)), color='k')\n",
    "plot.lines[0].set_linestyle('--')\n",
    "plot.lines[0].set_alpha(0.8)\n",
    "plt.title('Poprawne predykcje modelu');"
   ]
  },
  {
   "cell_type": "markdown",
   "metadata": {},
   "source": [
    "# Odpowiedz do Zadania 1:\n",
    "\n",
    "    class Model:\n",
    "        def __init__(self, learning_rate=0.01, eps=0.001):\n",
    "            # dodajemy eps żeby nasza waga nie była na początku 0\n",
    "            self.w = np.random.normal(size=(1)) + eps\n",
    "            self.b = np.random.normal(size=(1))\n",
    "            self.lr = learning_rate\n",
    "        def forward(self, x, y_hat):\n",
    "            # Tutaj wpisz swój kod\n",
    "            y = self.w * x + self.b\n",
    "            loss = np.power((y-y_hat),2)\n",
    "            # Koniec Twojego kodu\n",
    "            return y, loss\n",
    "        def backward(self, x, y_hat, y):\n",
    "            # Tutaj wpisz swój kod:\n",
    "            self.w -= self.lr*x*2*(y-y_hat)\n",
    "            self.b -= self.lr*2*(y-y_hat)\n",
    "        def train(self, epochs, X, Y):\n",
    "            losses = []\n",
    "            for epoch in range(epochs):\n",
    "                loss = []\n",
    "                for x, y_hat in zip(X,Y):\n",
    "                    y, loss_ = self.forward(x,y_hat)\n",
    "                    self.backward(x, y_hat, y)\n",
    "                    loss.append(loss_)\n",
    "                print('Epoch{}\\t Loss: {}'.format(epoch,np.mean(loss)))\n",
    "                losses.append(loss)\n",
    "            return loss"
   ]
  }
 ],
 "metadata": {
  "kernelspec": {
   "display_name": "Python 3",
   "language": "python",
   "name": "python3"
  },
  "language_info": {
   "codemirror_mode": {
    "name": "ipython",
    "version": 3
   },
   "file_extension": ".py",
   "mimetype": "text/x-python",
   "name": "python",
   "nbconvert_exporter": "python",
   "pygments_lexer": "ipython3",
   "version": "3.6.9"
  }
 },
 "nbformat": 4,
 "nbformat_minor": 2
}
