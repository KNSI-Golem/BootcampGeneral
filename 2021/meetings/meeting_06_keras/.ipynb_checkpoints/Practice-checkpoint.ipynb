{
 "cells": [
  {
   "cell_type": "code",
   "execution_count": null,
   "id": "6c5b7475",
   "metadata": {},
   "outputs": [],
   "source": [
    "# Import najważniejszych bibliotek\n",
    "\n",
    "import tensorflow as tf\n",
    "import numpy as np\n",
    "from tensorflow import keras\n",
    "from keras.regularizers import l2, l1\n",
    "from tensorflow.keras import layers\n",
    "from tensorflow.keras import activations\n",
    "\n",
    "%matplotlib inline\n",
    "import matplotlib.pyplot as plt"
   ]
  },
  {
   "cell_type": "code",
   "execution_count": null,
   "id": "55d3ed6d",
   "metadata": {},
   "outputs": [],
   "source": []
  },
  {
   "cell_type": "markdown",
   "id": "82fef595",
   "metadata": {},
   "source": [
    "## Zadanie end-end realizowane przez was!"
   ]
  },
  {
   "cell_type": "markdown",
   "id": "17f9d7b4",
   "metadata": {},
   "source": [
    "Będziecie operować na datasecie CIFAR-10."
   ]
  },
  {
   "cell_type": "markdown",
   "id": "a0516bf7",
   "metadata": {},
   "source": [
    "### Ładowanie danych"
   ]
  },
  {
   "cell_type": "code",
   "execution_count": null,
   "id": "a5a16690",
   "metadata": {},
   "outputs": [],
   "source": []
  },
  {
   "cell_type": "markdown",
   "id": "f12e63a2",
   "metadata": {},
   "source": [
    "### Preprocessing danych\n",
    "- Skalowanie\n",
    "\n"
   ]
  },
  {
   "cell_type": "code",
   "execution_count": null,
   "id": "1138ba0d",
   "metadata": {},
   "outputs": [],
   "source": []
  },
  {
   "cell_type": "markdown",
   "id": "d12dca5f",
   "metadata": {},
   "source": [
    "### Split na train, val, test"
   ]
  },
  {
   "cell_type": "code",
   "execution_count": null,
   "id": "92649a37",
   "metadata": {},
   "outputs": [],
   "source": []
  },
  {
   "cell_type": "markdown",
   "id": "d2323622",
   "metadata": {},
   "source": [
    "### Definicja modelu\n",
    "- Różne funkcje aktywacji\n",
    "- SGD vs. Adam\n",
    "- Baseline model vs. Advanced model\n"
   ]
  },
  {
   "cell_type": "code",
   "execution_count": null,
   "id": "cad222d9",
   "metadata": {},
   "outputs": [],
   "source": []
  },
  {
   "cell_type": "markdown",
   "id": "55e2b2d5",
   "metadata": {},
   "source": [
    "### Create training utilities\n",
    "- Callback\n",
    "- Optimizer (probably in model definition)\n",
    "- Loss (metric) function (probably in model definition)\n",
    "- Regularyzacja\n",
    "- Batch Normalization\n",
    "- Dropout"
   ]
  },
  {
   "cell_type": "code",
   "execution_count": null,
   "id": "ef6356df",
   "metadata": {},
   "outputs": [],
   "source": []
  },
  {
   "cell_type": "markdown",
   "id": "5c37dfbe",
   "metadata": {},
   "source": [
    "### Trenowanie modelu"
   ]
  },
  {
   "cell_type": "code",
   "execution_count": null,
   "id": "0a4da234",
   "metadata": {},
   "outputs": [],
   "source": []
  },
  {
   "cell_type": "markdown",
   "id": "3047eccc",
   "metadata": {},
   "source": [
    "### Ewaluacja"
   ]
  },
  {
   "cell_type": "code",
   "execution_count": null,
   "id": "38077528",
   "metadata": {},
   "outputs": [],
   "source": []
  }
 ],
 "metadata": {
  "kernelspec": {
   "display_name": "Python 3 (ipykernel)",
   "language": "python",
   "name": "python3"
  },
  "language_info": {
   "codemirror_mode": {
    "name": "ipython",
    "version": 3
   },
   "file_extension": ".py",
   "mimetype": "text/x-python",
   "name": "python",
   "nbconvert_exporter": "python",
   "pygments_lexer": "ipython3",
   "version": "3.7.11"
  }
 },
 "nbformat": 4,
 "nbformat_minor": 5
}
