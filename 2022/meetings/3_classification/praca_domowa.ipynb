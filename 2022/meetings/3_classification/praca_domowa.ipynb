{
 "cells": [
  {
   "cell_type": "markdown",
   "id": "ca7570f4",
   "metadata": {},
   "source": [
    "# Praca domowa - klasyfikacja\n",
    "Wytrenuj klasyfikator `Las losowy` na zbiorze [`UCI ML Breast Cancer Wisconsin (Diagnostic)`](https://archive.ics.uci.edu/ml/datasets/Breast+Cancer+Wisconsin+(Diagnostic). Następnie dokładnie oceń jakość klasyfikatora.\n",
    "\n",
    "1. Załaduj i podziel na zbiór treningowy i testowy zbiór danych.\n",
    "2. Wytrenuj model lasu losowego na zbiorze treningowym dokładnie zapoznając się z działaniem algorytmu i znaczeniem głównych parametrów (między innymi: `n_estimators`, `criterion`, `max_depth`, `min_samples_split`)\n",
    "3. Zaimplementuj metryki `accuracy`, `recall`, `precision`, `f1_score` oraz `confusion matrix` jako funkcje za każdym razem przyjmujące 2 parametry:\n",
    "- `y_true` - wektor poprawnych etykiet\n",
    "- `y_pred` - wektor przewidzianych etykiet przez klasyfikator \\\n",
    "Porównaj wartości Twoich metryk z wartościami metryk zaimportowanych z biblioteki `sklearn`.\n",
    "4. Zwizualizuj wyniki i metryki - Confusion Matrix, ROC Curve\n",
    "5. Znajdź najlepszy zestaw hiperparametrów metodą `grid search` zaimplementowaną samodzielnie lub korzystając z implementacji biblioteki sklearn\n",
    "\n",
    "**DLA CHĘTNYCH:**\n",
    "- Skorzystaj z k-krotnej walidacji krzyżowej\n",
    "- Skorzystaj z innych klasyfikatorów - np. `SVM`, `XGBoost`\n",
    "\n",
    "### Materiały\n",
    "**Random Forest**\n",
    "- [sklearn](https://scikit-learn.org/stable/modules/generated/sklearn.ensemble.RandomForestClassifier.html)\n",
    "- [tds](https://towardsdatascience.com/understanding-random-forest-58381e0602d2)\n",
    "\n",
    "**Grid Search**\n",
    "- [sklearn](https://scikit-learn.org/stable/modules/generated/sklearn.model_selection.GridSearchCV.html)\n",
    "\n",
    "**K-Krotna walidacja krzyżowa**\n",
    "- [sklearn](https://scikit-learn.org/stable/modules/cross_validation.html)\n",
    "- [mlm](https://machinelearningmastery.com/k-fold-cross-validation/)"
   ]
  },
  {
   "cell_type": "code",
   "execution_count": null,
   "id": "cd0c5d80",
   "metadata": {},
   "outputs": [],
   "source": [
    "from sklearn.datasets import load_breast_cancer\n",
    "from sklearn.metrics import accuracy_score, precision_score, recall_score, f1_score\n",
    "import numpy as np"
   ]
  },
  {
   "cell_type": "code",
   "execution_count": null,
   "id": "b4a106a1",
   "metadata": {},
   "outputs": [],
   "source": [
    "breast_cancer_ds = load_breast_cancer()\n",
    "print(breast_cancer_ds.DESCR)"
   ]
  },
  {
   "cell_type": "markdown",
   "id": "b2e8fac4",
   "metadata": {},
   "source": [
    "## Metryki"
   ]
  },
  {
   "cell_type": "code",
   "execution_count": null,
   "id": "aaac0914",
   "metadata": {},
   "outputs": [],
   "source": [
    "def accuracy(y_true: np.ndarray, y_pred: np.ndarray) -> float:\n",
    "    pass\n",
    "\n",
    "def recall(y_true: np.ndarray, y_pred: np.ndarray) -> float:\n",
    "    pass\n",
    "\n",
    "def precision(y_true: np.ndarray, y_pred: np.ndarray) -> float:\n",
    "    pass\n",
    "\n",
    "def f1_score(y_true: np.ndarray, y_pred: np.ndarray) -> float:\n",
    "    pass\n",
    "\n",
    "def confusion_matrix(y_true: np.ndarray, y_pred: np.ndarray) -> np.ndarray:\n",
    "    pass"
   ]
  }
 ],
 "metadata": {
  "kernelspec": {
   "display_name": "Python 3 (ipykernel)",
   "language": "python",
   "name": "python3"
  },
  "language_info": {
   "codemirror_mode": {
    "name": "ipython",
    "version": 3
   },
   "file_extension": ".py",
   "mimetype": "text/x-python",
   "name": "python",
   "nbconvert_exporter": "python",
   "pygments_lexer": "ipython3",
   "version": "3.10.2"
  }
 },
 "nbformat": 4,
 "nbformat_minor": 5
}
