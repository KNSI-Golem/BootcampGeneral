{
 "cells": [
  {
   "cell_type": "code",
   "id": "initial_id",
   "metadata": {
    "collapsed": true
   },
   "source": [
    "import matplotlib.pyplot as plt\n",
    "import pandas as pd\n",
    "import seaborn as sns\n",
    "from sklearn.datasets import fetch_california_housing\n",
    "from sklearn.linear_model import LinearRegression\n",
    "from sklearn.model_selection import train_test_split\n",
    "from sklearn.metrics import mean_squared_error\n"
   ],
   "outputs": [],
   "execution_count": null
  },
  {
   "cell_type": "markdown",
   "id": "b34cc9b7572cfbb3",
   "metadata": {},
   "source": [
    "## Data"
   ]
  },
  {
   "cell_type": "code",
   "id": "a7353e5facbc23d0",
   "metadata": {},
   "source": [
    "# Load California Housing dataset\n",
    "housing = fetch_california_housing()\n",
    "df = pd.DataFrame(housing.data, columns=housing.feature_names)\n",
    "df['target'] = housing.target\n",
    "\n",
    "# Display first few rows and basic information\n",
    "print(\"Dataset Overview:\")\n",
    "print(df.head())"
   ],
   "outputs": [],
   "execution_count": null
  },
  {
   "cell_type": "code",
   "id": "e14a45f66d9e0aa9",
   "metadata": {},
   "source": [
    "# Correlation matrix\n",
    "plt.figure(figsize=(10, 8))\n",
    "sns.heatmap(df.corr(), annot=True, cmap='coolwarm')\n",
    "plt.title('Correlation Matrix')\n",
    "plt.show()\n"
   ],
   "outputs": [],
   "execution_count": null
  },
  {
   "cell_type": "code",
   "id": "a565e6d8f658553d",
   "metadata": {},
   "source": [
    "X = df.drop('target', axis=1)\n",
    "y = df['target']\n",
    "feature_names = housing.feature_names\n",
    "# Split the data\n",
    "X_train, X_test, y_train, y_test = train_test_split(X, y, test_size=0.2, random_state=42)"
   ],
   "outputs": [],
   "execution_count": null
  },
  {
   "cell_type": "markdown",
   "id": "75e85b84f0610116",
   "metadata": {},
   "source": [
    "## Linear regression"
   ]
  },
  {
   "cell_type": "code",
   "id": "a5d4b5b44a42364b",
   "metadata": {},
   "source": [
    "model = LinearRegression()\n",
    "model.fit(X_train, y_train)\n",
    "\n",
    "y_pred = model.predict(X_test)\n",
    "\n",
    "print(\"\\nModel Performance Metrics:\")\n",
    "print(f\"Mean Squared Error: {mean_squared_error(y_test, y_pred):.4f}\")\n",
    "# Feature importance analysis\n",
    "feature_importance = pd.DataFrame({\n",
    "    'Feature': X.columns,\n",
    "    'Coefficient': model.coef_\n",
    "})\n",
    "print(\"\\nFeature Importance:\")\n",
    "print(feature_importance.sort_values(by='Coefficient', key=abs, ascending=False))"
   ],
   "outputs": [],
   "execution_count": null
  },
  {
   "cell_type": "code",
   "id": "6b82009dc68e2c92",
   "metadata": {},
   "source": [
    "# Actual vs Predicted Values\n",
    "plt.figure(figsize=(10, 6))\n",
    "plt.scatter(y_test, y_pred, alpha=0.5)\n",
    "plt.plot([y_test.min(), y_test.max()], [y_test.min(), y_test.max()], 'r--', lw=2)\n",
    "plt.xlabel('Actual Values')\n",
    "plt.ylabel('Predicted Values')\n",
    "plt.title('Actual vs Predicted House Prices')\n",
    "plt.tight_layout()\n",
    "plt.show()"
   ],
   "outputs": [],
   "execution_count": null
  },
  {
   "cell_type": "code",
   "id": "836679bee01fa1cb",
   "metadata": {},
   "source": [
    "def predict_house_price(features_dict):\n",
    "    # Convert input dictionary to DataFrame\n",
    "    input_df = pd.DataFrame([features_dict])\n",
    "    \n",
    "    # Ensure correct column order\n",
    "    input_df = input_df[X.columns]\n",
    "    \n",
    "    # Make prediction\n",
    "    prediction = model.predict(input_df)\n",
    "    return prediction[0]\n",
    "\n",
    "# Example usage\n",
    "sample_house = {\n",
    "    'MedInc': 8.3252,\n",
    "    'HouseAge': 41.0,\n",
    "    'AveRooms': 6.984127,\n",
    "    'AveBedrms': 1.023810,\n",
    "    'Population': 322.0,\n",
    "    'AveOccup': 2.555556,\n",
    "    'Latitude': 37.88,\n",
    "    'Longitude': -122.23\n",
    "}\n",
    "\n",
    "predicted_price = predict_house_price(sample_house)\n",
    "print(f\"\\nPredicted House Price: ${predicted_price*100000:.2f}\")"
   ],
   "outputs": [],
   "execution_count": null
  },
  {
   "cell_type": "markdown",
   "id": "f37b1482f88e0961",
   "metadata": {},
   "source": [
    "## Lasso regression"
   ]
  },
  {
   "cell_type": "code",
   "id": "1c712250996d5fb2",
   "metadata": {},
   "source": [
    "import pandas as pd\n",
    "import numpy as np\n",
    "from sklearn.preprocessing import StandardScaler\n",
    "from sklearn.model_selection import train_test_split\n",
    "from sklearn.linear_model import LinearRegression, Lasso, LassoCV\n",
    "import matplotlib.pyplot as plt\n",
    "import seaborn as sns"
   ],
   "outputs": [],
   "execution_count": null
  },
  {
   "metadata": {},
   "cell_type": "code",
   "source": [
    "df = pd.read_csv(\"data2.csv\")\n",
    "\n",
    "# Prepare features and target\n",
    "X = df.drop(['Species', 'Weight'], axis=1)  # Weight will be our target\n",
    "y = df['Weight']\n",
    "X.head()"
   ],
   "id": "b8561bd8bc159fba",
   "outputs": [],
   "execution_count": null
  },
  {
   "cell_type": "code",
   "id": "2346b065",
   "metadata": {},
   "source": [
    "# Split the data\n",
    "X_train, X_test, y_train, y_test = train_test_split(X, y, test_size=0.2, random_state=42)\n",
    "\n",
    "# Scale the features\n",
    "scaler = StandardScaler()\n",
    "X_train_scaled = scaler.fit_transform(X_train)\n",
    "X_test_scaled = scaler.transform(X_test)"
   ],
   "outputs": [],
   "execution_count": null
  },
  {
   "cell_type": "code",
   "id": "b34fe75a",
   "metadata": {},
   "source": [
    "# Create correlation matrix\n",
    "plt.figure(figsize=(10, 8))\n",
    "sns.heatmap(X.corr(), annot=True, cmap='coolwarm', center=0)\n",
    "plt.title('Feature Correlation Matrix')\n",
    "plt.tight_layout()\n",
    "plt.show()\n",
    "\n",
    "# Print high correlations\n",
    "print(\"\\nHighly Correlated Feature Pairs (>0.8):\")\n",
    "corr_matrix = X.corr().abs()\n",
    "upper_tri = corr_matrix.where(np.triu(np.ones(corr_matrix.shape), k=1).astype(bool))\n",
    "high_corr = [(col1, col2, corr_matrix.loc[col1, col2]) \n",
    "             for col1 in corr_matrix.columns \n",
    "             for col2 in corr_matrix.columns \n",
    "             if corr_matrix.loc[col1, col2] > 0.8 and col1 < col2]\n",
    "\n",
    "for col1, col2, corr in high_corr:\n",
    "    print(f\"{col1} - {col2}: {corr:.3f}\")"
   ],
   "outputs": [],
   "execution_count": null
  },
  {
   "cell_type": "code",
   "id": "55717f96",
   "metadata": {},
   "source": [
    "# Find optimal alpha using cross-validation\n",
    "lasso_cv = LassoCV(\n",
    "    cv=5,\n",
    "    random_state=42,\n",
    "    max_iter=5000,\n",
    "    alphas=np.logspace(-4, 1, 100)\n",
    ")\n",
    "lasso_cv.fit(X_train_scaled, y_train)\n",
    "\n",
    "# Train Lasso with optimal alpha\n",
    "lasso_optimal = Lasso(alpha=lasso_cv.alpha_, random_state=42)\n",
    "lasso_optimal.fit(X_train_scaled, y_train)\n",
    "\n",
    "# Train regular linear regression for comparison\n",
    "linear_reg = LinearRegression()\n",
    "linear_reg.fit(X_train_scaled, y_train)"
   ],
   "outputs": [],
   "execution_count": null
  },
  {
   "cell_type": "code",
   "id": "6c332b1d",
   "metadata": {},
   "source": [
    "# Create feature importance comparison\n",
    "feature_importance = pd.DataFrame({\n",
    "    'Feature': X.columns,\n",
    "    'Linear_Regression': abs(linear_reg.coef_),\n",
    "    'Lasso_Regression': abs(lasso_optimal.coef_)\n",
    "})\n",
    "\n",
    "# Sort by Linear Regression importance\n",
    "feature_importance = feature_importance.sort_values('Linear_Regression', ascending=False)\n",
    "\n",
    "# Plot comparison\n",
    "fig, (ax1, ax2) = plt.subplots(2, 1, figsize=(12, 10))\n",
    "\n",
    "# Linear Regression coefficients\n",
    "ax1.bar(feature_importance['Feature'], feature_importance['Linear_Regression'])\n",
    "ax1.set_title('Feature Importance - Linear Regression')\n",
    "ax1.tick_params(axis='x', rotation=45)\n",
    "\n",
    "# Lasso coefficients\n",
    "ax2.bar(feature_importance['Feature'], feature_importance['Lasso_Regression'])\n",
    "ax2.set_title(f'Feature Importance - Lasso Regression (α={lasso_cv.alpha_:.4f})')\n",
    "ax2.tick_params(axis='x', rotation=45)\n",
    "\n",
    "plt.tight_layout()\n",
    "plt.show()\n",
    "\n",
    "# Print feature importance comparison\n",
    "print(\"\\nFeature Importance Comparison:\")\n",
    "print(feature_importance)"
   ],
   "outputs": [],
   "execution_count": null
  }
 ],
 "metadata": {
  "kernelspec": {
   "display_name": "Python 3",
   "language": "python",
   "name": "python3"
  },
  "language_info": {
   "codemirror_mode": {
    "name": "ipython",
    "version": 2
   },
   "file_extension": ".py",
   "mimetype": "text/x-python",
   "name": "python",
   "nbconvert_exporter": "python",
   "pygments_lexer": "ipython2",
   "version": "2.7.6"
  }
 },
 "nbformat": 4,
 "nbformat_minor": 5
}
