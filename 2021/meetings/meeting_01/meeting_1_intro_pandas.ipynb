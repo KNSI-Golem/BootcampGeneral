{
 "cells": [
  {
   "cell_type": "markdown",
   "id": "1927b8d9",
   "metadata": {},
   "source": [
    "### Agenda\n",
    "0. Basic Setup\n",
    "1. Basic Plotting\n",
    "2. Reading and Describing Data\n",
    "3. Filters, Drop, Add Columns\n",
    "4. Replacing, Casting, Histogram \n",
    "5. Barplot, Dropna"
   ]
  },
  {
   "cell_type": "markdown",
   "id": "52d1aabd",
   "metadata": {},
   "source": [
    "# Part 0\n",
    "Basic Setup"
   ]
  },
  {
   "cell_type": "code",
   "execution_count": null,
   "id": "5f61014c",
   "metadata": {},
   "outputs": [],
   "source": [
    "import pandas as pd\n",
    "import numpy as np\n",
    "from matplotlib import pyplot as plt\n",
    "\n",
    "from collections import Counter"
   ]
  },
  {
   "cell_type": "code",
   "execution_count": null,
   "id": "0d1355d6",
   "metadata": {},
   "outputs": [],
   "source": [
    "%matplotlib inline\n",
    "plt.style.use('seaborn-poster')"
   ]
  },
  {
   "cell_type": "markdown",
   "id": "d400a13b",
   "metadata": {},
   "source": [
    "# Part 1\n",
    "Basic Plotting"
   ]
  },
  {
   "cell_type": "code",
   "execution_count": null,
   "id": "4fe64774",
   "metadata": {},
   "outputs": [],
   "source": [
    "accuracy = [0.15, 0.231, 0.44, 0.56, 0.7111, 0.8, 0.905]\n",
    "iterations = list(range(1000, 8000, 1000))"
   ]
  },
  {
   "cell_type": "code",
   "execution_count": null,
   "id": "a79eebe2",
   "metadata": {},
   "outputs": [],
   "source": [
    "plt.plot(iterations, accuracy, color='red', linestyle='--', marker='*', linewidth=3, label='model_1')\n",
    "# plt.plot(iterations, accuracy, '*--r', linewidth=3, label='model_1') \n",
    "\n",
    "plt.xlabel('Iterations')\n",
    "plt.ylabel('Accuracy')\n",
    "plt.title('Basic Plot')\n",
    "plt.legend()\n",
    "plt.tight_layout()\n",
    "\n",
    "plt.show()\n",
    "\n",
    "# plt.savefig(basic_plot.png)"
   ]
  },
  {
   "cell_type": "markdown",
   "id": "09e518f8",
   "metadata": {},
   "source": [
    "# Part 2\n",
    "Reading, Describing and Acessing Data"
   ]
  },
  {
   "cell_type": "code",
   "execution_count": null,
   "id": "9ea58ff2",
   "metadata": {},
   "outputs": [],
   "source": [
    "main_df = pd.read_csv('data/so_survey_2021.csv')\n",
    "main_df.head()"
   ]
  },
  {
   "cell_type": "markdown",
   "id": "a60e5a1a",
   "metadata": {},
   "source": [
    "### Table Schema\n",
    "Stack Overflow annual survey 2021  \n",
    "\n",
    "__Country__ : Where do you live?   \n",
    "__US_State__ : In which state or territory of the USA do you live?  \n",
    "__UK_Country__ : In which part of the United Kingdom do you live?  \n",
    "__Age__ : \tWhat is your age?  \n",
    "__YearsCode__ : Including any education, how many years have you been coding in total?  \n",
    "__EdLevel__ : Which of the following best describes the highest level of formal education that you’ve completed?  \n",
    "__DevType__ : Which of the following describes your current job? Please select all that apply.  \n",
    "__LanguageHaveWorkedWith__ : Which programming, scripting, and markup languages have you done extensive development work in over the past year?  \n",
    "__CompTotal__ : What is your current total compensation (salary, bonuses, and perks, before taxes and deductions), in $? If you are paid hourly, please estimate an equivalent weekly, monthly, or yearly salary.  "
   ]
  },
  {
   "cell_type": "code",
   "execution_count": null,
   "id": "39d0704f",
   "metadata": {},
   "outputs": [],
   "source": [
    "main_df.info()"
   ]
  },
  {
   "cell_type": "code",
   "execution_count": null,
   "id": "95c26cd5",
   "metadata": {},
   "outputs": [],
   "source": [
    "main_df.shape"
   ]
  },
  {
   "cell_type": "code",
   "execution_count": null,
   "id": "e4555d45",
   "metadata": {},
   "outputs": [],
   "source": [
    "main_df.describe(include='all')"
   ]
  },
  {
   "cell_type": "code",
   "execution_count": null,
   "id": "6574544e",
   "metadata": {},
   "outputs": [],
   "source": [
    "main_df.set_index('ResponseId')"
   ]
  },
  {
   "cell_type": "code",
   "execution_count": null,
   "id": "f722a281",
   "metadata": {},
   "outputs": [],
   "source": [
    "main_df.loc[4]"
   ]
  },
  {
   "cell_type": "code",
   "execution_count": null,
   "id": "75d47445",
   "metadata": {},
   "outputs": [],
   "source": [
    "main_df.loc[[14, 19]]"
   ]
  },
  {
   "cell_type": "code",
   "execution_count": null,
   "id": "5e839edd",
   "metadata": {},
   "outputs": [],
   "source": [
    "main_df.loc[14:19]"
   ]
  },
  {
   "cell_type": "code",
   "execution_count": null,
   "id": "19f18490",
   "metadata": {},
   "outputs": [],
   "source": [
    "main_df.loc[14:19, 'Age']"
   ]
  },
  {
   "cell_type": "code",
   "execution_count": null,
   "id": "bc236fa5",
   "metadata": {},
   "outputs": [],
   "source": [
    "main_df.columns"
   ]
  },
  {
   "cell_type": "code",
   "execution_count": null,
   "id": "9069cf2d",
   "metadata": {},
   "outputs": [],
   "source": [
    "main_df.set_index(['Country', 'EdLevel'], inplace=True)"
   ]
  },
  {
   "cell_type": "code",
   "execution_count": null,
   "id": "deb912ba",
   "metadata": {},
   "outputs": [],
   "source": [
    "main_df.loc['Canada']"
   ]
  },
  {
   "cell_type": "code",
   "execution_count": null,
   "id": "388e3c0e",
   "metadata": {},
   "outputs": [],
   "source": [
    "main_df.loc['Canada', 'Something else']"
   ]
  },
  {
   "cell_type": "code",
   "execution_count": null,
   "id": "b8374aa6",
   "metadata": {},
   "outputs": [],
   "source": [
    "main_df.reset_index()"
   ]
  },
  {
   "cell_type": "code",
   "execution_count": null,
   "id": "a7d3b578",
   "metadata": {},
   "outputs": [],
   "source": [
    "main_df.set_index('ResponseId', inplace=True)"
   ]
  },
  {
   "cell_type": "markdown",
   "id": "e26ed5ed",
   "metadata": {},
   "source": [
    "# Part 3\n",
    "Filters, Drop, Add Columns"
   ]
  },
  {
   "cell_type": "code",
   "execution_count": null,
   "id": "576d277f",
   "metadata": {},
   "outputs": [],
   "source": [
    "main_df.drop(columns=['US_State', 'UK_Country'])   # inplace=True"
   ]
  },
  {
   "cell_type": "code",
   "execution_count": null,
   "id": "a2efeffa",
   "metadata": {},
   "outputs": [],
   "source": [
    "main_df.info()"
   ]
  },
  {
   "cell_type": "code",
   "execution_count": null,
   "id": "392cbcc9",
   "metadata": {},
   "outputs": [],
   "source": [
    "main_df.drop(main_df.index[0:100])   # inplace=True"
   ]
  },
  {
   "cell_type": "code",
   "execution_count": null,
   "id": "13d7436f",
   "metadata": {},
   "outputs": [],
   "source": [
    "filt = main_df['DevType'].str.contains('machine learning|data scientist', na=False, case=False)\n",
    "main_df['DataScienceOrML'] = np.where(filt, True, False)"
   ]
  },
  {
   "cell_type": "code",
   "execution_count": null,
   "id": "e70aafdf",
   "metadata": {},
   "outputs": [],
   "source": [
    "main_df.info()"
   ]
  },
  {
   "cell_type": "code",
   "execution_count": null,
   "id": "0d417286",
   "metadata": {},
   "outputs": [],
   "source": [
    "main_df['DataScienceOrML'].value_counts()"
   ]
  },
  {
   "cell_type": "markdown",
   "id": "a980e83d",
   "metadata": {},
   "source": [
    "# Part 4\n",
    "Replacing, Casting, Histogram "
   ]
  },
  {
   "cell_type": "code",
   "execution_count": null,
   "id": "e66ac94f",
   "metadata": {},
   "outputs": [],
   "source": [
    "x = [0, 1, 1.9999, 3, 3.5, 4]"
   ]
  },
  {
   "cell_type": "code",
   "execution_count": null,
   "id": "37d78f8e",
   "metadata": {},
   "outputs": [],
   "source": [
    "plt.hist(x, bins=[1, 2, 3, 4], edgecolor='black')\n",
    "\n",
    "plt.tight_layout()\n",
    "\n",
    "plt.show()"
   ]
  },
  {
   "cell_type": "markdown",
   "id": "b6e78361",
   "metadata": {},
   "source": [
    "### How does it work?\n",
    "\n",
    "```\n",
    "plt.hist(x=some_data, bins=[1, 2, 3, 4])\n",
    "```\n",
    "\n",
    "1st bin: [1, 2)  \n",
    "2nd bin: [2, 3)  \n",
    "3rd bin: [3, 4]"
   ]
  },
  {
   "cell_type": "code",
   "execution_count": null,
   "id": "7e43d7e7",
   "metadata": {},
   "outputs": [],
   "source": [
    "plt.hist(x, bins=3, edgecolor='black', color='darkgreen')\n",
    "\n",
    "plt.tight_layout()\n",
    "\n",
    "plt.show()"
   ]
  },
  {
   "cell_type": "code",
   "execution_count": null,
   "id": "f4a3a95b",
   "metadata": {},
   "outputs": [],
   "source": [
    "main_df['YearsCode'].value_counts()"
   ]
  },
  {
   "cell_type": "code",
   "execution_count": null,
   "id": "fd516aa8",
   "metadata": {},
   "outputs": [],
   "source": [
    "main_df['YearsCode'].replace('Less than 1 year', 0, inplace=True)\n",
    "main_df['YearsCode'].replace('More than 50 years', 51, inplace=True)\n",
    "main_df['YearsCode'] = main_df['YearsCode'].astype(float)"
   ]
  },
  {
   "cell_type": "code",
   "execution_count": null,
   "id": "8bac8b50",
   "metadata": {},
   "outputs": [],
   "source": [
    "main_df['YearsCode'].describe()"
   ]
  },
  {
   "cell_type": "code",
   "execution_count": null,
   "id": "7598a5c0",
   "metadata": {},
   "outputs": [],
   "source": [
    "main_df['YearsCode'].median()"
   ]
  },
  {
   "cell_type": "code",
   "execution_count": null,
   "id": "c89e6d4f",
   "metadata": {},
   "outputs": [],
   "source": [
    "plt.hist(main_df['YearsCode'], bins=15, edgecolor='black', color='orange')\n",
    "\n",
    "plt.tight_layout()\n",
    "\n",
    "plt.show()"
   ]
  },
  {
   "cell_type": "code",
   "execution_count": null,
   "id": "57c9ecad",
   "metadata": {},
   "outputs": [],
   "source": [
    "bins = list(range(0, 53, 2))"
   ]
  },
  {
   "cell_type": "code",
   "execution_count": null,
   "id": "b8675e1c",
   "metadata": {},
   "outputs": [],
   "source": [
    "plt.hist(main_df['YearsCode'], bins=bins, edgecolor='black')\n",
    "\n",
    "plt.tight_layout()\n",
    "\n",
    "plt.show()"
   ]
  },
  {
   "cell_type": "markdown",
   "id": "e1799c2b",
   "metadata": {},
   "source": [
    "# Part 5\n",
    "Barplot, Dropna"
   ]
  },
  {
   "cell_type": "code",
   "execution_count": null,
   "id": "52f8b531",
   "metadata": {},
   "outputs": [],
   "source": [
    "main_df.columns.tolist()"
   ]
  },
  {
   "cell_type": "code",
   "execution_count": null,
   "id": "2cd8cc44",
   "metadata": {},
   "outputs": [],
   "source": [
    "# ids = main_df['ResponseId']\n",
    "ids = main_df.index\n",
    "langs = main_df['LanguageHaveWorkedWith']   # .dropna()\n",
    "language_counter = Counter()"
   ]
  },
  {
   "cell_type": "code",
   "execution_count": null,
   "id": "6f9feea6",
   "metadata": {},
   "outputs": [],
   "source": [
    "for response in langs:\n",
    "    language_counter.update(response.split(';'))"
   ]
  },
  {
   "cell_type": "code",
   "execution_count": null,
   "id": "3626ff9a",
   "metadata": {},
   "outputs": [],
   "source": [
    "languages, popularity = map(list, zip(*language_counter.most_common(10)))"
   ]
  },
  {
   "cell_type": "code",
   "execution_count": null,
   "id": "5b9bf6fa",
   "metadata": {},
   "outputs": [],
   "source": [
    "plt.bar(languages, popularity, color='darkgreen')\n",
    "\n",
    "plt.xticks(rotation=45)\n",
    "plt.ylabel('Number of People Who Use')\n",
    "plt.title('Most Popular Languages')\n",
    "\n",
    "plt.show()"
   ]
  }
 ],
 "metadata": {
  "kernelspec": {
   "display_name": "Python 3 (ipykernel)",
   "language": "python",
   "name": "python3"
  },
  "language_info": {
   "codemirror_mode": {
    "name": "ipython",
    "version": 3
   },
   "file_extension": ".py",
   "mimetype": "text/x-python",
   "name": "python",
   "nbconvert_exporter": "python",
   "pygments_lexer": "ipython3",
   "version": "3.8.7"
  }
 },
 "nbformat": 4,
 "nbformat_minor": 5
}
