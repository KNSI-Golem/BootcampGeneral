{
 "cells": [
  {
   "cell_type": "markdown",
   "id": "216d8415",
   "metadata": {},
   "source": [
    "# Bootcamp 2021 - spotkanie 2\n",
    "Regresja liniowa na przykładzie przewidywania cen nieruchomości"
   ]
  },
  {
   "cell_type": "markdown",
   "id": "fd4a0db0",
   "metadata": {},
   "source": [
    "<h1> Part 1 </h1> "
   ]
  },
  {
   "cell_type": "code",
   "execution_count": null,
   "id": "7c365bf0",
   "metadata": {},
   "outputs": [],
   "source": [
    "import numpy as np\n",
    "import matplotlib.pyplot as plt\n",
    "import pandas as pd\n",
    "from sklearn.linear_model import LinearRegression\n",
    "from sklearn.preprocessing import PolynomialFeatures\n",
    "from sklearn.pipeline import make_pipeline\n",
    "\n",
    "#Wczytujemy dane \n",
    "estate_df = pd.read_csv (r'data/Real_estate_dataset.csv')\n",
    "pd.DataFrame(estate_df)"
   ]
  },
  {
   "cell_type": "code",
   "execution_count": null,
   "id": "0a52dddf",
   "metadata": {},
   "outputs": [],
   "source": [
    "#Usuwamy niepotrzebną kolumnę\n",
    "estate_df.drop(\"No\", axis=1, inplace=True)"
   ]
  },
  {
   "cell_type": "code",
   "execution_count": null,
   "id": "311316ad",
   "metadata": {
    "scrolled": true
   },
   "outputs": [],
   "source": [
    "#podział na zmienne i cel\n",
    "X = estate_df.drop(estate_df.columns[6],axis=1)\n",
    "y = estate_df.iloc[:, 6]\n",
    "\n",
    "#zmiana z pandas DataFrame na Numpy ndarray - żeby się nauczyć :)\n",
    "X=X.values\n",
    "print(X)"
   ]
  },
  {
   "cell_type": "code",
   "execution_count": null,
   "id": "682941f4",
   "metadata": {},
   "outputs": [],
   "source": [
    "#normalizacja - dzielimy wszystko przez maksymalną warotść żeby nie operować na dużych liczbach\n",
    "max_values = np.max(X,axis=0)\n",
    "for i in range(0, X.shape[1]):    \n",
    "    X[:,i]=X[:,i]/max_values[i]\n",
    "    \n",
    "print(X)"
   ]
  },
  {
   "cell_type": "code",
   "execution_count": null,
   "id": "a478a0bd",
   "metadata": {},
   "outputs": [],
   "source": [
    "#inicjujemy bete na 0 \n",
    "beta = np.zeros(X.shape[1])\n",
    "print(beta)"
   ]
  },
  {
   "cell_type": "markdown",
   "id": "c741f795",
   "metadata": {},
   "source": [
    "<h3>Funkcja straty</h3>\n",
    "<center><h2>${J} = \\frac{1}{n} \\sum \\limits _{i=1} ^{n} ({y}_{i} - pred_{i})^2$</h2></center>\n"
   ]
  },
  {
   "cell_type": "code",
   "execution_count": null,
   "id": "06eaaea3",
   "metadata": {},
   "outputs": [],
   "source": [
    "#definiujemy pochodną funkcji straty\n",
    "def cost_function(X, y, beta):\n",
    "    y1 = beta*X\n",
    "    y1=np.sum(y1, axis=1)\n",
    "    return sum(np.sqrt((y1-y)**2))/(X.shape[0])"
   ]
  },
  {
   "cell_type": "markdown",
   "id": "7b56b8de",
   "metadata": {},
   "source": [
    "<h3>Pochodna cząstkowa funkcji straty</h3>\n",
    "<center><h2>$\\frac{\\partial{X}_i}{\\partial J} = \\frac{-2}{n} \\sum \\limits _{i=1} ^{n} (pred_{i})^{'} ({y}_{i} - pred_{i})^2$</h2></center>\n",
    "\n",
    "Gdzie $(pred_{i})^{'}$ to pochodna cząstkowa względem $X_{i}$ z wielomianu $(pred) = \\beta _{0} + \\beta_{1}X_{1} + \\beta_{2}X_{2} + ... + \\beta_{n}X_{n}$ "
   ]
  },
  {
   "cell_type": "code",
   "execution_count": null,
   "id": "e95f23ee",
   "metadata": {
    "scrolled": true
   },
   "outputs": [],
   "source": [
    "def gradient_descent(X, y, beta, alpha, i):\n",
    "    \n",
    "    # X - macierz X z danymi wejściowymi\n",
    "    # y - wektor z danymi wyjściowymi\n",
    "    # beta - wektor z przewidywanymi wartościami beta_0, beta_1 etc\n",
    "    # alpha - learning rate\n",
    "    # i - liczba iteracji którą będziemy wykonywać\n",
    "    \n",
    "    J = [] \n",
    "    for k in range(i):\n",
    "        \n",
    "        # liczymy przewidywaną wartość y, poprzez pomnożenie wektora beta przez macierz X\n",
    "        y1 = beta*X\n",
    "        y1 = np.sum(y1, axis=1)\n",
    "        \n",
    "        for c in range(0, X.shape[1]):\n",
    "            \n",
    "            # pochodna cząstkowa z X_c\n",
    "            deriv = sum((y1-y)*X[:,c])/(2*len(X))\n",
    "            \n",
    "            # regresja liniowa - zmieniamy wektor beta\n",
    "            beta[c] = beta[c] - alpha*deriv\n",
    "            print(beta[c])\n",
    "                                        \n",
    "        # patrzymy jak nam poszło, czyli liczymy funkcje straty\n",
    "        j = cost_function(X, y, beta)\n",
    "                                        \n",
    "        # dodajemy wynik do wektora J, żeby móc zobaczyć jak się zmienia funkcja straty\n",
    "        J.append(j)\n",
    "    return J, j, beta"
   ]
  },
  {
   "cell_type": "code",
   "execution_count": null,
   "id": "f25f6a06",
   "metadata": {},
   "outputs": [],
   "source": [
    "J, j, beta = gradient_descent(X, y, beta, 0.05, 1000)"
   ]
  },
  {
   "cell_type": "code",
   "execution_count": null,
   "id": "adffaec7",
   "metadata": {},
   "outputs": [],
   "source": [
    "# liczymy przewidywane wartości dla wszystkich danych - porównamy je z prawdziwymi\n",
    "y_hat = beta*X\n",
    "y_hat = np.sum(y_hat, axis=1)"
   ]
  },
  {
   "cell_type": "code",
   "execution_count": null,
   "id": "10e4df36",
   "metadata": {
    "scrolled": false
   },
   "outputs": [],
   "source": [
    "plt.figure(figsize=(10, 8))\n",
    "plt.scatter(x=list(range(0, X.shape[0])),y= y, color='black')         \n",
    "plt.scatter(x=list(range(0, X.shape[0])), y=y_hat, color='red')\n",
    "plt.show()"
   ]
  },
  {
   "cell_type": "code",
   "execution_count": null,
   "id": "226165c8",
   "metadata": {},
   "outputs": [],
   "source": [
    "plt.figure(figsize=(10, 8))\n",
    "plt.plot(list(range(0, 1000)), J)     \n"
   ]
  },
  {
   "cell_type": "code",
   "execution_count": null,
   "id": "82e23945",
   "metadata": {},
   "outputs": [],
   "source": [
    "#to samo można zastąpić jedną linijką używając biblioteki sklearn \n",
    "reg = LinearRegression().fit(X, y)"
   ]
  },
  {
   "cell_type": "code",
   "execution_count": null,
   "id": "b17b2fe4",
   "metadata": {
    "scrolled": true
   },
   "outputs": [],
   "source": [
    "plt.figure(figsize=(10, 8))\n",
    "plt.scatter(x=list(range(0, X.shape[0])),y= y, color='black')         \n",
    "plt.scatter(x=list(range(0, X.shape[0])), y=reg.predict(X), color='red')\n",
    "plt.show()"
   ]
  },
  {
   "cell_type": "markdown",
   "id": "5a0fea10",
   "metadata": {},
   "source": [
    "<h1> Part 2 - przykłady regresji wielomianowej </h1>"
   ]
  },
  {
   "cell_type": "code",
   "execution_count": null,
   "id": "9101b25c",
   "metadata": {},
   "outputs": [],
   "source": [
    "sin_approx = pd.read_csv(r'data/sinus_approx.csv')\n",
    "sin_approx = sin_approx.values\n",
    "\n",
    "X=(sin_approx[:, 0]).reshape(-1,1)\n",
    "Y=sin_approx[:,1]\n",
    "\n",
    "plt.figure(figsize=(10, 8))\n",
    "plt.scatter(x=X, y=Y, color='black')         "
   ]
  },
  {
   "cell_type": "code",
   "execution_count": null,
   "id": "6159a323",
   "metadata": {},
   "outputs": [],
   "source": [
    "def polynomial_regression(degree, X, Y):\n",
    "    poly = make_pipeline(PolynomialFeatures(degree),LinearRegression())\n",
    "    poly.fit(X, Y)\n",
    "    plt.figure(figsize=(10, 8))\n",
    "    plt.scatter(X, Y, color=\"black\")\n",
    "    plt.plot(X, poly.predict(X), color=\"red\")\n",
    "    plt.show()"
   ]
  },
  {
   "cell_type": "code",
   "execution_count": null,
   "id": "c5b49f2f",
   "metadata": {},
   "outputs": [],
   "source": [
    "#underfitting\n",
    "polynomial_regression(2, X, Y)"
   ]
  },
  {
   "cell_type": "code",
   "execution_count": null,
   "id": "1bd03a51",
   "metadata": {},
   "outputs": [],
   "source": [
    "#okej\n",
    "polynomial_regression(10, X, Y)"
   ]
  },
  {
   "cell_type": "code",
   "execution_count": null,
   "id": "b56c948a",
   "metadata": {},
   "outputs": [],
   "source": [
    "#overfitting\n",
    "polynomial_regression(30, X, Y)"
   ]
  }
 ],
 "metadata": {
  "kernelspec": {
   "display_name": "Python 3 (ipykernel)",
   "language": "python",
   "name": "python3"
  },
  "language_info": {
   "codemirror_mode": {
    "name": "ipython",
    "version": 3
   },
   "file_extension": ".py",
   "mimetype": "text/x-python",
   "name": "python",
   "nbconvert_exporter": "python",
   "pygments_lexer": "ipython3",
   "version": "3.9.7"
  }
 },
 "nbformat": 4,
 "nbformat_minor": 5
}
