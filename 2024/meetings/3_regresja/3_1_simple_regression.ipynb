{
 "cells": [
  {
   "cell_type": "markdown",
   "metadata": {},
   "source": [
    "# Simple Linear Regression\n",
    "\n",
    "The goal of this project was to build a linear regression model from the ground up using numpy."
   ]
  },
  {
   "cell_type": "code",
   "execution_count": null,
   "metadata": {
    "collapsed": true
   },
   "outputs": [],
   "source": [
    "%matplotlib inline\n",
    "import numpy as np\n",
    "import matplotlib.pyplot as plt"
   ]
  },
  {
   "cell_type": "code",
   "execution_count": null,
   "metadata": {
    "collapsed": false
   },
   "outputs": [],
   "source": [
    "points = np.genfromtxt('data.csv', delimiter=',')\n",
    "\n",
    "#Extract columns\n",
    "x = np.array(points[:,0])\n",
    "y = np.array(points[:,1])\n",
    "\n",
    "#Plot the dataset\n",
    "plt.scatter(x,y)\n",
    "plt.xlabel('Hours of study')\n",
    "plt.ylabel('Test scores')\n",
    "plt.title('Dataset')\n",
    "plt.show()"
   ]
  },
  {
   "cell_type": "markdown",
   "metadata": {},
   "source": [
    "#### Defining the hyperparamters"
   ]
  },
  {
   "cell_type": "code",
   "execution_count": null,
   "metadata": {
    "collapsed": true
   },
   "outputs": [],
   "source": [
    "#hyperparamters\n",
    "learning_rate = 0.0001\n",
    "initial_bias = 0\n",
    "initial_linear_coef = 0\n",
    "num_iterations = 10"
   ]
  },
  {
   "cell_type": "markdown",
   "metadata": {},
   "source": [
    "#### Define cost function\n",
    "$$\n",
    "\\text{MSE}(y, \\hat{y}) = \\frac{\\sum_{i=0}^{N - 1} (y_i - \\hat{y}_i)^2}{N}\n",
    "$$\n"
   ]
  },
  {
   "cell_type": "code",
   "execution_count": null,
   "metadata": {
    "collapsed": true
   },
   "outputs": [],
   "source": [
    "def compute_cost(bias, linear_coef, points):\n",
    "    \"\"\"TODO: implement MSE\"\"\"\n",
    "    total_cost = 0\n",
    "    num_of_points = len(points)"
   ]
  },
  {
   "cell_type": "markdown",
   "metadata": {},
   "source": [
    "#### Define Gradient Descent functions\n",
    "$$\n",
    "\\frac{d}{dx}(x^2) = 2x\n",
    "$$\n",
    "$$\n",
    "h(x) = (f \\circ g)(x) = f(g(x))\n",
    "$$\n",
    "$$\n",
    "h'(x) = f'(g(x)) \\cdot g'(x)\n",
    "$$\n",
    "$$\n",
    "L(a,b) = \\frac{1}{N} \\sum_{i=1}^{N} (y_i - (ax_i + b))^2\n",
    "$$"
   ]
  },
  {
   "cell_type": "markdown",
   "metadata": {},
   "source": [
    "$$\n",
    "\\frac{\\partial L}{\\partial a} = \\frac{1}{N} \\sum_{i=1}^{N} 2(y_i - (ax_i + b)) \\cdot (-x_i) = -\\frac{2}{N} \\sum_{i=1}^{N} x_i(y_i - (ax_i + b))\n",
    "$$\n",
    "$$\n",
    "\\frac{\\partial L}{\\partial b} = \\frac{1}{N} \\sum_{i=1}^{N} 2(y_i - (ax_i + b)) \\cdot (-1) = -\\frac{2}{N} \\sum_{i=1}^{N} (y_i - (ax_i + b))\n",
    "$$"
   ]
  },
  {
   "cell_type": "code",
   "execution_count": null,
   "metadata": {
    "collapsed": false
   },
   "outputs": [],
   "source": [
    "def step_gradient(b_current, a_current, points, learning_rate):\n",
    "    a_accumulated_gradient = 0\n",
    "    b_accumulated_gradient = 0\n",
    "    N = float(len(points))\n",
    "    \"\"\"TODO: implement update of params using gradient descent\"\"\"\n",
    "    \n",
    "    \n",
    "    \n",
    "    return b_updated, a_updated"
   ]
  },
  {
   "cell_type": "code",
   "execution_count": null,
   "metadata": {},
   "outputs": [],
   "source": [
    "def gradient_descent_runner(points, starting_bias, starting_linear_coefs, learning_rate, num_iterations):\n",
    "    b = starting_bias\n",
    "    a = starting_linear_coefs\n",
    "    costs = []\n",
    "\n",
    "    for i in range(num_iterations):\n",
    "        \"\"\"TODO: implement training loop\"\"\"\n",
    "        \n",
    "\n",
    "    return [b, a, costs]"
   ]
  },
  {
   "cell_type": "markdown",
   "metadata": {},
   "source": [
    "#### Run gradient_descent_runner() to get optimized parameters b and m"
   ]
  },
  {
   "cell_type": "code",
   "execution_count": null,
   "metadata": {
    "collapsed": false
   },
   "outputs": [],
   "source": [
    "b, a, cost_graph = gradient_descent_runner(points, initial_bias, initial_linear_coef, learning_rate, num_iterations)\n"
   ]
  },
  {
   "cell_type": "code",
   "execution_count": null,
   "metadata": {
    "collapsed": false,
    "scrolled": true
   },
   "outputs": [],
   "source": [
    "plt.plot(cost_graph)\n",
    "plt.xlabel('No. of iterations')\n",
    "plt.ylabel('Cost')\n",
    "plt.title('Cost per iteration')\n",
    "plt.show()"
   ]
  },
  {
   "cell_type": "code",
   "execution_count": null,
   "metadata": {
    "collapsed": false
   },
   "outputs": [],
   "source": [
    "#Plot dataset\n",
    "plt.scatter(x, y)\n",
    "#Predict y values\n",
    "pred = a * x + b\n",
    "#Plot predictions as line of best fit\n",
    "plt.plot(x, pred, c='r')\n",
    "plt.xlabel('Hours of study')\n",
    "plt.ylabel('Test scores')\n",
    "plt.title('Line of best fit')\n",
    "plt.show()"
   ]
  }
 ],
 "metadata": {
  "kernelspec": {
   "display_name": "golem",
   "language": "python",
   "name": "python3"
  },
  "language_info": {
   "codemirror_mode": {
    "name": "ipython",
    "version": 3
   },
   "file_extension": ".py",
   "mimetype": "text/x-python",
   "name": "python",
   "nbconvert_exporter": "python",
   "pygments_lexer": "ipython3",
   "version": "3.10.15"
  }
 },
 "nbformat": 4,
 "nbformat_minor": 2
}
