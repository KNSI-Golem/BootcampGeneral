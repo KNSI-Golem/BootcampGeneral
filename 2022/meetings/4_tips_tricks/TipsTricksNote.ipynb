{
 "cells": [
  {
   "cell_type": "code",
   "execution_count": 118,
   "id": "22d73943",
   "metadata": {
    "slideshow": {
     "slide_type": "skip"
    }
   },
   "outputs": [
    {
     "name": "stdout",
     "output_type": "stream",
     "text": [
      "The autoreload extension is already loaded. To reload it, use:\n",
      "  %reload_ext autoreload\n"
     ]
    }
   ],
   "source": [
    "import pandas as pd\n",
    "import numpy as np\n",
    "\n",
    "import matplotlib.pyplot as plt\n",
    "\n",
    "# sklearn\n",
    "from sklearn.linear_model import LogisticRegression\n",
    "from sklearn.metrics import accuracy_score, roc_auc_score, plot_roc_curve, roc_curve, auc, RocCurveDisplay\n",
    "from sklearn.model_selection import train_test_split, RandomizedSearchCV\n",
    "\n",
    "from sklearn.preprocessing import OrdinalEncoder, MinMaxScaler\n",
    "from sklearn.impute import SimpleImputer\n",
    "\n",
    "\n",
    "from typing import Tuple\n",
    "import sys\n",
    "\n",
    "import warnings\n",
    "warnings.filterwarnings('ignore')\n",
    "%load_ext autoreload\n",
    "%autoreload 2"
   ]
  },
  {
   "cell_type": "markdown",
   "id": "488581f8",
   "metadata": {
    "slideshow": {
     "slide_type": "slide"
    }
   },
   "source": [
    "# Golem Bootcamp 2022 - Tips & Tricks\n",
    "_15.11.2022_"
   ]
  },
  {
   "cell_type": "markdown",
   "id": "f500a5c8",
   "metadata": {
    "slideshow": {
     "slide_type": "subslide"
    }
   },
   "source": [
    "Interesuje nas dzisiaj tematyka **danych**. Będziemy się starali poprawić **dane**, na których trenujemy zostając przy tym samym **klasyfikatorze**, aby poprawić wynik końcowy."
   ]
  },
  {
   "cell_type": "markdown",
   "id": "c5ff76ef",
   "metadata": {
    "slideshow": {
     "slide_type": "subslide"
    }
   },
   "source": [
    "### Na czym dzisiaj operujemy?\n",
    "Zbiór danych o pacjentach, którzy mają choroby układu krążenia.\n",
    "\n",
    "SOURCE: https://www.kaggle.com/datasets/sulianova/cardiovascular-disease-dataset"
   ]
  },
  {
   "cell_type": "markdown",
   "id": "6f82079c",
   "metadata": {
    "slideshow": {
     "slide_type": "fragment"
    }
   },
   "source": [
    "<img src=\"imgs/dataset-cover.jpg\">\n"
   ]
  },
  {
   "cell_type": "markdown",
   "id": "fa954cec",
   "metadata": {
    "slideshow": {
     "slide_type": "slide"
    }
   },
   "source": [
    "### Data Loading"
   ]
  },
  {
   "cell_type": "code",
   "execution_count": 119,
   "id": "a11d4cd7",
   "metadata": {
    "slideshow": {
     "slide_type": "subslide"
    }
   },
   "outputs": [],
   "source": [
    "train_data = pd.read_csv('data/train_data.csv')\n",
    "test_features = pd.read_csv('data/test_features.csv')"
   ]
  },
  {
   "cell_type": "markdown",
   "id": "a6896d3d",
   "metadata": {
    "slideshow": {
     "slide_type": "subslide"
    }
   },
   "source": [
    "### First look"
   ]
  },
  {
   "cell_type": "code",
   "execution_count": 120,
   "id": "246e0c0c",
   "metadata": {
    "scrolled": true,
    "slideshow": {
     "slide_type": "fragment"
    }
   },
   "outputs": [
    {
     "data": {
      "text/html": [
       "<div>\n",
       "<style scoped>\n",
       "    .dataframe tbody tr th:only-of-type {\n",
       "        vertical-align: middle;\n",
       "    }\n",
       "\n",
       "    .dataframe tbody tr th {\n",
       "        vertical-align: top;\n",
       "    }\n",
       "\n",
       "    .dataframe thead th {\n",
       "        text-align: right;\n",
       "    }\n",
       "</style>\n",
       "<table border=\"1\" class=\"dataframe\">\n",
       "  <thead>\n",
       "    <tr style=\"text-align: right;\">\n",
       "      <th></th>\n",
       "      <th>id</th>\n",
       "      <th>age</th>\n",
       "      <th>gender</th>\n",
       "      <th>height</th>\n",
       "      <th>weight</th>\n",
       "      <th>ap_hi</th>\n",
       "      <th>ap_lo</th>\n",
       "      <th>cholesterol</th>\n",
       "      <th>gluc</th>\n",
       "      <th>lifestyle</th>\n",
       "      <th>is_cardio_ill</th>\n",
       "    </tr>\n",
       "  </thead>\n",
       "  <tbody>\n",
       "    <tr>\n",
       "      <th>0</th>\n",
       "      <td>12611</td>\n",
       "      <td>21805</td>\n",
       "      <td>male</td>\n",
       "      <td>172.0</td>\n",
       "      <td>90.0</td>\n",
       "      <td>100</td>\n",
       "      <td>80</td>\n",
       "      <td>normal</td>\n",
       "      <td>normal</td>\n",
       "      <td>active</td>\n",
       "      <td>0</td>\n",
       "    </tr>\n",
       "    <tr>\n",
       "      <th>1</th>\n",
       "      <td>91034</td>\n",
       "      <td>22751</td>\n",
       "      <td>female</td>\n",
       "      <td>156.0</td>\n",
       "      <td>100.0</td>\n",
       "      <td>150</td>\n",
       "      <td>100</td>\n",
       "      <td>normal</td>\n",
       "      <td>normal</td>\n",
       "      <td>active</td>\n",
       "      <td>0</td>\n",
       "    </tr>\n",
       "    <tr>\n",
       "      <th>2</th>\n",
       "      <td>25237</td>\n",
       "      <td>18944</td>\n",
       "      <td>female</td>\n",
       "      <td>160.0</td>\n",
       "      <td>60.0</td>\n",
       "      <td>120</td>\n",
       "      <td>80</td>\n",
       "      <td>normal</td>\n",
       "      <td>normal</td>\n",
       "      <td>active</td>\n",
       "      <td>0</td>\n",
       "    </tr>\n",
       "    <tr>\n",
       "      <th>3</th>\n",
       "      <td>27159</td>\n",
       "      <td>18869</td>\n",
       "      <td>female</td>\n",
       "      <td>158.0</td>\n",
       "      <td>96.0</td>\n",
       "      <td>130</td>\n",
       "      <td>80</td>\n",
       "      <td>way above normal</td>\n",
       "      <td>normal</td>\n",
       "      <td>active</td>\n",
       "      <td>0</td>\n",
       "    </tr>\n",
       "    <tr>\n",
       "      <th>4</th>\n",
       "      <td>34101</td>\n",
       "      <td>21233</td>\n",
       "      <td>female</td>\n",
       "      <td>151.0</td>\n",
       "      <td>100.0</td>\n",
       "      <td>130</td>\n",
       "      <td>80</td>\n",
       "      <td>way above normal</td>\n",
       "      <td>way above normal</td>\n",
       "      <td>active</td>\n",
       "      <td>0</td>\n",
       "    </tr>\n",
       "  </tbody>\n",
       "</table>\n",
       "</div>"
      ],
      "text/plain": [
       "      id    age  gender  height  weight  ap_hi  ap_lo       cholesterol  \\\n",
       "0  12611  21805    male   172.0    90.0    100     80            normal   \n",
       "1  91034  22751  female   156.0   100.0    150    100            normal   \n",
       "2  25237  18944  female   160.0    60.0    120     80            normal   \n",
       "3  27159  18869  female   158.0    96.0    130     80  way above normal   \n",
       "4  34101  21233  female   151.0   100.0    130     80  way above normal   \n",
       "\n",
       "               gluc lifestyle  is_cardio_ill  \n",
       "0            normal    active              0  \n",
       "1            normal    active              0  \n",
       "2            normal    active              0  \n",
       "3            normal    active              0  \n",
       "4  way above normal    active              0  "
      ]
     },
     "execution_count": 120,
     "metadata": {},
     "output_type": "execute_result"
    }
   ],
   "source": [
    "train_data.head()"
   ]
  },
  {
   "cell_type": "code",
   "execution_count": 121,
   "id": "252681bb",
   "metadata": {
    "scrolled": true,
    "slideshow": {
     "slide_type": "fragment"
    }
   },
   "outputs": [
    {
     "name": "stdout",
     "output_type": "stream",
     "text": [
      "<class 'pandas.core.frame.DataFrame'>\n",
      "RangeIndex: 30175 entries, 0 to 30174\n",
      "Data columns (total 11 columns):\n",
      " #   Column         Non-Null Count  Dtype  \n",
      "---  ------         --------------  -----  \n",
      " 0   id             30175 non-null  int64  \n",
      " 1   age            30175 non-null  int64  \n",
      " 2   gender         29285 non-null  object \n",
      " 3   height         29608 non-null  float64\n",
      " 4   weight         29028 non-null  float64\n",
      " 5   ap_hi          30175 non-null  int64  \n",
      " 6   ap_lo          30175 non-null  int64  \n",
      " 7   cholesterol    30175 non-null  object \n",
      " 8   gluc           30175 non-null  object \n",
      " 9   lifestyle      25095 non-null  object \n",
      " 10  is_cardio_ill  30175 non-null  int64  \n",
      "dtypes: float64(2), int64(5), object(4)\n",
      "memory usage: 2.5+ MB\n"
     ]
    }
   ],
   "source": [
    "train_data.info()"
   ]
  },
  {
   "cell_type": "code",
   "execution_count": 122,
   "id": "3a412221",
   "metadata": {
    "slideshow": {
     "slide_type": "subslide"
    }
   },
   "outputs": [
    {
     "data": {
      "text/plain": [
       "female    19124\n",
       "male      10161\n",
       "Name: gender, dtype: int64"
      ]
     },
     "execution_count": 122,
     "metadata": {},
     "output_type": "execute_result"
    }
   ],
   "source": [
    "train_data['gender'].value_counts()"
   ]
  },
  {
   "cell_type": "code",
   "execution_count": 123,
   "id": "9c510741",
   "metadata": {
    "slideshow": {
     "slide_type": "subslide"
    }
   },
   "outputs": [
    {
     "data": {
      "text/plain": [
       "normal              24595\n",
       "above normal         3471\n",
       "way above normal     2109\n",
       "Name: cholesterol, dtype: int64"
      ]
     },
     "execution_count": 123,
     "metadata": {},
     "output_type": "execute_result"
    }
   ],
   "source": [
    "train_data['cholesterol'].value_counts()"
   ]
  },
  {
   "cell_type": "code",
   "execution_count": 124,
   "id": "7962df09",
   "metadata": {
    "slideshow": {
     "slide_type": "subslide"
    }
   },
   "outputs": [
    {
     "data": {
      "text/plain": [
       "normal              26322\n",
       "above normal         1938\n",
       "way above normal     1915\n",
       "Name: gluc, dtype: int64"
      ]
     },
     "execution_count": 124,
     "metadata": {},
     "output_type": "execute_result"
    }
   ],
   "source": [
    "train_data['gluc'].value_counts()"
   ]
  },
  {
   "cell_type": "code",
   "execution_count": 125,
   "id": "37558044",
   "metadata": {
    "slideshow": {
     "slide_type": "subslide"
    }
   },
   "outputs": [
    {
     "data": {
      "text/plain": [
       "active                     21562\n",
       "smoker,active               1571\n",
       "smoker,alcoholic,active      762\n",
       "alcoholic,active             664\n",
       "smoker                       283\n",
       "alcoholic                    132\n",
       "smoker,alcoholic             121\n",
       "Name: lifestyle, dtype: int64"
      ]
     },
     "execution_count": 125,
     "metadata": {},
     "output_type": "execute_result"
    }
   ],
   "source": [
    "train_data['lifestyle'].value_counts()"
   ]
  },
  {
   "cell_type": "markdown",
   "id": "29b92a9e",
   "metadata": {
    "slideshow": {
     "slide_type": "slide"
    }
   },
   "source": [
    "### Quickest submission on earth"
   ]
  },
  {
   "cell_type": "code",
   "execution_count": 126,
   "id": "246631ff",
   "metadata": {
    "slideshow": {
     "slide_type": "subslide"
    }
   },
   "outputs": [],
   "source": [
    "# Helpers\n",
    "\n",
    "LABEL_COL = \"is_cardio_ill\"\n",
    "RANDOM_STATE = 42\n",
    "\n",
    "\n",
    "\n",
    "def make_train_valid_split(train_data: pd.DataFrame, test_size: int = 100) -> Tuple[pd.DataFrame]:\n",
    "    \n",
    "    \"\"\"\n",
    "    Makes train test split based on the feature column and dataframe provided\n",
    "    \"\"\"\n",
    "    \n",
    "    features, labels = train_data.drop(LABEL_COL, axis=1), train_data[LABEL_COL]\n",
    "    train_X, validation_X, train_y, validation_y = \\\n",
    "                train_test_split(features, labels, test_size=test_size, random_state=RANDOM_STATE)\n",
    "    \n",
    "    return train_X, validation_X, train_y, validation_y"
   ]
  },
  {
   "cell_type": "code",
   "execution_count": 127,
   "id": "cb82f827",
   "metadata": {
    "slideshow": {
     "slide_type": "fragment"
    }
   },
   "outputs": [],
   "source": [
    "# Model od Bartka\n",
    "class CoolModel():\n",
    "    def __init__(self):\n",
    "        pass\n",
    "\n",
    "    def fit(self, x, y):\n",
    "        pass\n",
    "\n",
    "    def predict(self, x):\n",
    "        return [0 for _ in range(len(x))]"
   ]
  },
  {
   "cell_type": "code",
   "execution_count": 128,
   "id": "05134d0b",
   "metadata": {
    "slideshow": {
     "slide_type": "subslide"
    }
   },
   "outputs": [
    {
     "name": "stdout",
     "output_type": "stream",
     "text": [
      "Accuracy on a dummiest model: 90.0 %\n"
     ]
    }
   ],
   "source": [
    "train_X, validation_X, train_y, validation_y = make_train_valid_split(train_data)\n",
    "model = CoolModel()\n",
    "model.fit(train_X, train_y)\n",
    "predictions = model.predict(validation_X)\n",
    "\n",
    "acc = accuracy_score(validation_y, predictions)\n",
    "make_percents = lambda val: 100 * round(val, 2)\n",
    "\n",
    "print(f\"Accuracy on a dummiest model: {make_percents(acc)} %\")"
   ]
  },
  {
   "cell_type": "markdown",
   "id": "9876e66b",
   "metadata": {
    "slideshow": {
     "slide_type": "slide"
    }
   },
   "source": [
    "### Czy rozwiązaliśmy zadanie?"
   ]
  },
  {
   "cell_type": "markdown",
   "id": "017b4f3a",
   "metadata": {
    "slideshow": {
     "slide_type": "fragment"
    }
   },
   "source": [
    "Not really... 🥴🥴🥴"
   ]
  },
  {
   "cell_type": "code",
   "execution_count": 129,
   "id": "61213901",
   "metadata": {},
   "outputs": [
    {
     "name": "stdout",
     "output_type": "stream",
     "text": [
      "ROC score: 0.5\n"
     ]
    },
    {
     "data": {
      "image/png": "[encoded data removed]",
      "text/plain": [
       "<Figure size 600x400 with 1 Axes>"
      ]
     },
     "metadata": {},
     "output_type": "display_data"
    }
   ],
   "source": [
    "def evaluate_with_roc(validations, predictions):\n",
    "\n",
    "    print(f\"ROC score: {roc_auc_score(validations, predictions)}\")\n",
    "    plt.rcParams['figure.figsize'] = 6, 4\n",
    "    fpr, tpr, thresholds = roc_curve(validations, predictions)\n",
    "    roc_auc = auc(fpr, tpr)\n",
    "    display = RocCurveDisplay(fpr=fpr, tpr=tpr, roc_auc=roc_auc)\n",
    "    display.plot()\n",
    "    plt.show()\n",
    "    \n",
    "evaluate_with_roc(validation_y, predictions)"
   ]
  },
  {
   "cell_type": "markdown",
   "id": "40474113",
   "metadata": {
    "slideshow": {
     "slide_type": "slide"
    }
   },
   "source": [
    "### No dobra, to teraz potrenujmy jak się należy"
   ]
  },
  {
   "cell_type": "code",
   "execution_count": 130,
   "id": "0d7eaf90",
   "metadata": {
    "slideshow": {
     "slide_type": "subslide"
    }
   },
   "outputs": [],
   "source": [
    "\n",
    "def train_logreg_classifier(train_X, train_y):\n",
    "    try:\n",
    "        clf = LogisticRegression()\n",
    "        clf.fit(train_X, train_y)\n",
    "        return clf\n",
    "    except:\n",
    "        print(sys.exc_info()[0:2])\n",
    "    "
   ]
  },
  {
   "cell_type": "code",
   "execution_count": 131,
   "id": "0d9eb184",
   "metadata": {
    "slideshow": {
     "slide_type": "subslide"
    }
   },
   "outputs": [
    {
     "name": "stdout",
     "output_type": "stream",
     "text": [
      "(<class 'ValueError'>, ValueError(\"could not convert string to float: 'male'\"))\n"
     ]
    }
   ],
   "source": [
    "train_logreg_classifier(train_X, train_y)"
   ]
  },
  {
   "cell_type": "markdown",
   "id": "5833fa9c",
   "metadata": {
    "slideshow": {
     "slide_type": "subslide"
    }
   },
   "source": [
    "Co zaobserwowaliśmy:\n",
    "* Nie możemy przekonwertować do floata - nasz algorytm potrzebuje liczb"
   ]
  },
  {
   "cell_type": "markdown",
   "id": "20e6e823",
   "metadata": {
    "slideshow": {
     "slide_type": "fragment"
    }
   },
   "source": [
    "Co na to możemy poradzić (najprościej)?"
   ]
  },
  {
   "cell_type": "markdown",
   "id": "6c45c1d6",
   "metadata": {
    "slideshow": {
     "slide_type": "fragment"
    }
   },
   "source": [
    "* Wywalmy wszystkie kolumny, które nie są liczbowe"
   ]
  },
  {
   "cell_type": "code",
   "execution_count": 132,
   "id": "a860243b",
   "metadata": {
    "slideshow": {
     "slide_type": "slide"
    }
   },
   "outputs": [
    {
     "data": {
      "text/plain": [
       "id                 int64\n",
       "age                int64\n",
       "gender            object\n",
       "height           float64\n",
       "weight           float64\n",
       "ap_hi              int64\n",
       "ap_lo              int64\n",
       "cholesterol       object\n",
       "gluc              object\n",
       "lifestyle         object\n",
       "is_cardio_ill      int64\n",
       "dtype: object"
      ]
     },
     "execution_count": 132,
     "metadata": {},
     "output_type": "execute_result"
    }
   ],
   "source": [
    "train_data.dtypes"
   ]
  },
  {
   "cell_type": "code",
   "execution_count": 133,
   "id": "61cc205f",
   "metadata": {
    "slideshow": {
     "slide_type": "fragment"
    }
   },
   "outputs": [],
   "source": [
    "COLUMNS_TO_REMOVE = [\"id\", \"gender\", \"cholesterol\", \"gluc\", \"lifestyle\"]\n",
    "train_data_tiny_raw = train_data.drop(COLUMNS_TO_REMOVE, axis=1)"
   ]
  },
  {
   "cell_type": "markdown",
   "id": "b9ce181b",
   "metadata": {},
   "source": [
    "Obserwacje?\n",
    "- W naszym datasecie mamy opuszczone wartości\n",
    "Co najprościej możemy zrobić?\n",
    "- Wywalić wiersze z opuszczonymi wartościami"
   ]
  },
  {
   "cell_type": "code",
   "execution_count": 134,
   "id": "a59be8b5",
   "metadata": {
    "slideshow": {
     "slide_type": "fragment"
    }
   },
   "outputs": [
    {
     "name": "stdout",
     "output_type": "stream",
     "text": [
      "ROC score: 0.49411764705882355\n"
     ]
    },
    {
     "data": {
      "image/png": "[encoded data removed]",
      "text/plain": [
       "<Figure size 600x400 with 1 Axes>"
      ]
     },
     "metadata": {},
     "output_type": "display_data"
    }
   ],
   "source": [
    "train_data_tiny = train_data_tiny_raw.dropna()\n",
    "\n",
    "train_X, valid_X, train_y, valid_y = make_train_valid_split(train_data_tiny)\n",
    "clf = train_logreg_classifier(train_X, train_y)\n",
    "\n",
    "predictions = clf.predict(valid_X)\n",
    "evaluate_with_roc(valid_y, predictions)"
   ]
  },
  {
   "cell_type": "code",
   "execution_count": 135,
   "id": "99df2104",
   "metadata": {
    "slideshow": {
     "slide_type": "fragment"
    }
   },
   "outputs": [],
   "source": [
    "# print(f\"Accuracy: {make_percents(accuracy)}%\")"
   ]
  },
  {
   "cell_type": "markdown",
   "id": "562f7050",
   "metadata": {},
   "source": [
    "### Common sense cleaning"
   ]
  },
  {
   "cell_type": "code",
   "execution_count": 136,
   "id": "9bc9a457",
   "metadata": {
    "scrolled": true,
    "slideshow": {
     "slide_type": "fragment"
    }
   },
   "outputs": [
    {
     "name": "stdout",
     "output_type": "stream",
     "text": [
      "Minimal High pressure is: -115\n",
      "Maximum High pressure is : 13010\n",
      "Minimal Low pressure is: 0\n",
      "Maximal Low pressure is: 11000\n"
     ]
    }
   ],
   "source": [
    "train_X, valid_X, train_y, valid_y = make_train_valid_split(train_data_tiny, test_size=1000)\n",
    "\n",
    "print(f\"Minimal High pressure is: {train_X.ap_hi.min()}\")\n",
    "print(f\"Maximum High pressure is : {train_X.ap_hi.max()}\")\n",
    "\n",
    "print(f\"Minimal Low pressure is: {train_X.ap_lo.min()}\")\n",
    "print(f\"Maximal Low pressure is: {train_X.ap_lo.max()}\")"
   ]
  },
  {
   "cell_type": "code",
   "execution_count": 137,
   "id": "057c0bf5",
   "metadata": {
    "slideshow": {
     "slide_type": "skip"
    }
   },
   "outputs": [],
   "source": [
    "def make_common_sense_cleaning(features):\n",
    "    \n",
    "    features['ap_hi'] = np.abs(features['ap_hi'])\n",
    "    features['ap_lo'] = np.abs(features['ap_lo'])\n",
    "    \n",
    "    # removing invalid features\n",
    "    features.loc[(features['ap_hi'] < MAX_SYST) & (features['ap_hi'] > MIN_SYST)]['ap_hi'] = np.nan\n",
    "    features.loc[(features['ap_hi'] < MAX_SYST) & (features['ap_hi'] > MIN_SYST)]['ap_hi'] = np.nan\n",
    "\n",
    "    features = features[(features['ap_hi'] < MAX_SYST) & (features['ap_hi'] > MIN_SYST)]\n",
    "    features = features[(features['ap_lo'] < MAX_DIAST) & (features['ap_lo'] > MIN_DIAST)]\n",
    "#     train_y = train_y[features.index]\n",
    "\n",
    "    features['ap_hi'].plot.hist(edgecolor=\"black\", grid=True)\n",
    "    features['ap_lo'].plot.hist(edgecolor=\"black\", grid=True)\n",
    "    \n",
    "    return features"
   ]
  },
  {
   "cell_type": "code",
   "execution_count": 138,
   "id": "dd4a2575",
   "metadata": {
    "slideshow": {
     "slide_type": "subslide"
    }
   },
   "outputs": [
    {
     "data": {
      "image/png": "[encoded data removed]",
      "text/plain": [
       "<Figure size 600x400 with 1 Axes>"
      ]
     },
     "metadata": {},
     "output_type": "display_data"
    }
   ],
   "source": [
    "train_X['ap_hi'] = np.abs(train_X['ap_hi'])\n",
    "train_X['ap_lo'] = np.abs(train_X['ap_lo'])\n",
    "\n",
    "MAX_SYST = 210\n",
    "MAX_DIAST = 150\n",
    "MIN_SYST = 80\n",
    "MIN_DIAST = 50\n",
    "\n",
    "train_X = train_X[(train_X['ap_hi'] < MAX_SYST) & (train_X['ap_hi'] > MIN_SYST)]\n",
    "train_X = train_X[(train_X['ap_lo'] < MAX_DIAST) & (train_X['ap_lo'] > MIN_DIAST)]\n",
    "train_y = train_y[train_X.index]\n",
    "\n",
    "train_X['ap_hi'].plot.hist(edgecolor=\"black\", grid=True)\n",
    "train_X['ap_lo'].plot.hist(edgecolor=\"black\", grid=True)\n",
    "\n",
    "### the same for validation set\n",
    "valid_X['ap_hi'] = np.abs(valid_X['ap_hi'])\n",
    "valid_X['ap_lo'] = np.abs(valid_X['ap_lo'])\n",
    "\n",
    "valid_X = valid_X[(valid_X['ap_hi'] < MAX_SYST) & (valid_X['ap_hi'] > MIN_SYST)]\n",
    "valid_X = valid_X[(valid_X['ap_lo'] < MAX_DIAST) & (valid_X['ap_lo'] > MIN_DIAST)]\n",
    "valid_y = valid_y[valid_X.index]"
   ]
  },
  {
   "cell_type": "code",
   "execution_count": 139,
   "id": "77ae8f8a",
   "metadata": {},
   "outputs": [
    {
     "name": "stdout",
     "output_type": "stream",
     "text": [
      "ROC score: 0.5488667782305006\n"
     ]
    },
    {
     "data": {
      "image/png": "[encoded data removed]",
      "text/plain": [
       "<Figure size 600x400 with 1 Axes>"
      ]
     },
     "metadata": {},
     "output_type": "display_data"
    }
   ],
   "source": [
    "clf = train_logreg_classifier(train_X, train_y)\n",
    "\n",
    "predictions = clf.predict(valid_X)\n",
    "evaluate_with_roc(valid_y, predictions)"
   ]
  },
  {
   "cell_type": "markdown",
   "id": "3ff91c50",
   "metadata": {
    "slideshow": {
     "slide_type": "slide"
    }
   },
   "source": [
    "### Categorical features - encoding"
   ]
  },
  {
   "cell_type": "code",
   "execution_count": 140,
   "id": "d9976bad",
   "metadata": {
    "scrolled": true,
    "slideshow": {
     "slide_type": "fragment"
    }
   },
   "outputs": [
    {
     "data": {
      "text/html": [
       "<div>\n",
       "<style scoped>\n",
       "    .dataframe tbody tr th:only-of-type {\n",
       "        vertical-align: middle;\n",
       "    }\n",
       "\n",
       "    .dataframe tbody tr th {\n",
       "        vertical-align: top;\n",
       "    }\n",
       "\n",
       "    .dataframe thead th {\n",
       "        text-align: right;\n",
       "    }\n",
       "</style>\n",
       "<table border=\"1\" class=\"dataframe\">\n",
       "  <thead>\n",
       "    <tr style=\"text-align: right;\">\n",
       "      <th></th>\n",
       "      <th>id</th>\n",
       "      <th>age</th>\n",
       "      <th>gender</th>\n",
       "      <th>height</th>\n",
       "      <th>weight</th>\n",
       "      <th>ap_hi</th>\n",
       "      <th>ap_lo</th>\n",
       "      <th>cholesterol</th>\n",
       "      <th>gluc</th>\n",
       "      <th>lifestyle</th>\n",
       "      <th>is_cardio_ill</th>\n",
       "    </tr>\n",
       "  </thead>\n",
       "  <tbody>\n",
       "    <tr>\n",
       "      <th>0</th>\n",
       "      <td>12611</td>\n",
       "      <td>21805</td>\n",
       "      <td>male</td>\n",
       "      <td>172.0</td>\n",
       "      <td>90.0</td>\n",
       "      <td>100</td>\n",
       "      <td>80</td>\n",
       "      <td>normal</td>\n",
       "      <td>normal</td>\n",
       "      <td>active</td>\n",
       "      <td>0</td>\n",
       "    </tr>\n",
       "    <tr>\n",
       "      <th>1</th>\n",
       "      <td>91034</td>\n",
       "      <td>22751</td>\n",
       "      <td>female</td>\n",
       "      <td>156.0</td>\n",
       "      <td>100.0</td>\n",
       "      <td>150</td>\n",
       "      <td>100</td>\n",
       "      <td>normal</td>\n",
       "      <td>normal</td>\n",
       "      <td>active</td>\n",
       "      <td>0</td>\n",
       "    </tr>\n",
       "    <tr>\n",
       "      <th>2</th>\n",
       "      <td>25237</td>\n",
       "      <td>18944</td>\n",
       "      <td>female</td>\n",
       "      <td>160.0</td>\n",
       "      <td>60.0</td>\n",
       "      <td>120</td>\n",
       "      <td>80</td>\n",
       "      <td>normal</td>\n",
       "      <td>normal</td>\n",
       "      <td>active</td>\n",
       "      <td>0</td>\n",
       "    </tr>\n",
       "    <tr>\n",
       "      <th>3</th>\n",
       "      <td>27159</td>\n",
       "      <td>18869</td>\n",
       "      <td>female</td>\n",
       "      <td>158.0</td>\n",
       "      <td>96.0</td>\n",
       "      <td>130</td>\n",
       "      <td>80</td>\n",
       "      <td>way above normal</td>\n",
       "      <td>normal</td>\n",
       "      <td>active</td>\n",
       "      <td>0</td>\n",
       "    </tr>\n",
       "    <tr>\n",
       "      <th>4</th>\n",
       "      <td>34101</td>\n",
       "      <td>21233</td>\n",
       "      <td>female</td>\n",
       "      <td>151.0</td>\n",
       "      <td>100.0</td>\n",
       "      <td>130</td>\n",
       "      <td>80</td>\n",
       "      <td>way above normal</td>\n",
       "      <td>way above normal</td>\n",
       "      <td>active</td>\n",
       "      <td>0</td>\n",
       "    </tr>\n",
       "  </tbody>\n",
       "</table>\n",
       "</div>"
      ],
      "text/plain": [
       "      id    age  gender  height  weight  ap_hi  ap_lo       cholesterol  \\\n",
       "0  12611  21805    male   172.0    90.0    100     80            normal   \n",
       "1  91034  22751  female   156.0   100.0    150    100            normal   \n",
       "2  25237  18944  female   160.0    60.0    120     80            normal   \n",
       "3  27159  18869  female   158.0    96.0    130     80  way above normal   \n",
       "4  34101  21233  female   151.0   100.0    130     80  way above normal   \n",
       "\n",
       "               gluc lifestyle  is_cardio_ill  \n",
       "0            normal    active              0  \n",
       "1            normal    active              0  \n",
       "2            normal    active              0  \n",
       "3            normal    active              0  \n",
       "4  way above normal    active              0  "
      ]
     },
     "execution_count": 140,
     "metadata": {},
     "output_type": "execute_result"
    }
   ],
   "source": [
    "### Adding more data is always a good strategy\n",
    "train_data.head()"
   ]
  },
  {
   "cell_type": "markdown",
   "id": "f3816c86",
   "metadata": {},
   "source": [
    "### Ordinal Encoding\n",
    "\n",
    "Zakodujmy liczbami te wartości, których stopień nasilenia możemy łatwo zidentyfikować\n",
    "\n",
    "* <a href=\"https://scikit-learn.org/stable/modules/generated/sklearn.preprocessing.OrdinalEncoder.html\">OrdinalEncoder</a>\n",
    "* <a href=\"https://scikit-learn.org/stable/modules/generated/sklearn.preprocessing.OneHotEncoder.html#sklearn.preprocessing.OneHotEncoder\">OneHotEncoder</a>\n",
    "* <a href=\"https://scikit-learn.org/stable/modules/generated/sklearn.preprocessing.LabelEncoder.html#sklearn.preprocessing.LabelEncoder\">LabelEncoder</a>"
   ]
  },
  {
   "cell_type": "code",
   "execution_count": 141,
   "id": "a1f7d2af",
   "metadata": {},
   "outputs": [
    {
     "data": {
      "text/html": [
       "<div>\n",
       "<style scoped>\n",
       "    .dataframe tbody tr th:only-of-type {\n",
       "        vertical-align: middle;\n",
       "    }\n",
       "\n",
       "    .dataframe tbody tr th {\n",
       "        vertical-align: top;\n",
       "    }\n",
       "\n",
       "    .dataframe thead th {\n",
       "        text-align: right;\n",
       "    }\n",
       "</style>\n",
       "<table border=\"1\" class=\"dataframe\">\n",
       "  <thead>\n",
       "    <tr style=\"text-align: right;\">\n",
       "      <th></th>\n",
       "      <th>id</th>\n",
       "      <th>age</th>\n",
       "      <th>gender</th>\n",
       "      <th>height</th>\n",
       "      <th>weight</th>\n",
       "      <th>ap_hi</th>\n",
       "      <th>ap_lo</th>\n",
       "      <th>cholesterol</th>\n",
       "      <th>gluc</th>\n",
       "      <th>lifestyle</th>\n",
       "      <th>is_cardio_ill</th>\n",
       "    </tr>\n",
       "  </thead>\n",
       "  <tbody>\n",
       "    <tr>\n",
       "      <th>0</th>\n",
       "      <td>12611</td>\n",
       "      <td>21805</td>\n",
       "      <td>male</td>\n",
       "      <td>172.0</td>\n",
       "      <td>90.0</td>\n",
       "      <td>100</td>\n",
       "      <td>80</td>\n",
       "      <td>normal</td>\n",
       "      <td>normal</td>\n",
       "      <td>active</td>\n",
       "      <td>0</td>\n",
       "    </tr>\n",
       "    <tr>\n",
       "      <th>1</th>\n",
       "      <td>91034</td>\n",
       "      <td>22751</td>\n",
       "      <td>female</td>\n",
       "      <td>156.0</td>\n",
       "      <td>100.0</td>\n",
       "      <td>150</td>\n",
       "      <td>100</td>\n",
       "      <td>normal</td>\n",
       "      <td>normal</td>\n",
       "      <td>active</td>\n",
       "      <td>0</td>\n",
       "    </tr>\n",
       "    <tr>\n",
       "      <th>2</th>\n",
       "      <td>25237</td>\n",
       "      <td>18944</td>\n",
       "      <td>female</td>\n",
       "      <td>160.0</td>\n",
       "      <td>60.0</td>\n",
       "      <td>120</td>\n",
       "      <td>80</td>\n",
       "      <td>normal</td>\n",
       "      <td>normal</td>\n",
       "      <td>active</td>\n",
       "      <td>0</td>\n",
       "    </tr>\n",
       "    <tr>\n",
       "      <th>3</th>\n",
       "      <td>27159</td>\n",
       "      <td>18869</td>\n",
       "      <td>female</td>\n",
       "      <td>158.0</td>\n",
       "      <td>96.0</td>\n",
       "      <td>130</td>\n",
       "      <td>80</td>\n",
       "      <td>way above normal</td>\n",
       "      <td>normal</td>\n",
       "      <td>active</td>\n",
       "      <td>0</td>\n",
       "    </tr>\n",
       "    <tr>\n",
       "      <th>4</th>\n",
       "      <td>34101</td>\n",
       "      <td>21233</td>\n",
       "      <td>female</td>\n",
       "      <td>151.0</td>\n",
       "      <td>100.0</td>\n",
       "      <td>130</td>\n",
       "      <td>80</td>\n",
       "      <td>way above normal</td>\n",
       "      <td>way above normal</td>\n",
       "      <td>active</td>\n",
       "      <td>0</td>\n",
       "    </tr>\n",
       "    <tr>\n",
       "      <th>...</th>\n",
       "      <td>...</td>\n",
       "      <td>...</td>\n",
       "      <td>...</td>\n",
       "      <td>...</td>\n",
       "      <td>...</td>\n",
       "      <td>...</td>\n",
       "      <td>...</td>\n",
       "      <td>...</td>\n",
       "      <td>...</td>\n",
       "      <td>...</td>\n",
       "      <td>...</td>\n",
       "    </tr>\n",
       "    <tr>\n",
       "      <th>30170</th>\n",
       "      <td>80030</td>\n",
       "      <td>20991</td>\n",
       "      <td>male</td>\n",
       "      <td>165.0</td>\n",
       "      <td>63.0</td>\n",
       "      <td>150</td>\n",
       "      <td>1000</td>\n",
       "      <td>normal</td>\n",
       "      <td>normal</td>\n",
       "      <td>active</td>\n",
       "      <td>0</td>\n",
       "    </tr>\n",
       "    <tr>\n",
       "      <th>30171</th>\n",
       "      <td>46614</td>\n",
       "      <td>17490</td>\n",
       "      <td>male</td>\n",
       "      <td>152.0</td>\n",
       "      <td>65.0</td>\n",
       "      <td>130</td>\n",
       "      <td>90</td>\n",
       "      <td>normal</td>\n",
       "      <td>normal</td>\n",
       "      <td>active</td>\n",
       "      <td>0</td>\n",
       "    </tr>\n",
       "    <tr>\n",
       "      <th>30172</th>\n",
       "      <td>59442</td>\n",
       "      <td>14653</td>\n",
       "      <td>female</td>\n",
       "      <td>163.0</td>\n",
       "      <td>70.0</td>\n",
       "      <td>110</td>\n",
       "      <td>70</td>\n",
       "      <td>normal</td>\n",
       "      <td>normal</td>\n",
       "      <td>active</td>\n",
       "      <td>0</td>\n",
       "    </tr>\n",
       "    <tr>\n",
       "      <th>30173</th>\n",
       "      <td>25682</td>\n",
       "      <td>20528</td>\n",
       "      <td>female</td>\n",
       "      <td>158.0</td>\n",
       "      <td>63.0</td>\n",
       "      <td>120</td>\n",
       "      <td>90</td>\n",
       "      <td>normal</td>\n",
       "      <td>normal</td>\n",
       "      <td>active</td>\n",
       "      <td>0</td>\n",
       "    </tr>\n",
       "    <tr>\n",
       "      <th>30174</th>\n",
       "      <td>43526</td>\n",
       "      <td>19106</td>\n",
       "      <td>male</td>\n",
       "      <td>165.0</td>\n",
       "      <td>66.0</td>\n",
       "      <td>130</td>\n",
       "      <td>70</td>\n",
       "      <td>normal</td>\n",
       "      <td>normal</td>\n",
       "      <td>NaN</td>\n",
       "      <td>0</td>\n",
       "    </tr>\n",
       "  </tbody>\n",
       "</table>\n",
       "<p>30175 rows × 11 columns</p>\n",
       "</div>"
      ],
      "text/plain": [
       "          id    age  gender  height  weight  ap_hi  ap_lo       cholesterol  \\\n",
       "0      12611  21805    male   172.0    90.0    100     80            normal   \n",
       "1      91034  22751  female   156.0   100.0    150    100            normal   \n",
       "2      25237  18944  female   160.0    60.0    120     80            normal   \n",
       "3      27159  18869  female   158.0    96.0    130     80  way above normal   \n",
       "4      34101  21233  female   151.0   100.0    130     80  way above normal   \n",
       "...      ...    ...     ...     ...     ...    ...    ...               ...   \n",
       "30170  80030  20991    male   165.0    63.0    150   1000            normal   \n",
       "30171  46614  17490    male   152.0    65.0    130     90            normal   \n",
       "30172  59442  14653  female   163.0    70.0    110     70            normal   \n",
       "30173  25682  20528  female   158.0    63.0    120     90            normal   \n",
       "30174  43526  19106    male   165.0    66.0    130     70            normal   \n",
       "\n",
       "                   gluc lifestyle  is_cardio_ill  \n",
       "0                normal    active              0  \n",
       "1                normal    active              0  \n",
       "2                normal    active              0  \n",
       "3                normal    active              0  \n",
       "4      way above normal    active              0  \n",
       "...                 ...       ...            ...  \n",
       "30170            normal    active              0  \n",
       "30171            normal    active              0  \n",
       "30172            normal    active              0  \n",
       "30173            normal    active              0  \n",
       "30174            normal       NaN              0  \n",
       "\n",
       "[30175 rows x 11 columns]"
      ]
     },
     "execution_count": 141,
     "metadata": {},
     "output_type": "execute_result"
    }
   ],
   "source": [
    "train_data"
   ]
  },
  {
   "cell_type": "code",
   "execution_count": 142,
   "id": "f05cf401",
   "metadata": {},
   "outputs": [],
   "source": [
    "CATEG_COLUMNS = ['cholesterol', 'gluc', 'lifestyle', 'gender', 'is_cardio_ill']\n",
    "full_categorical = train_data[CATEG_COLUMNS]\n",
    "\n",
    "# train_X_cat, valid_X_cat, train_y_cat, valid_y_cat = full_categorical[]\n",
    "train_categorical = full_categorical.iloc[train_X.index]\n",
    "valid_categorical = full_categorical.iloc[valid_X.index]\n",
    "\n",
    "train_X_cat, train_y_cat = train_categorical.drop(LABEL_COL, axis=1), train_categorical[LABEL_COL]\n",
    "valid_X_cat, valid_y_cat = valid_categorical.drop(LABEL_COL, axis=1), train_categorical[LABEL_COL]"
   ]
  },
  {
   "cell_type": "code",
   "execution_count": 143,
   "id": "8753cff0",
   "metadata": {},
   "outputs": [],
   "source": [
    "\n",
    "\n",
    "\n",
    "ORDINAL_COLUMNS = ['cholesterol', 'gluc']\n",
    "\n",
    "oe = OrdinalEncoder(categories=[['normal', 'above normal', 'way above normal'], ['normal', 'above normal', 'way above normal']])\n",
    "\n",
    "oe.fit(train_X_cat[ORDINAL_COLUMNS])\n",
    "\n",
    "# The same encoder\n",
    "ord_encoded_train = oe.transform(train_X_cat[ORDINAL_COLUMNS])\n",
    "train_X_cat[ORDINAL_COLUMNS] = ord_encoded_train\n",
    "\n",
    "ord_encoded_val = oe.transform(valid_X_cat[ORDINAL_COLUMNS])\n",
    "valid_X_cat[ORDINAL_COLUMNS] = ord_encoded_val\n"
   ]
  },
  {
   "cell_type": "code",
   "execution_count": 144,
   "id": "2c409798",
   "metadata": {},
   "outputs": [
    {
     "data": {
      "text/html": [
       "<div>\n",
       "<style scoped>\n",
       "    .dataframe tbody tr th:only-of-type {\n",
       "        vertical-align: middle;\n",
       "    }\n",
       "\n",
       "    .dataframe tbody tr th {\n",
       "        vertical-align: top;\n",
       "    }\n",
       "\n",
       "    .dataframe thead th {\n",
       "        text-align: right;\n",
       "    }\n",
       "</style>\n",
       "<table border=\"1\" class=\"dataframe\">\n",
       "  <thead>\n",
       "    <tr style=\"text-align: right;\">\n",
       "      <th></th>\n",
       "      <th>cholesterol</th>\n",
       "      <th>gluc</th>\n",
       "      <th>lifestyle</th>\n",
       "      <th>gender</th>\n",
       "    </tr>\n",
       "  </thead>\n",
       "  <tbody>\n",
       "    <tr>\n",
       "      <th>18939</th>\n",
       "      <td>1.0</td>\n",
       "      <td>1.0</td>\n",
       "      <td>alcoholic,active</td>\n",
       "      <td>male</td>\n",
       "    </tr>\n",
       "    <tr>\n",
       "      <th>28923</th>\n",
       "      <td>0.0</td>\n",
       "      <td>1.0</td>\n",
       "      <td>smoker,alcoholic,active</td>\n",
       "      <td>male</td>\n",
       "    </tr>\n",
       "    <tr>\n",
       "      <th>18207</th>\n",
       "      <td>0.0</td>\n",
       "      <td>0.0</td>\n",
       "      <td>smoker,active</td>\n",
       "      <td>male</td>\n",
       "    </tr>\n",
       "    <tr>\n",
       "      <th>9673</th>\n",
       "      <td>0.0</td>\n",
       "      <td>0.0</td>\n",
       "      <td>active</td>\n",
       "      <td>female</td>\n",
       "    </tr>\n",
       "    <tr>\n",
       "      <th>26743</th>\n",
       "      <td>2.0</td>\n",
       "      <td>2.0</td>\n",
       "      <td>NaN</td>\n",
       "      <td>female</td>\n",
       "    </tr>\n",
       "  </tbody>\n",
       "</table>\n",
       "</div>"
      ],
      "text/plain": [
       "       cholesterol  gluc                lifestyle  gender\n",
       "18939          1.0   1.0         alcoholic,active    male\n",
       "28923          0.0   1.0  smoker,alcoholic,active    male\n",
       "18207          0.0   0.0            smoker,active    male\n",
       "9673           0.0   0.0                   active  female\n",
       "26743          2.0   2.0                      NaN  female"
      ]
     },
     "execution_count": 144,
     "metadata": {},
     "output_type": "execute_result"
    }
   ],
   "source": [
    "valid_X_cat.head()"
   ]
  },
  {
   "cell_type": "markdown",
   "id": "fe3a990f",
   "metadata": {},
   "source": [
    "### One Hot Encoding"
   ]
  },
  {
   "cell_type": "markdown",
   "id": "8ccfddcf",
   "metadata": {},
   "source": [
    "##### Step 1 - making columns from preprocessing"
   ]
  },
  {
   "cell_type": "code",
   "execution_count": 145,
   "id": "ccaf90ec",
   "metadata": {},
   "outputs": [],
   "source": [
    "def encode_lifestyle(lifestyle_row) -> dict:\n",
    "    \n",
    "    lifestyle_dict = {\n",
    "        \"is_active\": 0,\n",
    "        \"smoker\": 0,\n",
    "        \"alcohol_consumer\": 0\n",
    "    }\n",
    "    \n",
    "    if lifestyle_row is not np.nan:\n",
    "        values = lifestyle_row.split(',')\n",
    "\n",
    "        if 'active' in values:\n",
    "            lifestyle_dict['is_active'] = 1\n",
    "\n",
    "        if 'smoker' in values:\n",
    "            lifestyle_dict['smoker'] = 1\n",
    "\n",
    "        if 'alcoholic' in values:\n",
    "            lifestyle_dict['alcohol_consumer'] = 1\n",
    "    \n",
    "    return lifestyle_dict"
   ]
  },
  {
   "cell_type": "code",
   "execution_count": 146,
   "id": "215d8ec3",
   "metadata": {},
   "outputs": [],
   "source": [
    "# doing it on train dataset\n",
    "dicts_train = train_X_cat.lifestyle.apply(encode_lifestyle)\n",
    "lifestyle_df_train = pd.DataFrame(list(dicts_train.values), index=dicts_train.index)\n",
    "train_X_cat.drop('lifestyle', axis=1, inplace=True)\n",
    "train_X_cat = pd.concat([train_X_cat, lifestyle_df_train], axis=1)\n",
    "\n",
    "# the same for validation\n",
    "dicts_val = valid_X_cat.lifestyle.apply(encode_lifestyle)\n",
    "lifestyle_df_val = pd.DataFrame(list(dicts_val.values), index=dicts_val.index)\n",
    "valid_X_cat.drop('lifestyle', axis=1, inplace=True)\n",
    "valid_X_cat = pd.concat([valid_X_cat, lifestyle_df_val], axis=1)"
   ]
  },
  {
   "cell_type": "markdown",
   "id": "0c97c7a5",
   "metadata": {},
   "source": [
    "##### Step 2 - transforming them using OneHotEncoder"
   ]
  },
  {
   "cell_type": "code",
   "execution_count": 147,
   "id": "46bdafaf",
   "metadata": {},
   "outputs": [],
   "source": [
    "GENDER_COL = 'gender'\n",
    "\n",
    "train_gender_df = pd.get_dummies(train_X_cat[GENDER_COL])\n",
    "train_X_cat = train_X_cat.drop(GENDER_COL, axis=1)\n",
    "train_X_cat = pd.concat([train_X_cat, train_gender_df], axis=1)\n",
    "train_gender_df\n",
    "\n",
    "valid_gender_df = pd.get_dummies(valid_X_cat[GENDER_COL])\n",
    "valid_X_cat = valid_X_cat.drop(GENDER_COL, axis=1)\n",
    "valid_gender_df = pd.concat([valid_X_cat, valid_gender_df], axis=1)"
   ]
  },
  {
   "cell_type": "code",
   "execution_count": 148,
   "id": "7f44934e",
   "metadata": {},
   "outputs": [],
   "source": [
    "valid_X_cat = valid_gender_df"
   ]
  },
  {
   "cell_type": "code",
   "execution_count": 149,
   "id": "dd1d978d",
   "metadata": {},
   "outputs": [
    {
     "data": {
      "text/html": [
       "<div>\n",
       "<style scoped>\n",
       "    .dataframe tbody tr th:only-of-type {\n",
       "        vertical-align: middle;\n",
       "    }\n",
       "\n",
       "    .dataframe tbody tr th {\n",
       "        vertical-align: top;\n",
       "    }\n",
       "\n",
       "    .dataframe thead th {\n",
       "        text-align: right;\n",
       "    }\n",
       "</style>\n",
       "<table border=\"1\" class=\"dataframe\">\n",
       "  <thead>\n",
       "    <tr style=\"text-align: right;\">\n",
       "      <th></th>\n",
       "      <th>age</th>\n",
       "      <th>height</th>\n",
       "      <th>weight</th>\n",
       "      <th>ap_hi</th>\n",
       "      <th>ap_lo</th>\n",
       "    </tr>\n",
       "  </thead>\n",
       "  <tbody>\n",
       "    <tr>\n",
       "      <th>18939</th>\n",
       "      <td>18385</td>\n",
       "      <td>170.0</td>\n",
       "      <td>75.0</td>\n",
       "      <td>120</td>\n",
       "      <td>80</td>\n",
       "    </tr>\n",
       "    <tr>\n",
       "      <th>28923</th>\n",
       "      <td>17288</td>\n",
       "      <td>170.0</td>\n",
       "      <td>78.0</td>\n",
       "      <td>120</td>\n",
       "      <td>80</td>\n",
       "    </tr>\n",
       "    <tr>\n",
       "      <th>18207</th>\n",
       "      <td>21263</td>\n",
       "      <td>166.0</td>\n",
       "      <td>83.0</td>\n",
       "      <td>120</td>\n",
       "      <td>80</td>\n",
       "    </tr>\n",
       "    <tr>\n",
       "      <th>9673</th>\n",
       "      <td>16840</td>\n",
       "      <td>162.0</td>\n",
       "      <td>66.0</td>\n",
       "      <td>100</td>\n",
       "      <td>70</td>\n",
       "    </tr>\n",
       "    <tr>\n",
       "      <th>26743</th>\n",
       "      <td>19823</td>\n",
       "      <td>165.0</td>\n",
       "      <td>65.0</td>\n",
       "      <td>120</td>\n",
       "      <td>80</td>\n",
       "    </tr>\n",
       "    <tr>\n",
       "      <th>...</th>\n",
       "      <td>...</td>\n",
       "      <td>...</td>\n",
       "      <td>...</td>\n",
       "      <td>...</td>\n",
       "      <td>...</td>\n",
       "    </tr>\n",
       "    <tr>\n",
       "      <th>14065</th>\n",
       "      <td>19525</td>\n",
       "      <td>156.0</td>\n",
       "      <td>59.0</td>\n",
       "      <td>120</td>\n",
       "      <td>80</td>\n",
       "    </tr>\n",
       "    <tr>\n",
       "      <th>9233</th>\n",
       "      <td>21782</td>\n",
       "      <td>174.0</td>\n",
       "      <td>73.0</td>\n",
       "      <td>120</td>\n",
       "      <td>70</td>\n",
       "    </tr>\n",
       "    <tr>\n",
       "      <th>3922</th>\n",
       "      <td>21020</td>\n",
       "      <td>155.0</td>\n",
       "      <td>76.0</td>\n",
       "      <td>110</td>\n",
       "      <td>70</td>\n",
       "    </tr>\n",
       "    <tr>\n",
       "      <th>17926</th>\n",
       "      <td>16657</td>\n",
       "      <td>157.0</td>\n",
       "      <td>42.0</td>\n",
       "      <td>120</td>\n",
       "      <td>80</td>\n",
       "    </tr>\n",
       "    <tr>\n",
       "      <th>19737</th>\n",
       "      <td>20624</td>\n",
       "      <td>172.0</td>\n",
       "      <td>71.0</td>\n",
       "      <td>130</td>\n",
       "      <td>80</td>\n",
       "    </tr>\n",
       "  </tbody>\n",
       "</table>\n",
       "<p>987 rows × 5 columns</p>\n",
       "</div>"
      ],
      "text/plain": [
       "         age  height  weight  ap_hi  ap_lo\n",
       "18939  18385   170.0    75.0    120     80\n",
       "28923  17288   170.0    78.0    120     80\n",
       "18207  21263   166.0    83.0    120     80\n",
       "9673   16840   162.0    66.0    100     70\n",
       "26743  19823   165.0    65.0    120     80\n",
       "...      ...     ...     ...    ...    ...\n",
       "14065  19525   156.0    59.0    120     80\n",
       "9233   21782   174.0    73.0    120     70\n",
       "3922   21020   155.0    76.0    110     70\n",
       "17926  16657   157.0    42.0    120     80\n",
       "19737  20624   172.0    71.0    130     80\n",
       "\n",
       "[987 rows x 5 columns]"
      ]
     },
     "execution_count": 149,
     "metadata": {},
     "output_type": "execute_result"
    }
   ],
   "source": [
    "valid_X"
   ]
  },
  {
   "cell_type": "markdown",
   "id": "36ba4a24",
   "metadata": {},
   "source": [
    "### Combining datasets and exploring results"
   ]
  },
  {
   "cell_type": "code",
   "execution_count": 150,
   "id": "a0bc3aee",
   "metadata": {},
   "outputs": [],
   "source": [
    "# train_X_cat = train_X_cat.drop('')\n",
    "train_X = pd.concat([train_X_cat, train_X], axis=1)\n",
    "valid_X = pd.concat([valid_X_cat, valid_X], axis=1)"
   ]
  },
  {
   "cell_type": "code",
   "execution_count": 151,
   "id": "ed1e6735",
   "metadata": {},
   "outputs": [
    {
     "data": {
      "text/html": [
       "<div>\n",
       "<style scoped>\n",
       "    .dataframe tbody tr th:only-of-type {\n",
       "        vertical-align: middle;\n",
       "    }\n",
       "\n",
       "    .dataframe tbody tr th {\n",
       "        vertical-align: top;\n",
       "    }\n",
       "\n",
       "    .dataframe thead th {\n",
       "        text-align: right;\n",
       "    }\n",
       "</style>\n",
       "<table border=\"1\" class=\"dataframe\">\n",
       "  <thead>\n",
       "    <tr style=\"text-align: right;\">\n",
       "      <th></th>\n",
       "      <th>cholesterol</th>\n",
       "      <th>gluc</th>\n",
       "      <th>is_active</th>\n",
       "      <th>smoker</th>\n",
       "      <th>alcohol_consumer</th>\n",
       "      <th>female</th>\n",
       "      <th>male</th>\n",
       "      <th>age</th>\n",
       "      <th>height</th>\n",
       "      <th>weight</th>\n",
       "      <th>ap_hi</th>\n",
       "      <th>ap_lo</th>\n",
       "    </tr>\n",
       "  </thead>\n",
       "  <tbody>\n",
       "    <tr>\n",
       "      <th>8807</th>\n",
       "      <td>0.0</td>\n",
       "      <td>0.0</td>\n",
       "      <td>1</td>\n",
       "      <td>0</td>\n",
       "      <td>0</td>\n",
       "      <td>1</td>\n",
       "      <td>0</td>\n",
       "      <td>19812</td>\n",
       "      <td>169.0</td>\n",
       "      <td>61.0</td>\n",
       "      <td>141</td>\n",
       "      <td>90</td>\n",
       "    </tr>\n",
       "    <tr>\n",
       "      <th>27087</th>\n",
       "      <td>0.0</td>\n",
       "      <td>2.0</td>\n",
       "      <td>1</td>\n",
       "      <td>0</td>\n",
       "      <td>0</td>\n",
       "      <td>1</td>\n",
       "      <td>0</td>\n",
       "      <td>20361</td>\n",
       "      <td>151.0</td>\n",
       "      <td>65.0</td>\n",
       "      <td>120</td>\n",
       "      <td>80</td>\n",
       "    </tr>\n",
       "    <tr>\n",
       "      <th>25561</th>\n",
       "      <td>1.0</td>\n",
       "      <td>0.0</td>\n",
       "      <td>1</td>\n",
       "      <td>1</td>\n",
       "      <td>1</td>\n",
       "      <td>0</td>\n",
       "      <td>0</td>\n",
       "      <td>21878</td>\n",
       "      <td>165.0</td>\n",
       "      <td>66.0</td>\n",
       "      <td>120</td>\n",
       "      <td>80</td>\n",
       "    </tr>\n",
       "    <tr>\n",
       "      <th>20616</th>\n",
       "      <td>0.0</td>\n",
       "      <td>0.0</td>\n",
       "      <td>1</td>\n",
       "      <td>1</td>\n",
       "      <td>1</td>\n",
       "      <td>1</td>\n",
       "      <td>0</td>\n",
       "      <td>20498</td>\n",
       "      <td>164.0</td>\n",
       "      <td>77.0</td>\n",
       "      <td>120</td>\n",
       "      <td>70</td>\n",
       "    </tr>\n",
       "    <tr>\n",
       "      <th>2801</th>\n",
       "      <td>0.0</td>\n",
       "      <td>0.0</td>\n",
       "      <td>0</td>\n",
       "      <td>0</td>\n",
       "      <td>0</td>\n",
       "      <td>0</td>\n",
       "      <td>1</td>\n",
       "      <td>19897</td>\n",
       "      <td>160.0</td>\n",
       "      <td>60.0</td>\n",
       "      <td>120</td>\n",
       "      <td>80</td>\n",
       "    </tr>\n",
       "  </tbody>\n",
       "</table>\n",
       "</div>"
      ],
      "text/plain": [
       "       cholesterol  gluc  is_active  smoker  alcohol_consumer  female  male  \\\n",
       "8807           0.0   0.0          1       0                 0       1     0   \n",
       "27087          0.0   2.0          1       0                 0       1     0   \n",
       "25561          1.0   0.0          1       1                 1       0     0   \n",
       "20616          0.0   0.0          1       1                 1       1     0   \n",
       "2801           0.0   0.0          0       0                 0       0     1   \n",
       "\n",
       "         age  height  weight  ap_hi  ap_lo  \n",
       "8807   19812   169.0    61.0    141     90  \n",
       "27087  20361   151.0    65.0    120     80  \n",
       "25561  21878   165.0    66.0    120     80  \n",
       "20616  20498   164.0    77.0    120     70  \n",
       "2801   19897   160.0    60.0    120     80  "
      ]
     },
     "execution_count": 151,
     "metadata": {},
     "output_type": "execute_result"
    }
   ],
   "source": [
    "train_X.head()"
   ]
  },
  {
   "cell_type": "code",
   "execution_count": 152,
   "id": "c8ca7816",
   "metadata": {
    "scrolled": true
   },
   "outputs": [
    {
     "data": {
      "text/html": [
       "<div>\n",
       "<style scoped>\n",
       "    .dataframe tbody tr th:only-of-type {\n",
       "        vertical-align: middle;\n",
       "    }\n",
       "\n",
       "    .dataframe tbody tr th {\n",
       "        vertical-align: top;\n",
       "    }\n",
       "\n",
       "    .dataframe thead th {\n",
       "        text-align: right;\n",
       "    }\n",
       "</style>\n",
       "<table border=\"1\" class=\"dataframe\">\n",
       "  <thead>\n",
       "    <tr style=\"text-align: right;\">\n",
       "      <th></th>\n",
       "      <th>cholesterol</th>\n",
       "      <th>gluc</th>\n",
       "      <th>is_active</th>\n",
       "      <th>smoker</th>\n",
       "      <th>alcohol_consumer</th>\n",
       "      <th>female</th>\n",
       "      <th>male</th>\n",
       "      <th>age</th>\n",
       "      <th>height</th>\n",
       "      <th>weight</th>\n",
       "      <th>ap_hi</th>\n",
       "      <th>ap_lo</th>\n",
       "    </tr>\n",
       "  </thead>\n",
       "  <tbody>\n",
       "    <tr>\n",
       "      <th>18939</th>\n",
       "      <td>1.0</td>\n",
       "      <td>1.0</td>\n",
       "      <td>1</td>\n",
       "      <td>0</td>\n",
       "      <td>1</td>\n",
       "      <td>0</td>\n",
       "      <td>1</td>\n",
       "      <td>18385</td>\n",
       "      <td>170.0</td>\n",
       "      <td>75.0</td>\n",
       "      <td>120</td>\n",
       "      <td>80</td>\n",
       "    </tr>\n",
       "    <tr>\n",
       "      <th>28923</th>\n",
       "      <td>0.0</td>\n",
       "      <td>1.0</td>\n",
       "      <td>1</td>\n",
       "      <td>1</td>\n",
       "      <td>1</td>\n",
       "      <td>0</td>\n",
       "      <td>1</td>\n",
       "      <td>17288</td>\n",
       "      <td>170.0</td>\n",
       "      <td>78.0</td>\n",
       "      <td>120</td>\n",
       "      <td>80</td>\n",
       "    </tr>\n",
       "    <tr>\n",
       "      <th>18207</th>\n",
       "      <td>0.0</td>\n",
       "      <td>0.0</td>\n",
       "      <td>1</td>\n",
       "      <td>1</td>\n",
       "      <td>0</td>\n",
       "      <td>0</td>\n",
       "      <td>1</td>\n",
       "      <td>21263</td>\n",
       "      <td>166.0</td>\n",
       "      <td>83.0</td>\n",
       "      <td>120</td>\n",
       "      <td>80</td>\n",
       "    </tr>\n",
       "    <tr>\n",
       "      <th>9673</th>\n",
       "      <td>0.0</td>\n",
       "      <td>0.0</td>\n",
       "      <td>1</td>\n",
       "      <td>0</td>\n",
       "      <td>0</td>\n",
       "      <td>1</td>\n",
       "      <td>0</td>\n",
       "      <td>16840</td>\n",
       "      <td>162.0</td>\n",
       "      <td>66.0</td>\n",
       "      <td>100</td>\n",
       "      <td>70</td>\n",
       "    </tr>\n",
       "    <tr>\n",
       "      <th>26743</th>\n",
       "      <td>2.0</td>\n",
       "      <td>2.0</td>\n",
       "      <td>0</td>\n",
       "      <td>0</td>\n",
       "      <td>0</td>\n",
       "      <td>1</td>\n",
       "      <td>0</td>\n",
       "      <td>19823</td>\n",
       "      <td>165.0</td>\n",
       "      <td>65.0</td>\n",
       "      <td>120</td>\n",
       "      <td>80</td>\n",
       "    </tr>\n",
       "  </tbody>\n",
       "</table>\n",
       "</div>"
      ],
      "text/plain": [
       "       cholesterol  gluc  is_active  smoker  alcohol_consumer  female  male  \\\n",
       "18939          1.0   1.0          1       0                 1       0     1   \n",
       "28923          0.0   1.0          1       1                 1       0     1   \n",
       "18207          0.0   0.0          1       1                 0       0     1   \n",
       "9673           0.0   0.0          1       0                 0       1     0   \n",
       "26743          2.0   2.0          0       0                 0       1     0   \n",
       "\n",
       "         age  height  weight  ap_hi  ap_lo  \n",
       "18939  18385   170.0    75.0    120     80  \n",
       "28923  17288   170.0    78.0    120     80  \n",
       "18207  21263   166.0    83.0    120     80  \n",
       "9673   16840   162.0    66.0    100     70  \n",
       "26743  19823   165.0    65.0    120     80  "
      ]
     },
     "execution_count": 152,
     "metadata": {},
     "output_type": "execute_result"
    }
   ],
   "source": [
    "valid_X.head()"
   ]
  },
  {
   "cell_type": "code",
   "execution_count": 153,
   "id": "8d153ab5",
   "metadata": {},
   "outputs": [],
   "source": [
    "train_X = train_X.dropna()\n",
    "valid_X = valid_X.dropna()\n",
    "\n",
    "train_y = train_y[train_X.index]\n",
    "valid_y = valid_y[valid_y.index]"
   ]
  },
  {
   "cell_type": "code",
   "execution_count": 154,
   "id": "3b3951ed",
   "metadata": {},
   "outputs": [
    {
     "name": "stdout",
     "output_type": "stream",
     "text": [
      "ROC score: 0.5572613504074505\n"
     ]
    },
    {
     "data": {
      "image/png": "[encoded data removed]",
      "text/plain": [
       "<Figure size 600x400 with 1 Axes>"
      ]
     },
     "metadata": {},
     "output_type": "display_data"
    }
   ],
   "source": [
    "clf = train_logreg_classifier(train_X, train_y)\n",
    "\n",
    "predictions = clf.predict(valid_X)\n",
    "evaluate_with_roc(valid_y, predictions)"
   ]
  },
  {
   "cell_type": "markdown",
   "id": "6470308a",
   "metadata": {},
   "source": [
    "### Scaling\n",
    "\n",
    "- <a href=\"https://scikit-learn.org/stable/modules/generated/sklearn.preprocessing.MinMaxScaler.html\">Min Max Scaler</a>\n",
    "- <a href=\"https://scikit-learn.org/stable/modules/generated/sklearn.preprocessing.StandardScaler.html\">Standard Scaler</a>"
   ]
  },
  {
   "cell_type": "markdown",
   "id": "98565975",
   "metadata": {},
   "source": [
    "<img src='imgs/scaling.png' width=600 height=800>"
   ]
  },
  {
   "cell_type": "code",
   "execution_count": 173,
   "id": "19ee91a9",
   "metadata": {
    "scrolled": true
   },
   "outputs": [
    {
     "ename": "AttributeError",
     "evalue": "'numpy.ndarray' object has no attribute 'columns'",
     "output_type": "error",
     "traceback": [
      "\u001b[1;31m---------------------------------------------------------------------------\u001b[0m",
      "\u001b[1;31mAttributeError\u001b[0m                            Traceback (most recent call last)",
      "Cell \u001b[1;32mIn [173], line 1\u001b[0m\n\u001b[1;32m----> 1\u001b[0m train_columns \u001b[38;5;241m=\u001b[39m \u001b[43mtrain_X\u001b[49m\u001b[38;5;241;43m.\u001b[39;49m\u001b[43mcolumns\u001b[49m\n\u001b[0;32m      2\u001b[0m valid_columns \u001b[38;5;241m=\u001b[39m valid_X\u001b[38;5;241m.\u001b[39mcolumns\n\u001b[0;32m      4\u001b[0m scaler \u001b[38;5;241m=\u001b[39m MinMaxScaler()\n",
      "\u001b[1;31mAttributeError\u001b[0m: 'numpy.ndarray' object has no attribute 'columns'"
     ]
    }
   ],
   "source": [
    "train_columns = train_X.columns\n",
    "valid_columns = valid_X.columns\n",
    "\n",
    "scaler = MinMaxScaler()\n",
    "scaler.fit(train_X)\n",
    "train_X = pd.DataFrame(scaler.transform(train_X), columns=train_columns)\n",
    "valid_X = pd.DataFrame(scaler.transform(valid_X), columns=valid_columns)\n",
    "\n",
    "clf = train_logreg_classifier(train_X, train_y)\n",
    "\n",
    "predictions = clf.predict(valid_X)\n",
    "evaluate_with_roc(valid_y, predictions)\n",
    "\n",
    "# preds_logreg = log_reg_clf.predict(valid_X)\n",
    "# evaluate_with_roc(valid_y, preds_logreg)"
   ]
  },
  {
   "cell_type": "code",
   "execution_count": 156,
   "id": "2ab79c47",
   "metadata": {},
   "outputs": [
    {
     "data": {
      "text/html": [
       "<div>\n",
       "<style scoped>\n",
       "    .dataframe tbody tr th:only-of-type {\n",
       "        vertical-align: middle;\n",
       "    }\n",
       "\n",
       "    .dataframe tbody tr th {\n",
       "        vertical-align: top;\n",
       "    }\n",
       "\n",
       "    .dataframe thead th {\n",
       "        text-align: right;\n",
       "    }\n",
       "</style>\n",
       "<table border=\"1\" class=\"dataframe\">\n",
       "  <thead>\n",
       "    <tr style=\"text-align: right;\">\n",
       "      <th></th>\n",
       "      <th>cholesterol</th>\n",
       "      <th>gluc</th>\n",
       "      <th>is_active</th>\n",
       "      <th>smoker</th>\n",
       "      <th>alcohol_consumer</th>\n",
       "      <th>female</th>\n",
       "      <th>male</th>\n",
       "      <th>age</th>\n",
       "      <th>height</th>\n",
       "      <th>weight</th>\n",
       "      <th>ap_hi</th>\n",
       "      <th>ap_lo</th>\n",
       "    </tr>\n",
       "  </thead>\n",
       "  <tbody>\n",
       "    <tr>\n",
       "      <th>0</th>\n",
       "      <td>0.0</td>\n",
       "      <td>0.0</td>\n",
       "      <td>1.0</td>\n",
       "      <td>0.0</td>\n",
       "      <td>0.0</td>\n",
       "      <td>1.0</td>\n",
       "      <td>0.0</td>\n",
       "      <td>0.696065</td>\n",
       "      <td>0.797203</td>\n",
       "      <td>0.295858</td>\n",
       "      <td>0.486957</td>\n",
       "      <td>0.431818</td>\n",
       "    </tr>\n",
       "    <tr>\n",
       "      <th>1</th>\n",
       "      <td>0.0</td>\n",
       "      <td>1.0</td>\n",
       "      <td>1.0</td>\n",
       "      <td>0.0</td>\n",
       "      <td>0.0</td>\n",
       "      <td>1.0</td>\n",
       "      <td>0.0</td>\n",
       "      <td>0.738839</td>\n",
       "      <td>0.671329</td>\n",
       "      <td>0.319527</td>\n",
       "      <td>0.304348</td>\n",
       "      <td>0.318182</td>\n",
       "    </tr>\n",
       "    <tr>\n",
       "      <th>2</th>\n",
       "      <td>0.5</td>\n",
       "      <td>0.0</td>\n",
       "      <td>1.0</td>\n",
       "      <td>1.0</td>\n",
       "      <td>1.0</td>\n",
       "      <td>0.0</td>\n",
       "      <td>0.0</td>\n",
       "      <td>0.857032</td>\n",
       "      <td>0.769231</td>\n",
       "      <td>0.325444</td>\n",
       "      <td>0.304348</td>\n",
       "      <td>0.318182</td>\n",
       "    </tr>\n",
       "    <tr>\n",
       "      <th>3</th>\n",
       "      <td>0.0</td>\n",
       "      <td>0.0</td>\n",
       "      <td>1.0</td>\n",
       "      <td>1.0</td>\n",
       "      <td>1.0</td>\n",
       "      <td>1.0</td>\n",
       "      <td>0.0</td>\n",
       "      <td>0.749513</td>\n",
       "      <td>0.762238</td>\n",
       "      <td>0.390533</td>\n",
       "      <td>0.304348</td>\n",
       "      <td>0.204545</td>\n",
       "    </tr>\n",
       "    <tr>\n",
       "      <th>4</th>\n",
       "      <td>0.0</td>\n",
       "      <td>0.0</td>\n",
       "      <td>0.0</td>\n",
       "      <td>0.0</td>\n",
       "      <td>0.0</td>\n",
       "      <td>0.0</td>\n",
       "      <td>1.0</td>\n",
       "      <td>0.702688</td>\n",
       "      <td>0.734266</td>\n",
       "      <td>0.289941</td>\n",
       "      <td>0.304348</td>\n",
       "      <td>0.318182</td>\n",
       "    </tr>\n",
       "    <tr>\n",
       "      <th>...</th>\n",
       "      <td>...</td>\n",
       "      <td>...</td>\n",
       "      <td>...</td>\n",
       "      <td>...</td>\n",
       "      <td>...</td>\n",
       "      <td>...</td>\n",
       "      <td>...</td>\n",
       "      <td>...</td>\n",
       "      <td>...</td>\n",
       "      <td>...</td>\n",
       "      <td>...</td>\n",
       "      <td>...</td>\n",
       "    </tr>\n",
       "    <tr>\n",
       "      <th>27090</th>\n",
       "      <td>0.0</td>\n",
       "      <td>0.0</td>\n",
       "      <td>1.0</td>\n",
       "      <td>0.0</td>\n",
       "      <td>0.0</td>\n",
       "      <td>0.0</td>\n",
       "      <td>0.0</td>\n",
       "      <td>0.342267</td>\n",
       "      <td>0.769231</td>\n",
       "      <td>0.313609</td>\n",
       "      <td>0.304348</td>\n",
       "      <td>0.318182</td>\n",
       "    </tr>\n",
       "    <tr>\n",
       "      <th>27091</th>\n",
       "      <td>1.0</td>\n",
       "      <td>0.5</td>\n",
       "      <td>1.0</td>\n",
       "      <td>1.0</td>\n",
       "      <td>0.0</td>\n",
       "      <td>0.0</td>\n",
       "      <td>1.0</td>\n",
       "      <td>0.725282</td>\n",
       "      <td>0.769231</td>\n",
       "      <td>0.473373</td>\n",
       "      <td>0.739130</td>\n",
       "      <td>0.545455</td>\n",
       "    </tr>\n",
       "    <tr>\n",
       "      <th>27092</th>\n",
       "      <td>0.0</td>\n",
       "      <td>0.0</td>\n",
       "      <td>0.0</td>\n",
       "      <td>0.0</td>\n",
       "      <td>0.0</td>\n",
       "      <td>1.0</td>\n",
       "      <td>0.0</td>\n",
       "      <td>0.688118</td>\n",
       "      <td>0.734266</td>\n",
       "      <td>0.349112</td>\n",
       "      <td>0.304348</td>\n",
       "      <td>0.204545</td>\n",
       "    </tr>\n",
       "    <tr>\n",
       "      <th>27093</th>\n",
       "      <td>0.0</td>\n",
       "      <td>0.0</td>\n",
       "      <td>1.0</td>\n",
       "      <td>0.0</td>\n",
       "      <td>0.0</td>\n",
       "      <td>0.0</td>\n",
       "      <td>1.0</td>\n",
       "      <td>0.735723</td>\n",
       "      <td>0.832168</td>\n",
       "      <td>0.402367</td>\n",
       "      <td>0.347826</td>\n",
       "      <td>0.204545</td>\n",
       "    </tr>\n",
       "    <tr>\n",
       "      <th>27094</th>\n",
       "      <td>1.0</td>\n",
       "      <td>0.0</td>\n",
       "      <td>1.0</td>\n",
       "      <td>1.0</td>\n",
       "      <td>1.0</td>\n",
       "      <td>0.0</td>\n",
       "      <td>1.0</td>\n",
       "      <td>0.982781</td>\n",
       "      <td>0.965035</td>\n",
       "      <td>0.349112</td>\n",
       "      <td>0.217391</td>\n",
       "      <td>0.204545</td>\n",
       "    </tr>\n",
       "  </tbody>\n",
       "</table>\n",
       "<p>27095 rows × 12 columns</p>\n",
       "</div>"
      ],
      "text/plain": [
       "       cholesterol  gluc  is_active  smoker  alcohol_consumer  female  male  \\\n",
       "0              0.0   0.0        1.0     0.0               0.0     1.0   0.0   \n",
       "1              0.0   1.0        1.0     0.0               0.0     1.0   0.0   \n",
       "2              0.5   0.0        1.0     1.0               1.0     0.0   0.0   \n",
       "3              0.0   0.0        1.0     1.0               1.0     1.0   0.0   \n",
       "4              0.0   0.0        0.0     0.0               0.0     0.0   1.0   \n",
       "...            ...   ...        ...     ...               ...     ...   ...   \n",
       "27090          0.0   0.0        1.0     0.0               0.0     0.0   0.0   \n",
       "27091          1.0   0.5        1.0     1.0               0.0     0.0   1.0   \n",
       "27092          0.0   0.0        0.0     0.0               0.0     1.0   0.0   \n",
       "27093          0.0   0.0        1.0     0.0               0.0     0.0   1.0   \n",
       "27094          1.0   0.0        1.0     1.0               1.0     0.0   1.0   \n",
       "\n",
       "            age    height    weight     ap_hi     ap_lo  \n",
       "0      0.696065  0.797203  0.295858  0.486957  0.431818  \n",
       "1      0.738839  0.671329  0.319527  0.304348  0.318182  \n",
       "2      0.857032  0.769231  0.325444  0.304348  0.318182  \n",
       "3      0.749513  0.762238  0.390533  0.304348  0.204545  \n",
       "4      0.702688  0.734266  0.289941  0.304348  0.318182  \n",
       "...         ...       ...       ...       ...       ...  \n",
       "27090  0.342267  0.769231  0.313609  0.304348  0.318182  \n",
       "27091  0.725282  0.769231  0.473373  0.739130  0.545455  \n",
       "27092  0.688118  0.734266  0.349112  0.304348  0.204545  \n",
       "27093  0.735723  0.832168  0.402367  0.347826  0.204545  \n",
       "27094  0.982781  0.965035  0.349112  0.217391  0.204545  \n",
       "\n",
       "[27095 rows x 12 columns]"
      ]
     },
     "execution_count": 156,
     "metadata": {},
     "output_type": "execute_result"
    }
   ],
   "source": [
    "train_X"
   ]
  },
  {
   "cell_type": "markdown",
   "id": "1e348c45",
   "metadata": {
    "slideshow": {
     "slide_type": "slide"
    }
   },
   "source": [
    "### Imputation\n",
    "\n",
    "- <a href=\"https://scikit-learn.org/stable/modules/generated/sklearn.impute.SimpleImputer.html\">Simple Imputer</a>\n",
    "- <a href=\"https://scikit-learn.org/stable/modules/generated/sklearn.impute.KNNImputer.html\">KNN Imputer</a>"
   ]
  },
  {
   "cell_type": "code",
   "execution_count": 157,
   "id": "d397856f",
   "metadata": {
    "slideshow": {
     "slide_type": "fragment"
    }
   },
   "outputs": [],
   "source": [
    "mean_imputer = SimpleImputer(missing_values=np.nan, strategy='mean')"
   ]
  },
  {
   "cell_type": "code",
   "execution_count": 158,
   "id": "73f8506a",
   "metadata": {
    "scrolled": false,
    "slideshow": {
     "slide_type": "subslide"
    }
   },
   "outputs": [
    {
     "name": "stdout",
     "output_type": "stream",
     "text": [
      "ROC score: 0.5828588838766006\n"
     ]
    },
    {
     "data": {
      "image/png": "[encoded data removed]",
      "text/plain": [
       "<Figure size 600x400 with 1 Axes>"
      ]
     },
     "metadata": {},
     "output_type": "display_data"
    }
   ],
   "source": [
    "mean_imputer.fit(train_X)\n",
    "train_X = mean_imputer.transform(train_X)\n",
    "valid_X = mean_imputer.transform(valid_X)\n",
    "\n",
    "clf = train_logreg_classifier(train_X, train_y)\n",
    "\n",
    "predictions = clf.predict(valid_X)\n",
    "evaluate_with_roc(valid_y, predictions)"
   ]
  },
  {
   "cell_type": "markdown",
   "id": "276e60d1",
   "metadata": {
    "slideshow": {
     "slide_type": "subslide"
    }
   },
   "source": [
    "#### Różne typy wartości opuszczonych\n",
    "- <a href=\"https://bookdown.org/rwnahhas/RMPH/mi-mechanisms.html\">MAR MNAR MVAR</a>"
   ]
  },
  {
   "cell_type": "markdown",
   "id": "15f1e31a",
   "metadata": {
    "slideshow": {
     "slide_type": "slide"
    }
   },
   "source": [
    "### Weighting logits with sklearn\n",
    "\n",
    "**Cross entropy loss** (log-loss) with class weights\n",
    "$$\n",
    "J(\\theta) = -\\sum_{i}\\bigl[w_0*y^{(i)}\\log(h_\\theta(x^{(i)})) + w_1*(1-y^{(i)})\\log(1-h_\\theta(x^{(i)}))\\bigr]\n",
    "$$\n",
    "\n",
    "$$\n",
    "w_j = nSamples / (nClasses * nSamples_j), j = {0, 1}\n",
    "$$"
   ]
  },
  {
   "cell_type": "code",
   "execution_count": 159,
   "id": "5ece45c6",
   "metadata": {
    "slideshow": {
     "slide_type": "fragment"
    }
   },
   "outputs": [],
   "source": [
    "def train_logreg_classifier(train_X, train_y, weighted=False):\n",
    "    try:\n",
    "        weight_setting = \"balanced\" if weighted else None\n",
    "        clf = LogisticRegression(class_weight=weight_setting)\n",
    "        clf.fit(train_X, train_y)\n",
    "        return clf\n",
    "    except:\n",
    "        print(sys.exc_info()[0:2])"
   ]
  },
  {
   "cell_type": "code",
   "execution_count": 160,
   "id": "cf5e89fd",
   "metadata": {
    "scrolled": true
   },
   "outputs": [
    {
     "name": "stdout",
     "output_type": "stream",
     "text": [
      "ROC score: 0.7402184589639116\n"
     ]
    },
    {
     "data": {
      "image/png": "[encoded data removed]",
      "text/plain": [
       "<Figure size 600x400 with 1 Axes>"
      ]
     },
     "metadata": {},
     "output_type": "display_data"
    }
   ],
   "source": [
    "clf = train_logreg_classifier(train_X, train_y, weighted=True)\n",
    "\n",
    "predictions = clf.predict(valid_X)\n",
    "evaluate_with_roc(valid_y, predictions)"
   ]
  },
  {
   "cell_type": "markdown",
   "id": "4835d437",
   "metadata": {},
   "source": [
    "### Hyperparameter search\n",
    "\n",
    "- <a href=\"https://scikit-learn.org/stable/modules/generated/sklearn.model_selection.RandomizedSearchCV.html\" >RandomizedSearchCV</a>\n",
    "- <a href=\"https://scikit-learn.org/stable/modules/generated/sklearn.model_selection.GridSearchCV.html\" >GridSearchCV</a>"
   ]
  },
  {
   "cell_type": "code",
   "execution_count": 167,
   "id": "8935520a",
   "metadata": {},
   "outputs": [
    {
     "data": {
      "text/html": [
       "<style>#sk-container-id-4 {color: black;background-color: white;}#sk-container-id-4 pre{padding: 0;}#sk-container-id-4 div.sk-toggleable {background-color: white;}#sk-container-id-4 label.sk-toggleable__label {cursor: pointer;display: block;width: 100%;margin-bottom: 0;padding: 0.3em;box-sizing: border-box;text-align: center;}#sk-container-id-4 label.sk-toggleable__label-arrow:before {content: \"▸\";float: left;margin-right: 0.25em;color: #696969;}#sk-container-id-4 label.sk-toggleable__label-arrow:hover:before {color: black;}#sk-container-id-4 div.sk-estimator:hover label.sk-toggleable__label-arrow:before {color: black;}#sk-container-id-4 div.sk-toggleable__content {max-height: 0;max-width: 0;overflow: hidden;text-align: left;background-color: #f0f8ff;}#sk-container-id-4 div.sk-toggleable__content pre {margin: 0.2em;color: black;border-radius: 0.25em;background-color: #f0f8ff;}#sk-container-id-4 input.sk-toggleable__control:checked~div.sk-toggleable__content {max-height: 200px;max-width: 100%;overflow: auto;}#sk-container-id-4 input.sk-toggleable__control:checked~label.sk-toggleable__label-arrow:before {content: \"▾\";}#sk-container-id-4 div.sk-estimator input.sk-toggleable__control:checked~label.sk-toggleable__label {background-color: #d4ebff;}#sk-container-id-4 div.sk-label input.sk-toggleable__control:checked~label.sk-toggleable__label {background-color: #d4ebff;}#sk-container-id-4 input.sk-hidden--visually {border: 0;clip: rect(1px 1px 1px 1px);clip: rect(1px, 1px, 1px, 1px);height: 1px;margin: -1px;overflow: hidden;padding: 0;position: absolute;width: 1px;}#sk-container-id-4 div.sk-estimator {font-family: monospace;background-color: #f0f8ff;border: 1px dotted black;border-radius: 0.25em;box-sizing: border-box;margin-bottom: 0.5em;}#sk-container-id-4 div.sk-estimator:hover {background-color: #d4ebff;}#sk-container-id-4 div.sk-parallel-item::after {content: \"\";width: 100%;border-bottom: 1px solid gray;flex-grow: 1;}#sk-container-id-4 div.sk-label:hover label.sk-toggleable__label {background-color: #d4ebff;}#sk-container-id-4 div.sk-serial::before {content: \"\";position: absolute;border-left: 1px solid gray;box-sizing: border-box;top: 0;bottom: 0;left: 50%;z-index: 0;}#sk-container-id-4 div.sk-serial {display: flex;flex-direction: column;align-items: center;background-color: white;padding-right: 0.2em;padding-left: 0.2em;position: relative;}#sk-container-id-4 div.sk-item {position: relative;z-index: 1;}#sk-container-id-4 div.sk-parallel {display: flex;align-items: stretch;justify-content: center;background-color: white;position: relative;}#sk-container-id-4 div.sk-item::before, #sk-container-id-4 div.sk-parallel-item::before {content: \"\";position: absolute;border-left: 1px solid gray;box-sizing: border-box;top: 0;bottom: 0;left: 50%;z-index: -1;}#sk-container-id-4 div.sk-parallel-item {display: flex;flex-direction: column;z-index: 1;position: relative;background-color: white;}#sk-container-id-4 div.sk-parallel-item:first-child::after {align-self: flex-end;width: 50%;}#sk-container-id-4 div.sk-parallel-item:last-child::after {align-self: flex-start;width: 50%;}#sk-container-id-4 div.sk-parallel-item:only-child::after {width: 0;}#sk-container-id-4 div.sk-dashed-wrapped {border: 1px dashed gray;margin: 0 0.4em 0.5em 0.4em;box-sizing: border-box;padding-bottom: 0.4em;background-color: white;}#sk-container-id-4 div.sk-label label {font-family: monospace;font-weight: bold;display: inline-block;line-height: 1.2em;}#sk-container-id-4 div.sk-label-container {text-align: center;}#sk-container-id-4 div.sk-container {/* jupyter's `normalize.less` sets `[hidden] { display: none; }` but bootstrap.min.css set `[hidden] { display: none !important; }` so we also need the `!important` here to be able to override the default hidden behavior on the sphinx rendered scikit-learn.org. See: https://github.com/scikit-learn/scikit-learn/issues/21755 */display: inline-block !important;position: relative;}#sk-container-id-4 div.sk-text-repr-fallback {display: none;}</style><div id=\"sk-container-id-4\" class=\"sk-top-container\"><div class=\"sk-text-repr-fallback\"><pre>RandomizedSearchCV(estimator=LogisticRegression(class_weight=&#x27;balanced&#x27;),\n",
       "                   param_distributions={&#x27;C&#x27;: [1, 10, 20, 50, 100],\n",
       "                                        &#x27;l1_ratio&#x27;: [0.0, 0.2, 0.4, 0.6, 0.8,\n",
       "                                                     1.0],\n",
       "                                        &#x27;penalty&#x27;: [&#x27;elasticnet&#x27;],\n",
       "                                        &#x27;solver&#x27;: [&#x27;saga&#x27;]},\n",
       "                   scoring=&#x27;roc_auc&#x27;)</pre><b>In a Jupyter environment, please rerun this cell to show the HTML representation or trust the notebook. <br />On GitHub, the HTML representation is unable to render, please try loading this page with nbviewer.org.</b></div><div class=\"sk-container\" hidden><div class=\"sk-item sk-dashed-wrapped\"><div class=\"sk-label-container\"><div class=\"sk-label sk-toggleable\"><input class=\"sk-toggleable__control sk-hidden--visually\" id=\"sk-estimator-id-10\" type=\"checkbox\" ><label for=\"sk-estimator-id-10\" class=\"sk-toggleable__label sk-toggleable__label-arrow\">RandomizedSearchCV</label><div class=\"sk-toggleable__content\"><pre>RandomizedSearchCV(estimator=LogisticRegression(class_weight=&#x27;balanced&#x27;),\n",
       "                   param_distributions={&#x27;C&#x27;: [1, 10, 20, 50, 100],\n",
       "                                        &#x27;l1_ratio&#x27;: [0.0, 0.2, 0.4, 0.6, 0.8,\n",
       "                                                     1.0],\n",
       "                                        &#x27;penalty&#x27;: [&#x27;elasticnet&#x27;],\n",
       "                                        &#x27;solver&#x27;: [&#x27;saga&#x27;]},\n",
       "                   scoring=&#x27;roc_auc&#x27;)</pre></div></div></div><div class=\"sk-parallel\"><div class=\"sk-parallel-item\"><div class=\"sk-item\"><div class=\"sk-label-container\"><div class=\"sk-label sk-toggleable\"><input class=\"sk-toggleable__control sk-hidden--visually\" id=\"sk-estimator-id-11\" type=\"checkbox\" ><label for=\"sk-estimator-id-11\" class=\"sk-toggleable__label sk-toggleable__label-arrow\">estimator: LogisticRegression</label><div class=\"sk-toggleable__content\"><pre>LogisticRegression(class_weight=&#x27;balanced&#x27;)</pre></div></div></div><div class=\"sk-serial\"><div class=\"sk-item\"><div class=\"sk-estimator sk-toggleable\"><input class=\"sk-toggleable__control sk-hidden--visually\" id=\"sk-estimator-id-12\" type=\"checkbox\" ><label for=\"sk-estimator-id-12\" class=\"sk-toggleable__label sk-toggleable__label-arrow\">LogisticRegression</label><div class=\"sk-toggleable__content\"><pre>LogisticRegression(class_weight=&#x27;balanced&#x27;)</pre></div></div></div></div></div></div></div></div></div></div>"
      ],
      "text/plain": [
       "RandomizedSearchCV(estimator=LogisticRegression(class_weight='balanced'),\n",
       "                   param_distributions={'C': [1, 10, 20, 50, 100],\n",
       "                                        'l1_ratio': [0.0, 0.2, 0.4, 0.6, 0.8,\n",
       "                                                     1.0],\n",
       "                                        'penalty': ['elasticnet'],\n",
       "                                        'solver': ['saga']},\n",
       "                   scoring='roc_auc')"
      ]
     },
     "execution_count": 167,
     "metadata": {},
     "output_type": "execute_result"
    }
   ],
   "source": [
    "param_map = {\n",
    "    'C': [1, 10, 20, 50, 100],\n",
    "    'penalty': ['elasticnet'],\n",
    "    'l1_ratio': [i / 5 for i in range(6)],\n",
    "    'solver': ['saga']\n",
    "}\n",
    "\n",
    "searcher = RandomizedSearchCV(clf, param_distributions=param_map, scoring='roc_auc')\n",
    "searcher.fit(train_X, train_y)"
   ]
  },
  {
   "cell_type": "code",
   "execution_count": 168,
   "id": "8fd21bc7",
   "metadata": {},
   "outputs": [],
   "source": [
    "best_clf = searcher.best_estimator_"
   ]
  },
  {
   "cell_type": "code",
   "execution_count": 169,
   "id": "46d34cd7",
   "metadata": {
    "scrolled": false
   },
   "outputs": [
    {
     "name": "stdout",
     "output_type": "stream",
     "text": [
      "ROC score: 0.7441247089639116\n"
     ]
    },
    {
     "data": {
      "image/png": "[encoded data removed]",
      "text/plain": [
       "<Figure size 600x400 with 1 Axes>"
      ]
     },
     "metadata": {},
     "output_type": "display_data"
    }
   ],
   "source": [
    "best_preds = best_clf.predict(valid_X)\n",
    "evaluate_with_roc(valid_y, best_preds)"
   ]
  },
  {
   "cell_type": "markdown",
   "id": "c1818c9a",
   "metadata": {
    "slideshow": {
     "slide_type": "slide"
    }
   },
   "source": [
    "# Podsumujmy\n",
    "\n",
    "- Zaczęliśmy od surowego datasetu, a po drodze zaaplikowaliśmy:\n",
    "    - Kodowanie kategoryczne\n",
    "    - Skalowanie atrybutów\n",
    "    - Wystroiliśmy hiperparametry\n",
    "- Dane zazwyczaj nie są piękne i musimy je wyczyścić i przygotować do trenowania\n",
    "- Dobrze jest zaczynać od najgłupszego modela, a stopniowo go ulepszać\n",
    "- Szybka ewaluacja daje swoje plony\n",
    "\n",
    "Data is messy, cleaning it is the path to the better submissions\n",
    "- We start with the worst model possible and improve it over time\n",
    "- Quick evaluation is helpful"
   ]
  },
  {
   "cell_type": "markdown",
   "id": "4203018e",
   "metadata": {
    "slideshow": {
     "slide_type": "slide"
    }
   },
   "source": [
    "### Zadanie domowe\n",
    "\n",
    "- Pobawić się z danymi w konkursie bootcampowym na Kaggle'u"
   ]
  }
 ],
 "metadata": {
  "celltoolbar": "Slideshow",
  "kernelspec": {
   "display_name": "Python 3 (ipykernel)",
   "language": "python",
   "name": "python3"
  },
  "language_info": {
   "codemirror_mode": {
    "name": "ipython",
    "version": 3
   },
   "file_extension": ".py",
   "mimetype": "text/x-python",
   "name": "python",
   "nbconvert_exporter": "python",
   "pygments_lexer": "ipython3",
   "version": "3.10.8"
  }
 },
 "nbformat": 4,
 "nbformat_minor": 5
}
