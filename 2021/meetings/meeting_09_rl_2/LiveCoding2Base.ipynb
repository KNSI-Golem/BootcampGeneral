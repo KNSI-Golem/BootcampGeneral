{
 "cells": [
  {
   "cell_type": "code",
   "execution_count": null,
   "id": "a1ae071d",
   "metadata": {},
   "outputs": [],
   "source": [
    "import gym\n",
    "import tensorflow as tf\n",
    "import numpy as np"
   ]
  },
  {
   "cell_type": "code",
   "execution_count": null,
   "id": "dbbd1fe0",
   "metadata": {},
   "outputs": [],
   "source": [
    "def make_model(input_shape, outputs, neurons, out_activation):\n",
    "    return tf.keras.Sequential([\n",
    "        tf.keras.layers.Input(input_shape),\n",
    "        tf.keras.layers.Dense(neurons, activation='tanh'),\n",
    "        tf.keras.layers.Dense(neurons, activation='tanh'),\n",
    "        tf.keras.layers.Dense(outputs, activation=out_activation)\n",
    "    ])"
   ]
  },
  {
   "cell_type": "code",
   "execution_count": null,
   "id": "334aa77c",
   "metadata": {},
   "outputs": [],
   "source": [
    "class Critic:\n",
    "    def __init__(self, input_shape, neurons, lr):\n",
    "        self.model = make_model(input_shape, 1, neurons, None)\n",
    "        self.optimizer = tf.keras.optimizers.Adam(learning_rate=lr)\n",
    "    \n",
    "    @tf.function\n",
    "    def advantage(self, obs, obs_last, rewards, done, discount):\n",
    "        v = self.model(obs)\n",
    "        v_last = self.model(tf.reshape(obs_last, (1, -1))) * (1 - tf.cast(done, tf.float32))\n",
    "        v = v[:,0]\n",
    "        v_last = v_last[:,0]\n",
    "        vn = tf.concat([v[1:], v_last], axis=0)\n",
    "\n",
    "        adv = rewards + tf.stop_gradient(discount * vn) - v\n",
    "\n",
    "        return adv\n",
    "\n",
    "    def minimize(self, loss, tape):\n",
    "        self.optimizer.minimize(loss, self.model.trainable_variables, tape=tape)"
   ]
  },
  {
   "cell_type": "code",
   "execution_count": null,
   "id": "2a67b4df",
   "metadata": {},
   "outputs": [],
   "source": [
    "class DiscreteActor:\n",
    "    def __init__(self, input_shape, actions, neurons, lr):\n",
    "        self.model = make_model(input_shape, actions, neurons, 'softmax')\n",
    "        self.optimizer = tf.keras.optimizers.Adam(learning_rate=lr)\n",
    "\n",
    "    @tf.function\n",
    "    def prob(self, obs, actions):\n",
    "        return self.probs_prob(obs, actions)[1]\n",
    "    \n",
    "    @tf.function\n",
    "    def probs_prob(self, obs, actions):\n",
    "        outs = self.model(obs)\n",
    "        actions = tf.reshape(actions, (-1, 1))\n",
    "        return outs, tf.gather_nd(outs, actions, batch_dims=1)\n",
    "\n",
    "    def act(self, obs, explore):\n",
    "        out = self.model(obs.reshape((1, -1))).numpy()[0]\n",
    "        if explore:\n",
    "            return np.random.choice(out.shape[0], p=out)\n",
    "        else:\n",
    "            return np.argmax(out)\n",
    "\n",
    "    def minimize(self, loss, tape):\n",
    "        self.optimizer.minimize(loss, self.model.trainable_variables, tape=tape)"
   ]
  },
  {
   "cell_type": "code",
   "execution_count": null,
   "id": "91d0b168",
   "metadata": {},
   "outputs": [],
   "source": [
    "def test_actor(actor, test_env, num, show=False):\n",
    "    rewards_sum = 0\n",
    "    for _ in range(num):\n",
    "        obs = test_env.reset()\n",
    "        done = False\n",
    "        \n",
    "        if show:\n",
    "            test_env.render()\n",
    "\n",
    "        while not done:\n",
    "            action = actor.act(obs, explore=False)\n",
    "            obs, reward, done, _ = test_env.step(action)\n",
    "\n",
    "            if show:\n",
    "                test_env.render()\n",
    "\n",
    "            rewards_sum += reward\n",
    "    return rewards_sum / num"
   ]
  }
 ],
 "metadata": {
  "kernelspec": {
   "display_name": "Python 3 (ipykernel)",
   "language": "python",
   "name": "python3"
  },
  "language_info": {
   "codemirror_mode": {
    "name": "ipython",
    "version": 3
   },
   "file_extension": ".py",
   "mimetype": "text/x-python",
   "name": "python",
   "nbconvert_exporter": "python",
   "pygments_lexer": "ipython3",
   "version": "3.8.1rc1"
  }
 },
 "nbformat": 4,
 "nbformat_minor": 5
}
