{
 "cells": [
  {
   "metadata": {},
   "cell_type": "code",
   "source": [
    "import matplotlib.pyplot as plt\n",
    "import numpy as np\n",
    "from sklearn.linear_model import LinearRegression\n",
    "from sklearn.metrics import mean_squared_error\n",
    "from sklearn.model_selection import train_test_split\n",
    "from sklearn.tree import DecisionTreeRegressor"
   ],
   "id": "c81b2911d0c3908f",
   "outputs": [],
   "execution_count": null
  },
  {
   "metadata": {},
   "cell_type": "code",
   "source": [
    "# data generation\n",
    "np.random.seed(42)\n",
    "n_samples = 100\n",
    "X = np.linspace(0, 10, n_samples)\n",
    "noise = np.random.normal(0, 0.2, n_samples)\n",
    "y = np.sin(X) * 3 + noise\n",
    "X = X.reshape(-1, 1)"
   ],
   "id": "dfe04058a85ff95",
   "outputs": [],
   "execution_count": null
  },
  {
   "metadata": {},
   "cell_type": "code",
   "source": [
    "X_train, X_test, y_train, y_test = train_test_split(X, y, test_size=0.2, random_state=42)\n",
    "\n",
    "\n",
    "linear_model = LinearRegression()\n",
    "tree_model = DecisionTreeRegressor(max_depth=3, random_state=42)\n",
    "\n",
    "linear_model.fit(X_train, y_train)\n",
    "tree_model.fit(X_train, y_train)\n"
   ],
   "id": "562e46c2dd62d013",
   "outputs": [],
   "execution_count": null
  },
  {
   "metadata": {},
   "cell_type": "code",
   "source": [
    "print(\"\\nModel Performance:\")\n",
    "print(f\"Linear Regression - MSE Score: {mean_squared_error(y_test, linear_model.predict(X_test)):.4f}\")\n",
    "print(f\"Regression Tree    - MSE Score: {mean_squared_error(y_test, tree_model.predict(X_test)):.4f}\")"
   ],
   "id": "67ac9de134033e10",
   "outputs": [],
   "execution_count": null
  },
  {
   "metadata": {},
   "cell_type": "code",
   "source": [
    "X_plot = np.linspace(0, 10, n_samples).reshape(-1, 1)\n",
    "y_linear_pred = linear_model.predict(X_plot)\n",
    "y_tree_pred = tree_model.predict(X_plot)\n",
    "\n",
    "\n",
    "plt.figure(figsize=(12, 6))\n",
    "plt.scatter(X, y, color='gray', alpha=0.5, label='Data points')\n",
    "plt.plot(X_plot, y_linear_pred, color='blue', label='Linear Regression')\n",
    "plt.plot(X_plot, y_tree_pred, color='red', label='Regression Tree')\n",
    "plt.title('Linear Regression vs Regression Tree on Non-linear Data')\n",
    "plt.xlabel('X')\n",
    "plt.ylabel('y')\n",
    "plt.legend()\n",
    "plt.grid(True, alpha=0.3)\n",
    "plt.show()\n"
   ],
   "id": "f802af7be2548527",
   "outputs": [],
   "execution_count": null
  }
 ],
 "metadata": {
  "kernelspec": {
   "display_name": "Python 3",
   "language": "python",
   "name": "python3"
  },
  "language_info": {
   "codemirror_mode": {
    "name": "ipython",
    "version": 2
   },
   "file_extension": ".py",
   "mimetype": "text/x-python",
   "name": "python",
   "nbconvert_exporter": "python",
   "pygments_lexer": "ipython2",
   "version": "2.7.6"
  }
 },
 "nbformat": 4,
 "nbformat_minor": 5
}
