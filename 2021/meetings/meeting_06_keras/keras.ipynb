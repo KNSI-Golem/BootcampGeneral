{
 "cells": [
  {
   "cell_type": "code",
   "execution_count": 1,
   "metadata": {
    "id": "q3ZwD6z1Jzgm"
   },
   "outputs": [],
   "source": [
    "# Import najważniejszych bibliotek\n",
    "\n",
    "import tensorflow as tf\n",
    "import numpy as np\n",
    "from tensorflow import keras\n",
    "from keras.regularizers import l2, l1\n",
    "from tensorflow.keras import layers\n",
    "from tensorflow.keras import activations\n",
    "\n",
    "%matplotlib inline\n",
    "import matplotlib.pyplot as plt\n",
    "#from tensorflow import keras"
   ]
  },
  {
   "cell_type": "markdown",
   "metadata": {
    "id": "xOx_C63jzoql"
   },
   "source": [
    "### Tensory\n",
    "Tensor - to podstawowa struktura danych w bibliotekach do Deep Learning."
   ]
  },
  {
   "cell_type": "markdown",
   "metadata": {
    "id": "pHDMRn8YzoLz"
   },
   "source": [
    "Tensory możemy stworzyć na parę różnych sposobów.\n",
    "1. Z list\n",
    "2. Z tablic numpy\n",
    "3. Zera, jedynki lub randomowe"
   ]
  },
  {
   "cell_type": "code",
   "execution_count": 2,
   "metadata": {
    "colab": {
     "base_uri": "https://localhost:8080/"
    },
    "id": "e304VaPz0IGl",
    "outputId": "b9b50c1b-5e2b-4842-d0dd-fd17a2d031c6"
   },
   "outputs": [
    {
     "name": "stdout",
     "output_type": "stream",
     "text": [
      "tf.Tensor(4, shape=(), dtype=int32)\n",
      "tf.Tensor([4 5], shape=(2,), dtype=int32)\n",
      "tf.Tensor(\n",
      "[[ 4  5]\n",
      " [10  2]], shape=(2, 2), dtype=int32)\n",
      "tf.Tensor(\n",
      "[[[ 1  2]\n",
      "  [ 3  4]]\n",
      "\n",
      " [[ 5  6]\n",
      "  [ 7  8]]\n",
      "\n",
      " [[ 9 10]\n",
      "  [11 12]]], shape=(3, 2, 2), dtype=int32)\n"
     ]
    }
   ],
   "source": [
    "rank_0_tensor = tf.constant(4)\n",
    "rank_1_tensor = tf.constant([4, 5])\n",
    "rank_2_tensor = tf.constant([[4, 5], [10, 2]])\n",
    "rank_3_tensor = tf.constant([[[1, 2], [3, 4]],\n",
    "                             [[5, 6], [7, 8]],\n",
    "                             [[9, 10], [11, 12]]])\n",
    "print(rank_0_tensor)\n",
    "print(rank_1_tensor)\n",
    "print(rank_2_tensor)\n",
    "print(rank_3_tensor)"
   ]
  },
  {
   "cell_type": "code",
   "execution_count": 3,
   "metadata": {
    "colab": {
     "base_uri": "https://localhost:8080/"
    },
    "id": "ZN7nm4Xb0IUV",
    "outputId": "d9994d39-f487-476d-f4bb-89313ed15249"
   },
   "outputs": [
    {
     "name": "stdout",
     "output_type": "stream",
     "text": [
      "tf.Tensor(\n",
      "[0.02983576 0.07077735 0.42280393 0.05166652 0.09518803 0.17013875\n",
      " 0.28987033 0.34975824 0.68797092 0.11000585 0.19711295 0.02535235\n",
      " 0.81572309 0.19268826 0.12851222 0.75007409 0.28851526 0.82799305\n",
      " 0.95077517 0.06882406], shape=(20,), dtype=float64)\n"
     ]
    }
   ],
   "source": [
    "# Z arrayu numpy\n",
    "array = np.random.uniform(0, 1, size=20)\n",
    "tensor = tf.convert_to_tensor(array)\n",
    "print(tensor)"
   ]
  },
  {
   "cell_type": "code",
   "execution_count": 4,
   "metadata": {
    "colab": {
     "base_uri": "https://localhost:8080/"
    },
    "id": "NE2kVrlczn96",
    "outputId": "fa167ad9-b60f-4c2d-bc08-dc2615346ac3"
   },
   "outputs": [
    {
     "name": "stdout",
     "output_type": "stream",
     "text": [
      "tf.Tensor([[95.22714  67.740776]], shape=(1, 2), dtype=float32)\n",
      "tf.Tensor([[8.596125 9.311239]], shape=(1, 2), dtype=float32)\n"
     ]
    }
   ],
   "source": [
    "# Randomowy\n",
    "uniform_tensor = tf.random.uniform((1, 2), minval=0, maxval=100, seed=42)\n",
    "normal_tensor = tf.random.normal((1, 2), mean=10, stddev=5, seed=42)\n",
    "\n",
    "print(uniform_tensor)\n",
    "print(normal_tensor)"
   ]
  },
  {
   "cell_type": "code",
   "execution_count": 5,
   "metadata": {
    "id": "_2ArJHMn6eBm"
   },
   "outputs": [],
   "source": [
    "### Zera lub jedynki\n",
    "tensor_ones = tf.ones((2, 4))\n",
    "tensor_zeros = tf.zeros((3, 2))"
   ]
  },
  {
   "cell_type": "markdown",
   "metadata": {
    "id": "H82UP96g0trc"
   },
   "source": [
    "### Operacje na Tensorach"
   ]
  },
  {
   "cell_type": "markdown",
   "metadata": {
    "id": "KcMqBW4b6Tse"
   },
   "source": [
    "#### Slicing i indeksacja"
   ]
  },
  {
   "cell_type": "code",
   "execution_count": 6,
   "metadata": {
    "colab": {
     "base_uri": "https://localhost:8080/"
    },
    "id": "Tjr-wsou6TVR",
    "outputId": "7e6b4f7c-e6ae-4cbf-cf92-54aaf2f624c1"
   },
   "outputs": [
    {
     "name": "stdout",
     "output_type": "stream",
     "text": [
      "tf.Tensor(\n",
      "[[0.91399455 0.37151313 0.33448792 0.35365117]\n",
      " [0.12177384 0.7821418  0.05864882 0.23013616]\n",
      " [0.25077677 0.431723   0.49755096 0.532789  ]], shape=(3, 4), dtype=float32)\n",
      "\n",
      "tf.Tensor([0.12177384 0.7821418  0.05864882 0.23013616], shape=(4,), dtype=float32)\n",
      "\n",
      "tf.Tensor([0.35365117 0.23013616 0.532789  ], shape=(3,), dtype=float32)\n",
      "\n",
      "tf.Tensor(0.532789, shape=(), dtype=float32)\n"
     ]
    }
   ],
   "source": [
    "tensor = tf.random.uniform((3, 4))\n",
    "\n",
    "print(tensor)\n",
    "print()\n",
    "print(tensor[1])\n",
    "print()\n",
    "print(tensor[:, -1])\n",
    "print()\n",
    "print(tensor[-1, -1])\n"
   ]
  },
  {
   "cell_type": "markdown",
   "metadata": {
    "id": "VBorj9g73xw-"
   },
   "source": [
    "#### Transponowanie"
   ]
  },
  {
   "cell_type": "code",
   "execution_count": 7,
   "metadata": {
    "colab": {
     "base_uri": "https://localhost:8080/"
    },
    "id": "wg1NIPEN5qWK",
    "outputId": "a816732a-f944-4a49-c03c-534711e03125"
   },
   "outputs": [
    {
     "name": "stdout",
     "output_type": "stream",
     "text": [
      "tf.Tensor(\n",
      "[[0. 0. 0. 0.]\n",
      " [0. 0. 0. 0.]\n",
      " [0. 0. 0. 0.]], shape=(3, 4), dtype=float32)\n",
      "tf.Tensor(\n",
      "[[0. 0. 0.]\n",
      " [0. 0. 0.]\n",
      " [0. 0. 0.]\n",
      " [0. 0. 0.]], shape=(4, 3), dtype=float32)\n"
     ]
    }
   ],
   "source": [
    "tensor = tf.zeros((3, 4))\n",
    "print(tensor)\n",
    "print(tf.transpose(tensor))"
   ]
  },
  {
   "cell_type": "markdown",
   "metadata": {
    "id": "OAw5gTlj0t7J"
   },
   "source": [
    "#### \"Rozszerzanie\" o wymiar"
   ]
  },
  {
   "cell_type": "code",
   "execution_count": 8,
   "metadata": {
    "colab": {
     "base_uri": "https://localhost:8080/"
    },
    "id": "AWI9uh8s5wWV",
    "outputId": "45b993e9-0cd5-4808-b6fd-8dae751029b8"
   },
   "outputs": [
    {
     "name": "stdout",
     "output_type": "stream",
     "text": [
      "(10, 1)\n",
      "(10,)\n",
      "(10, 1, 1)\n",
      "(1, 10, 1)\n"
     ]
    }
   ],
   "source": [
    "tensor_to_squeeze = tf.constant([[1] for i in range(10)])\n",
    "print(tensor_to_squeeze.shape)\n",
    "print(tf.squeeze(tensor_to_squeeze).shape)\n",
    "\n",
    "print(tf.expand_dims(tensor_to_squeeze, axis=1).shape)\n",
    "print(tf.expand_dims(tensor_to_squeeze, axis=0).shape)"
   ]
  },
  {
   "cell_type": "markdown",
   "metadata": {
    "id": "wZGPGZ0956HQ"
   },
   "source": [
    "#### Operacje arytmetyczne"
   ]
  },
  {
   "cell_type": "code",
   "execution_count": 9,
   "metadata": {
    "colab": {
     "base_uri": "https://localhost:8080/"
    },
    "id": "fOMsSjy_56PG",
    "outputId": "4c88f8b2-8d0c-4733-e758-90d9a8008322"
   },
   "outputs": [
    {
     "name": "stdout",
     "output_type": "stream",
     "text": [
      "tf.Tensor(\n",
      "[[1]\n",
      " [1]\n",
      " [1]\n",
      " [1]\n",
      " [1]\n",
      " [1]\n",
      " [1]\n",
      " [1]\n",
      " [1]\n",
      " [1]], shape=(10, 1), dtype=int32)\n",
      "tf.Tensor(\n",
      "[[7]\n",
      " [7]\n",
      " [7]\n",
      " [7]\n",
      " [7]\n",
      " [7]\n",
      " [7]\n",
      " [7]\n",
      " [7]\n",
      " [7]], shape=(10, 1), dtype=int32)\n"
     ]
    }
   ],
   "source": [
    "print(tensor_to_squeeze)\n",
    "print(tensor_to_squeeze * 2 + 5)"
   ]
  },
  {
   "cell_type": "markdown",
   "metadata": {
    "id": "om--QEw856y-"
   },
   "source": [
    "#### Operacje macierzowe"
   ]
  },
  {
   "cell_type": "code",
   "execution_count": 10,
   "metadata": {
    "colab": {
     "base_uri": "https://localhost:8080/"
    },
    "id": "uiGJ0dB557qP",
    "outputId": "d1ebe4df-ed52-43b3-99db-c56f841c2306"
   },
   "outputs": [
    {
     "name": "stdout",
     "output_type": "stream",
     "text": [
      "tf.Tensor(\n",
      "[[1. 1. 1.]\n",
      " [1. 1. 1.]\n",
      " [1. 1. 1.]\n",
      " [1. 1. 1.]], shape=(4, 3), dtype=float32)\n",
      "tf.Tensor(\n",
      "[[0.45623899 0.01469219 0.74881375 0.9342649 ]\n",
      " [0.9120872  0.26478577 0.25696826 0.8339187 ]\n",
      " [0.37778127 0.06198692 0.55377233 0.7877431 ]], shape=(3, 4), dtype=float32)\n",
      "tf.Tensor(\n",
      "[[1.7461075  0.34146488 1.5595543  2.5559268 ]\n",
      " [1.7461075  0.34146488 1.5595543  2.5559268 ]\n",
      " [1.7461075  0.34146488 1.5595543  2.5559268 ]\n",
      " [1.7461075  0.34146488 1.5595543  2.5559268 ]], shape=(4, 4), dtype=float32)\n"
     ]
    }
   ],
   "source": [
    "tensor = tf.ones((4, 3), dtype=tf.dtypes.float32)\n",
    "tensor2 = tf.random.uniform((3, 4))\n",
    "\n",
    "print(tensor)\n",
    "print(tensor2)\n",
    "\n",
    "result = tf.linalg.matmul(tensor, tensor2)\n",
    "print(result)"
   ]
  },
  {
   "cell_type": "markdown",
   "metadata": {
    "id": "Jg3OCTf5znum"
   },
   "source": [
    "### API Warstw\n",
    "W Keras podstawowym blokiem do budowania modeli są warstwy. W postaci warstw są wyrażone:\n",
    "- Warstwy neuronów (Fully connected)\n",
    "- Funkcje aktywacji\n",
    "- Regularyzacje (Dropout)\n",
    "- Batch Normalization"
   ]
  },
  {
   "cell_type": "markdown",
   "metadata": {
    "id": "AIVsJmPL0k4a"
   },
   "source": [
    "#### Przykład warstwy"
   ]
  },
  {
   "cell_type": "code",
   "execution_count": 11,
   "metadata": {
    "colab": {
     "base_uri": "https://localhost:8080/"
    },
    "id": "9gBQUDB90pEW",
    "outputId": "a6bb0e7e-3afa-4ba9-da7c-d4d7c0c571c7"
   },
   "outputs": [
    {
     "name": "stdout",
     "output_type": "stream",
     "text": [
      "tf.Tensor(\n",
      "[[0.795269   0.71633613 0.2678125  0.7841679 ]\n",
      " [0.7257929  0.8015722  0.48467195 0.823115  ]\n",
      " [0.19856441 0.9268954  0.07478154 0.04116321]], shape=(3, 4), dtype=float32)\n",
      "<keras.layers.core.dense.Dense object at 0x000002AE598D9A08>\n",
      "tf.Tensor(\n",
      "[[-1.2709429   0.42509317  0.34148774 -0.6999354 ]\n",
      " [-1.4170082   0.60474694  0.51544076 -0.65314937]\n",
      " [-0.49258065 -0.17118444 -0.11988907 -0.241371  ]], shape=(3, 4), dtype=float32)\n"
     ]
    }
   ],
   "source": [
    "input = tf.random.uniform((3, 4))\n",
    "print(input)\n",
    "hidden = tf.keras.layers.Dense(4)\n",
    "print(hidden)\n",
    "after_hidden = hidden(input)\n",
    "print(after_hidden)"
   ]
  },
  {
   "cell_type": "markdown",
   "metadata": {
    "id": "k2FkZUdTAapY"
   },
   "source": [
    "### Funkcja aktywacji"
   ]
  },
  {
   "cell_type": "code",
   "execution_count": 12,
   "metadata": {
    "colab": {
     "base_uri": "https://localhost:8080/"
    },
    "id": "AIb2ZNvnAeoi",
    "outputId": "a8530257-cca5-4b51-c62f-c1d48785ad19"
   },
   "outputs": [
    {
     "data": {
      "text/plain": [
       "array([[0.29020336, 0.3371682 , 0.37262848]], dtype=float32)"
      ]
     },
     "execution_count": 12,
     "metadata": {},
     "output_type": "execute_result"
    }
   ],
   "source": [
    "### Sigmoid\n",
    "preds = tf.constant([0.2, 0.35, 0.45], dtype=tf.float32)\n",
    "preds = tf.expand_dims(preds, axis=0)\n",
    "tf.keras.activations.softmax(preds).numpy()"
   ]
  },
  {
   "cell_type": "code",
   "execution_count": 13,
   "metadata": {
    "colab": {
     "base_uri": "https://localhost:8080/"
    },
    "id": "znVSKrgwAbNn",
    "outputId": "1b7b2d61-d07f-462b-80a2-6bdda9c0f248"
   },
   "outputs": [
    {
     "data": {
      "text/plain": [
       "array([ 0.,  0.,  0.,  5., 10.], dtype=float32)"
      ]
     },
     "execution_count": 13,
     "metadata": {},
     "output_type": "execute_result"
    }
   ],
   "source": [
    "### ReLU\n",
    "foo = tf.constant([-10, -5, 0.0, 5, 10], dtype = tf.float32)\n",
    "tf.keras.activations.relu(foo).numpy()"
   ]
  },
  {
   "cell_type": "markdown",
   "metadata": {
    "id": "zz732SX7C0lQ"
   },
   "source": [
    "# Zaczynamy tworzenie modelu"
   ]
  },
  {
   "cell_type": "code",
   "execution_count": 14,
   "metadata": {
    "id": "O610DhQtKPRr"
   },
   "outputs": [],
   "source": [
    "# Ładujemy dataset\n",
    "df = tf.keras.datasets.fashion_mnist.load_data()"
   ]
  },
  {
   "cell_type": "markdown",
   "metadata": {
    "id": "zwb6Dj0SLsIO"
   },
   "source": [
    "## *tf.keras.datasets.fashion_mnist.load_data()*:\n",
    "\n",
    "- Zwraca nam krotkę Numpy array (x_train, y_train), (x_test, y_test)\n",
    "- Niestandardowe dla nas dane (dotychczas operowaliśmy na DataFrame'ach)"
   ]
  },
  {
   "cell_type": "markdown",
   "metadata": {
    "id": "5qVzPRS_Utm3"
   },
   "source": [
    "#### Ładowanie zbioru danych"
   ]
  },
  {
   "cell_type": "code",
   "execution_count": 15,
   "metadata": {
    "colab": {
     "base_uri": "https://localhost:8080/"
    },
    "id": "U80qC3OhK6Jh",
    "outputId": "a8bcfbc7-0367-4361-f9b9-e7b98f01e4e6"
   },
   "outputs": [
    {
     "name": "stdout",
     "output_type": "stream",
     "text": [
      "x_train type: <class 'numpy.ndarray'>\n",
      "x_train shape: (60000, 28, 28)\n",
      "y_train type: <class 'numpy.ndarray'>\n",
      "y_train shape: (60000,)\n",
      "x_train type: <class 'numpy.ndarray'>\n",
      "x_train shape: (10000, 28, 28)\n",
      "y_train type: <class 'numpy.ndarray'>\n",
      "y_test shape: (10000,)\n"
     ]
    }
   ],
   "source": [
    "(x_train, y_train), (x_test, y_test) = tf.keras.datasets.fashion_mnist.load_data()\n",
    "assert x_train.shape == (60000, 28, 28)\n",
    "assert x_test.shape == (10000, 28, 28)\n",
    "assert y_train.shape == (60000,)\n",
    "assert y_test.shape == (10000,)\n",
    "\n",
    "print(f\"x_train type: {type(x_train)}\")\n",
    "print(f\"x_train shape: {x_train.shape}\")\n",
    "\n",
    "print(f\"y_train type: {type(y_train)}\")\n",
    "print(f\"y_train shape: {y_train.shape}\")\n",
    "\n",
    "print(f\"x_train type: {type(x_test)}\")\n",
    "print(f\"x_train shape: {x_test.shape}\")\n",
    "\n",
    "print(f\"y_train type: {type(y_test)}\")\n",
    "print(f\"y_test shape: {y_test.shape}\")"
   ]
  },
  {
   "cell_type": "code",
   "execution_count": 16,
   "metadata": {
    "id": "1x7BvshLcWuB"
   },
   "outputs": [],
   "source": [
    "class_names = ['T-shirt/top', 'Trouser', 'Pullover', 'Dress', 'Coat',\n",
    "               'Sandal', 'Shirt', 'Sneaker', 'Bag', 'Ankle boot']"
   ]
  },
  {
   "cell_type": "markdown",
   "metadata": {
    "id": "-x87EyzZStLo"
   },
   "source": [
    "Udało się wczytać i podzielić zbiór danych Fashion MNIST na zbiór trenujący i testowy.\n",
    "Widać też od razu jaka jest wymiarowość zbioru.\n",
    "Łącznie mamy 70000 obrazów do dyspozycji."
   ]
  },
  {
   "cell_type": "markdown",
   "metadata": {
    "id": "kN_R-E1cVd_O"
   },
   "source": [
    "### **Co siedzi w pojedyńczym obrazku**"
   ]
  },
  {
   "cell_type": "code",
   "execution_count": 17,
   "metadata": {
    "colab": {
     "base_uri": "https://localhost:8080/",
     "height": 265
    },
    "id": "-T9DA1HyUB_R",
    "outputId": "44890444-a14b-4bf7-a160-706454230ed7"
   },
   "outputs": [
    {
     "data": {
      "image/png": "[encoded data removed]",
      "text/plain": [
       "<Figure size 432x288 with 2 Axes>"
      ]
     },
     "metadata": {
      "needs_background": "light"
     },
     "output_type": "display_data"
    }
   ],
   "source": [
    "plt.figure()\n",
    "plt.imshow(x_train[10]) # wybieramy jakikolwiek obrazek\n",
    "plt.colorbar()\n",
    "plt.grid(False)\n",
    "plt.show()"
   ]
  },
  {
   "cell_type": "markdown",
   "metadata": {
    "id": "AxPaC2WlavF8"
   },
   "source": [
    "Widzimy, że nasze obrazki przyjmują wartości od 0 do 255 dla kolorów.\n",
    "Ponieważ chcemy zbudować model do klasyfikacji obrazków potrzebujemy znormalizować zbiór. W tym celu każdy obrazek będzie mieć znormalizowaną paletę kolorów do (0, 1) z (0, 255)"
   ]
  },
  {
   "cell_type": "code",
   "execution_count": 18,
   "metadata": {
    "id": "VS5J-02Ibliy"
   },
   "outputs": [],
   "source": [
    "x_train = x_train / 255.0\n",
    "x_test = x_test / 255.0"
   ]
  },
  {
   "cell_type": "code",
   "execution_count": 19,
   "metadata": {
    "colab": {
     "base_uri": "https://localhost:8080/",
     "height": 269
    },
    "id": "Qpqq8svpb41q",
    "outputId": "ce9f78ea-9a95-4453-884e-4348d64a568d"
   },
   "outputs": [
    {
     "data": {
      "image/png": "[encoded data removed]",
      "text/plain": [
       "<Figure size 432x288 with 2 Axes>"
      ]
     },
     "metadata": {
      "needs_background": "light"
     },
     "output_type": "display_data"
    }
   ],
   "source": [
    "plt.figure()\n",
    "plt.imshow(x_train[10])\n",
    "plt.colorbar()\n",
    "plt.grid(False)\n",
    "plt.show()"
   ]
  },
  {
   "cell_type": "markdown",
   "metadata": {
    "id": "dBB_4NPYcFVN"
   },
   "source": [
    "Wygląda jakby nasza operacja normalizacji nie zadziała, patrząc po samej kolorystyce obrazka. Zwróćmy uwagę na skalę, jednak poprawnie znormalizowaliśmy zbiór :)"
   ]
  },
  {
   "cell_type": "markdown",
   "metadata": {
    "id": "WIdMEdliW3i4"
   },
   "source": [
    "### **Inicjalizacja modelu i budowanie warstw**"
   ]
  },
  {
   "cell_type": "code",
   "execution_count": 20,
   "metadata": {
    "id": "Alzt3hQwUCF8"
   },
   "outputs": [],
   "source": [
    "model = tf.keras.Sequential([\n",
    "    tf.keras.layers.Flatten(input_shape = (28, 28)),\n",
    "    tf.keras.layers.Dense(128, activation = 'relu'), #, \n",
    "    tf.keras.layers.Dense(10, activation = 'softmax')\n",
    "])"
   ]
  },
  {
   "cell_type": "code",
   "execution_count": 21,
   "metadata": {
    "colab": {
     "base_uri": "https://localhost:8080/"
    },
    "id": "RchFLEOYUCLs",
    "outputId": "cf33b596-d703-4d6c-fcdd-7e7b91a1ffda"
   },
   "outputs": [
    {
     "name": "stdout",
     "output_type": "stream",
     "text": [
      "Model: \"sequential\"\n",
      "_________________________________________________________________\n",
      " Layer (type)                Output Shape              Param #   \n",
      "=================================================================\n",
      " flatten (Flatten)           (None, 784)               0         \n",
      "                                                                 \n",
      " dense_1 (Dense)             (None, 128)               100480    \n",
      "                                                                 \n",
      " dense_2 (Dense)             (None, 10)                1290      \n",
      "                                                                 \n",
      "=================================================================\n",
      "Total params: 101,770\n",
      "Trainable params: 101,770\n",
      "Non-trainable params: 0\n",
      "_________________________________________________________________\n"
     ]
    }
   ],
   "source": [
    "model.summary()"
   ]
  },
  {
   "cell_type": "markdown",
   "metadata": {
    "id": "XEL616q0NiSn"
   },
   "source": [
    "### **Funkcje straty**\n",
    "- binary cross entropy\n",
    "- mse\n",
    "..."
   ]
  },
  {
   "cell_type": "code",
   "execution_count": 22,
   "metadata": {
    "id": "_rVnRLayNilD"
   },
   "outputs": [],
   "source": [
    "loss = tf.keras.losses.SparseCategoricalCrossentropy()"
   ]
  },
  {
   "cell_type": "markdown",
   "metadata": {
    "id": "ndRvt0C_NdQF"
   },
   "source": [
    "### Optimizers\n",
    "- Adam\n",
    "- SGD\n",
    "- RMSprop"
   ]
  },
  {
   "cell_type": "code",
   "execution_count": 23,
   "metadata": {
    "id": "rh-DnEnpUCPk"
   },
   "outputs": [],
   "source": [
    "from tensorflow.keras.optimizers import SGD, RMSprop, Adam\n",
    "optimizer = SGD(learning_rate = 0.01)"
   ]
  },
  {
   "cell_type": "markdown",
   "metadata": {
    "id": "w4fU6yAOQSKn"
   },
   "source": [
    "### **Metryki**\n",
    "- accuracy\n",
    "- precision\n",
    "- recall"
   ]
  },
  {
   "cell_type": "code",
   "execution_count": 24,
   "metadata": {
    "id": "N_2ajXyUUCSD"
   },
   "outputs": [],
   "source": [
    "metrics = ['accuracy']"
   ]
  },
  {
   "cell_type": "code",
   "execution_count": 25,
   "metadata": {
    "id": "ZgTse8--UCVD"
   },
   "outputs": [],
   "source": [
    "model.compile(loss = loss,\n",
    "              optimizer = optimizer,\n",
    "              metrics = metrics)"
   ]
  },
  {
   "cell_type": "code",
   "execution_count": 26,
   "metadata": {
    "colab": {
     "base_uri": "https://localhost:8080/"
    },
    "id": "eAuMFFNWQ8gK",
    "outputId": "1ec29c1e-a519-452b-9347-2edcce2a7421"
   },
   "outputs": [
    {
     "name": "stdout",
     "output_type": "stream",
     "text": [
      "Epoch 1/10\n",
      "469/469 [==============================] - 1s 2ms/step - loss: 1.0572 - accuracy: 0.6722\n",
      "Epoch 2/10\n",
      "469/469 [==============================] - 1s 2ms/step - loss: 0.6879 - accuracy: 0.7753\n",
      "Epoch 3/10\n",
      "469/469 [==============================] - 1s 2ms/step - loss: 0.6045 - accuracy: 0.8008\n",
      "Epoch 4/10\n",
      "469/469 [==============================] - 1s 2ms/step - loss: 0.5598 - accuracy: 0.8138\n",
      "Epoch 5/10\n",
      "469/469 [==============================] - 1s 2ms/step - loss: 0.5306 - accuracy: 0.8229\n",
      "Epoch 6/10\n",
      "469/469 [==============================] - 1s 2ms/step - loss: 0.5097 - accuracy: 0.8277\n",
      "Epoch 7/10\n",
      "469/469 [==============================] - 1s 2ms/step - loss: 0.4939 - accuracy: 0.8322\n",
      "Epoch 8/10\n",
      "469/469 [==============================] - 1s 2ms/step - loss: 0.4810 - accuracy: 0.8358\n",
      "Epoch 9/10\n",
      "469/469 [==============================] - 1s 2ms/step - loss: 0.4705 - accuracy: 0.8389\n",
      "Epoch 10/10\n",
      "469/469 [==============================] - 1s 2ms/step - loss: 0.4617 - accuracy: 0.8420\n"
     ]
    }
   ],
   "source": [
    "history_obj = model.fit(x_train,\n",
    "                    y_train,\n",
    "                    batch_size = 128,\n",
    "                    epochs = 10)"
   ]
  },
  {
   "cell_type": "code",
   "execution_count": 36,
   "metadata": {
    "colab": {
     "base_uri": "https://localhost:8080/"
    },
    "id": "csWZqjY-SS2D",
    "outputId": "32564298-5017-4916-c64d-e3822014318d"
   },
   "outputs": [
    {
     "data": {
      "text/plain": [
       "[<matplotlib.lines.Line2D at 0x2ae6854cbc8>]"
      ]
     },
     "execution_count": 36,
     "metadata": {},
     "output_type": "execute_result"
    },
    {
     "data": {
      "image/png": "[encoded data removed]",
      "text/plain": [
       "<Figure size 432x288 with 1 Axes>"
      ]
     },
     "metadata": {
      "needs_background": "light"
     },
     "output_type": "display_data"
    }
   ],
   "source": [
    "plt.plot(history_obj.history['accuracy'])"
   ]
  },
  {
   "cell_type": "code",
   "execution_count": 37,
   "metadata": {
    "colab": {
     "base_uri": "https://localhost:8080/"
    },
    "id": "9PxsxJ4nShDY",
    "outputId": "3f526969-4503-4536-c703-51e420904f10"
   },
   "outputs": [
    {
     "data": {
      "text/plain": [
       "[<matplotlib.lines.Line2D at 0x2ae685f4188>]"
      ]
     },
     "execution_count": 37,
     "metadata": {},
     "output_type": "execute_result"
    },
    {
     "data": {
      "image/png": "[encoded data removed]",
      "text/plain": [
       "<Figure size 432x288 with 1 Axes>"
      ]
     },
     "metadata": {
      "needs_background": "light"
     },
     "output_type": "display_data"
    }
   ],
   "source": [
    "plt.plot(history_obj.history['loss'])"
   ]
  },
  {
   "cell_type": "code",
   "execution_count": 38,
   "metadata": {
    "colab": {
     "base_uri": "https://localhost:8080/"
    },
    "id": "tH5PiT1YR1OY",
    "outputId": "cd82ee76-a6f1-4edd-def9-023170ae3696"
   },
   "outputs": [
    {
     "name": "stdout",
     "output_type": "stream",
     "text": [
      "313/313 - 0s - loss: 0.4875 - accuracy: 0.8289 - 446ms/epoch - 1ms/step\n",
      "\n",
      "Test accuracy: 82.89\n"
     ]
    }
   ],
   "source": [
    "test_loss, test_acc = model.evaluate(x_test,  y_test, verbose=2)\n",
    "\n",
    "print(f'\\nTest accuracy: {round(100 * test_acc, 2)}')"
   ]
  },
  {
   "cell_type": "code",
   "execution_count": 39,
   "metadata": {
    "id": "XJsTBxQdQiZq"
   },
   "outputs": [],
   "source": [
    "def plot_image(i, predictions_array, true_label, img):\n",
    "  true_label, img = true_label[i], img[i]\n",
    "  plt.grid(False)\n",
    "  plt.xticks([])\n",
    "  plt.yticks([])\n",
    "\n",
    "  plt.imshow(img, cmap=plt.cm.binary)\n",
    "\n",
    "  predicted_label = np.argmax(predictions_array)\n",
    "  if predicted_label == true_label:\n",
    "    color = 'blue'\n",
    "  else:\n",
    "    color = 'red'\n",
    "\n",
    "  plt.xlabel(\"{} {:2.0f}% ({})\".format(class_names[predicted_label],\n",
    "                                100*np.max(predictions_array),\n",
    "                                class_names[true_label]),\n",
    "                                color=color)\n",
    "  \n",
    "def plot_value_array(i, predictions_array, true_label):\n",
    "  true_label = true_label[i]\n",
    "  plt.grid(False)\n",
    "  plt.xticks(range(10))\n",
    "  plt.yticks([])\n",
    "  thisplot = plt.bar(range(10), predictions_array, color=\"#777777\")\n",
    "  plt.ylim([0, 1])\n",
    "  predicted_label = np.argmax(predictions_array)\n",
    "\n",
    "  thisplot[predicted_label].set_color('red')\n",
    "  thisplot[true_label].set_color('blue')"
   ]
  },
  {
   "cell_type": "code",
   "execution_count": 40,
   "metadata": {
    "id": "7v-pQvsfbxuR"
   },
   "outputs": [],
   "source": [
    "model_output = model.predict(x_test)"
   ]
  },
  {
   "cell_type": "code",
   "execution_count": 41,
   "metadata": {
    "colab": {
     "base_uri": "https://localhost:8080/",
     "height": 211
    },
    "id": "Fbb1J4PiP4A1",
    "outputId": "729c4f6e-d120-4581-d6da-56430f56a238"
   },
   "outputs": [
    {
     "data": {
      "image/png": "[encoded data removed]",
      "text/plain": [
       "<Figure size 432x216 with 2 Axes>"
      ]
     },
     "metadata": {
      "needs_background": "light"
     },
     "output_type": "display_data"
    }
   ],
   "source": [
    "i = 10\n",
    "plt.figure(figsize=(6,3))\n",
    "plt.subplot(1,2,1)\n",
    "plot_image(i, model_output[i], y_test, x_test)\n",
    "plt.subplot(1,2,2)\n",
    "plot_value_array(i, model_output[i],  y_test)\n",
    "plt.show()"
   ]
  },
  {
   "cell_type": "markdown",
   "metadata": {
    "id": "kmgf8cOaG4Sx"
   },
   "source": [
    "### Spróbujmy zrobić to lepiej\n",
    "\n",
    "Planowane ulepszenia:\n",
    "- Większy model\n",
    "- Dłuższe trenowanie\n",
    "- Bardziej zaawansowany optymalizator\n",
    "- Regularyzacje\n",
    "- Dropout\n",
    "- Batch Norm"
   ]
  },
  {
   "cell_type": "code",
   "execution_count": 42,
   "metadata": {
    "id": "sWzz48rBNoSb"
   },
   "outputs": [],
   "source": [
    "from tensorflow.keras import regularizers\n",
    "from sklearn.model_selection import train_test_split\n"
   ]
  },
  {
   "cell_type": "code",
   "execution_count": 43,
   "metadata": {
    "colab": {
     "base_uri": "https://localhost:8080/"
    },
    "id": "7iSXFgt_Q-75",
    "outputId": "c3c3d0ff-4e31-4348-b2ab-2373b3d40aeb"
   },
   "outputs": [
    {
     "data": {
      "text/plain": [
       "48000"
      ]
     },
     "execution_count": 43,
     "metadata": {},
     "output_type": "execute_result"
    }
   ],
   "source": [
    "# Split datasets\n",
    "old_train_x, old_train_y = x_train, x_train\n",
    "\n",
    "train_x, val_x, train_y, val_y = train_test_split(x_train, x_train, test_size=0.2, random_state=42)\n",
    "len(train_x)"
   ]
  },
  {
   "cell_type": "code",
   "execution_count": 44,
   "metadata": {
    "id": "OMe0dn6iG4lW"
   },
   "outputs": [],
   "source": [
    "# kernel_regularizer = None\n",
    "# bias_regularizer = None\n",
    "kernel_regularizer = regularizers.l2(1e-5)\n",
    "bias_regularizer = regularizers.l2(1e-5)\n",
    "\n",
    "model = tf.keras.Sequential([\n",
    "    tf.keras.layers.Flatten(input_shape = (28, 28)),\n",
    "    tf.keras.layers.Dense(128, activation = 'relu',\n",
    "                          kernel_regularizer=kernel_regularizer,\n",
    "                          bias_regularizer=bias_regularizer),\n",
    "    tf.keras.layers.BatchNormalization(),\n",
    "    tf.keras.layers.Dropout(0.1),\n",
    "    tf.keras.layers.Dense(64, activation='relu', kernel_regularizer=kernel_regularizer,\n",
    "                          bias_regularizer=bias_regularizer),\n",
    "    tf.keras.layers.BatchNormalization(),\n",
    "    tf.keras.layers.Dropout(0.1),\n",
    "    tf.keras.layers.Dense(10, activation = 'softmax', kernel_regularizer=kernel_regularizer,\n",
    "                          bias_regularizer=bias_regularizer)\n",
    "])"
   ]
  },
  {
   "cell_type": "code",
   "execution_count": 45,
   "metadata": {
    "id": "gQXtdnOSIngZ"
   },
   "outputs": [],
   "source": [
    "loss = tf.keras.losses.SparseCategoricalCrossentropy()\n",
    "optimizer = Adam(learning_rate=0.001)\n",
    "metrics = ['accuracy']"
   ]
  },
  {
   "cell_type": "markdown",
   "metadata": {
    "id": "oim3xYTjUPNb"
   },
   "source": [
    "### **Wszystko w jednej funkcji**"
   ]
  },
  {
   "cell_type": "code",
   "execution_count": 46,
   "metadata": {
    "id": "kw5ZRpy6K5hg"
   },
   "outputs": [],
   "source": [
    "def train_function(model, x_train, y_train, loss, optimizer, metrics=['accuracy'], batch_size=128, epochs=10):\n",
    "    \n",
    "    train_x, val_x, train_y, val_y = train_test_split(x_train, y_train, test_size=0.2, random_state=42)\n",
    "    \n",
    "    model.compile(\n",
    "        loss=loss,\n",
    "        optimizer=optimizer,\n",
    "        metrics=metrics\n",
    "    )\n",
    "    early_stopping = tf.keras.callbacks.EarlyStopping(\n",
    "        monitor='val_loss',\n",
    "        patience=5,\n",
    "        restore_best_weights=False\n",
    "    )\n",
    "\n",
    "    history = model.fit(\n",
    "        train_x,\n",
    "        train_y,\n",
    "        batch_size=batch_size,\n",
    "        epochs=epochs,\n",
    "        callbacks=[early_stopping],\n",
    "        validation_data=(val_x, val_y)\n",
    "    )\n",
    "\n",
    "    return model, history.epoch, history.history"
   ]
  },
  {
   "cell_type": "code",
   "execution_count": 49,
   "metadata": {
    "colab": {
     "base_uri": "https://localhost:8080/"
    },
    "id": "QI-N3wOqHw8g",
    "outputId": "21701388-f194-4adb-e803-4e2b38574208"
   },
   "outputs": [
    {
     "name": "stdout",
     "output_type": "stream",
     "text": [
      "Epoch 1/100\n",
      "375/375 [==============================] - 2s 4ms/step - loss: 0.2936 - accuracy: 0.8935 - val_loss: 0.3607 - val_accuracy: 0.8745\n",
      "Epoch 2/100\n",
      "375/375 [==============================] - 1s 3ms/step - loss: 0.2878 - accuracy: 0.8955 - val_loss: 0.3427 - val_accuracy: 0.8787\n",
      "Epoch 3/100\n",
      "375/375 [==============================] - 1s 3ms/step - loss: 0.2824 - accuracy: 0.8982 - val_loss: 0.3340 - val_accuracy: 0.8818\n",
      "Epoch 4/100\n",
      "375/375 [==============================] - 1s 3ms/step - loss: 0.2730 - accuracy: 0.9006 - val_loss: 0.3350 - val_accuracy: 0.8822\n",
      "Epoch 5/100\n",
      "375/375 [==============================] - 1s 3ms/step - loss: 0.2745 - accuracy: 0.9007 - val_loss: 0.3477 - val_accuracy: 0.8806\n",
      "Epoch 6/100\n",
      "375/375 [==============================] - 1s 3ms/step - loss: 0.2694 - accuracy: 0.9016 - val_loss: 0.3480 - val_accuracy: 0.8796\n",
      "Epoch 7/100\n",
      "375/375 [==============================] - 1s 3ms/step - loss: 0.2612 - accuracy: 0.9053 - val_loss: 0.3658 - val_accuracy: 0.8785\n",
      "Epoch 8/100\n",
      "375/375 [==============================] - 1s 3ms/step - loss: 0.2611 - accuracy: 0.9059 - val_loss: 0.3713 - val_accuracy: 0.8717\n"
     ]
    }
   ],
   "source": [
    "### Training here\n",
    "_, _, history = train_function(model, x_train, y_train, loss, optimizer, batch_size=128, epochs=100)"
   ]
  },
  {
   "cell_type": "code",
   "execution_count": 64,
   "metadata": {},
   "outputs": [
    {
     "data": {
      "text/plain": [
       "<matplotlib.legend.Legend at 0x2ae69b2e388>"
      ]
     },
     "execution_count": 64,
     "metadata": {},
     "output_type": "execute_result"
    },
    {
     "data": {
      "image/png": "[encoded data removed]",
      "text/plain": [
       "<Figure size 432x288 with 1 Axes>"
      ]
     },
     "metadata": {
      "needs_background": "light"
     },
     "output_type": "display_data"
    }
   ],
   "source": [
    "plt.plot(history['loss'], label=\"train_loss\")\n",
    "plt.plot(history['val_loss'], label=\"val_loss\")\n",
    "\n",
    "plt.legend(loc=2)"
   ]
  },
  {
   "cell_type": "code",
   "execution_count": 65,
   "metadata": {},
   "outputs": [
    {
     "data": {
      "text/plain": [
       "<matplotlib.legend.Legend at 0x2ae69bc4308>"
      ]
     },
     "execution_count": 65,
     "metadata": {},
     "output_type": "execute_result"
    },
    {
     "data": {
      "image/png": "[encoded data removed]",
      "text/plain": [
       "<Figure size 432x288 with 1 Axes>"
      ]
     },
     "metadata": {
      "needs_background": "light"
     },
     "output_type": "display_data"
    }
   ],
   "source": [
    "plt.plot(history['accuracy'], label='train_accuracy')\n",
    "plt.plot(history['val_accuracy'], label='val_accuracy')\n",
    "plt.legend()"
   ]
  },
  {
   "cell_type": "code",
   "execution_count": 66,
   "metadata": {
    "colab": {
     "base_uri": "https://localhost:8080/"
    },
    "id": "Mp-fGVd5HxOu",
    "outputId": "d23143f7-49ac-4279-868a-1f46b9d9810a"
   },
   "outputs": [
    {
     "name": "stdout",
     "output_type": "stream",
     "text": [
      "313/313 - 0s - loss: 0.4044 - accuracy: 0.8608 - 339ms/epoch - 1ms/step\n",
      "\n",
      "Test accuracy: 86.08\n"
     ]
    }
   ],
   "source": [
    "test_loss, test_acc = model.evaluate(x_test,  y_test, verbose=2)\n",
    "\n",
    "print(f'\\nTest accuracy: {round(100 * test_acc, 2)}')"
   ]
  }
 ],
 "metadata": {
  "accelerator": "GPU",
  "colab": {
   "collapsed_sections": [
    "KcMqBW4b6Tse",
    "VBorj9g73xw-",
    "OAw5gTlj0t7J",
    "wZGPGZ0956HQ",
    "om--QEw856y-"
   ],
   "name": "keras.ipynb",
   "provenance": []
  },
  "kernelspec": {
   "display_name": "Python 3 (ipykernel)",
   "language": "python",
   "name": "python3"
  },
  "language_info": {
   "codemirror_mode": {
    "name": "ipython",
    "version": 3
   },
   "file_extension": ".py",
   "mimetype": "text/x-python",
   "name": "python",
   "nbconvert_exporter": "python",
   "pygments_lexer": "ipython3",
   "version": "3.7.11"
  }
 },
 "nbformat": 4,
 "nbformat_minor": 1
}
